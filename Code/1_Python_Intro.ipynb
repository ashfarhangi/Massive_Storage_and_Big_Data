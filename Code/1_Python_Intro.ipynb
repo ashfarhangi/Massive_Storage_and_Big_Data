{
  "nbformat": 4,
  "nbformat_minor": 0,
  "metadata": {
    "colab": {
      "name": "1_Python_Intro.ipynb",
      "provenance": [],
      "collapsed_sections": [],
      "authorship_tag": "ABX9TyNPeOU3f7lJZLxvNO3zzmTv",
      "include_colab_link": true
    },
    "kernelspec": {
      "name": "python3",
      "display_name": "Python 3"
    }
  },
  "cells": [
    {
      "cell_type": "markdown",
      "metadata": {
        "id": "view-in-github",
        "colab_type": "text"
      },
      "source": [
        "<a href=\"https://colab.research.google.com/github/ashfarhangi/Massive_Storage_and_Big_Data/blob/master/1_Python_Intro.ipynb\" target=\"_parent\"><img src=\"https://colab.research.google.com/assets/colab-badge.svg\" alt=\"Open In Colab\"/></a>"
      ]
    },
    {
      "cell_type": "markdown",
      "metadata": {
        "id": "1zZNBwqCwYaX",
        "colab_type": "text"
      },
      "source": [
        "# Introduction to Python and Linux Environment"
      ]
    },
    {
      "cell_type": "markdown",
      "metadata": {
        "id": "Lca92-mKwbRv",
        "colab_type": "text"
      },
      "source": [
        "In this notebook we get familiar with basics of python for the Massive Storage and Big Data "
      ]
    },
    {
      "cell_type": "code",
      "metadata": {
        "id": "Wbd4hONeKcGV",
        "colab_type": "code",
        "colab": {
          "base_uri": "https://localhost:8080/",
          "height": 34
        },
        "outputId": "ecd8bddf-9424-4c79-98b1-c2260aa6d7bb"
      },
      "source": [
        "from psutil import *\n",
        "cpu_count()\n"
      ],
      "execution_count": null,
      "outputs": [
        {
          "output_type": "execute_result",
          "data": {
            "text/plain": [
              "2"
            ]
          },
          "metadata": {
            "tags": []
          },
          "execution_count": 31
        }
      ]
    },
    {
      "cell_type": "code",
      "metadata": {
        "id": "7-o2CWv3Kk2v",
        "colab_type": "code",
        "colab": {}
      },
      "source": [
        "#!cat /proc/cpuinfo"
      ],
      "execution_count": null,
      "outputs": []
    },
    {
      "cell_type": "code",
      "metadata": {
        "id": "ywiC1ITjKsTk",
        "colab_type": "code",
        "colab": {}
      },
      "source": [
        "#!df -h"
      ],
      "execution_count": null,
      "outputs": []
    },
    {
      "cell_type": "code",
      "metadata": {
        "id": "4BfS5_NBKwz-",
        "colab_type": "code",
        "colab": {}
      },
      "source": [
        "#!cat /proc/meminfo"
      ],
      "execution_count": null,
      "outputs": []
    },
    {
      "cell_type": "code",
      "metadata": {
        "id": "gzY5IEb6K7jG",
        "colab_type": "code",
        "colab": {}
      },
      "source": [
        "# !lscpu |grep 'Model name'"
      ],
      "execution_count": null,
      "outputs": []
    },
    {
      "cell_type": "markdown",
      "metadata": {
        "id": "DXcGi8Q5xfaO",
        "colab_type": "text"
      },
      "source": [
        "# Librart Installation:"
      ]
    },
    {
      "cell_type": "code",
      "metadata": {
        "id": "I11pIuwdJlY7",
        "colab_type": "code",
        "colab": {
          "base_uri": "https://localhost:8080/",
          "height": 34
        },
        "outputId": "751a6aa0-69b4-4a5f-c34c-8c09757ca54e"
      },
      "source": [
        "!python --version"
      ],
      "execution_count": null,
      "outputs": [
        {
          "output_type": "stream",
          "text": [
            "Python 3.6.9\n"
          ],
          "name": "stdout"
        }
      ]
    },
    {
      "cell_type": "code",
      "metadata": {
        "id": "0_cf090xxnt1",
        "colab_type": "code",
        "colab": {
          "base_uri": "https://localhost:8080/",
          "height": 34
        },
        "outputId": "f411c86c-ffb2-4b28-db82-c009ff5ba6bc"
      },
      "source": [
        "!conda list"
      ],
      "execution_count": null,
      "outputs": [
        {
          "output_type": "stream",
          "text": [
            "/bin/bash: conda: command not found\n"
          ],
          "name": "stdout"
        }
      ]
    },
    {
      "cell_type": "markdown",
      "metadata": {
        "id": "1ZrAddkbvzjL",
        "colab_type": "text"
      },
      "source": [
        "# Library import\n",
        "\n"
      ]
    },
    {
      "cell_type": "markdown",
      "metadata": {
        "id": "fyIXj0JQwh6r",
        "colab_type": "text"
      },
      "source": [
        "We import all the required Python libraries\n",
        "\n"
      ]
    },
    {
      "cell_type": "code",
      "metadata": {
        "id": "5IyCkJ3YvxXZ",
        "colab_type": "code",
        "colab": {}
      },
      "source": [
        "# Data manipulation\n",
        "import pandas as pd\n",
        "import numpy as np\n",
        "# Custom table visualization \n",
        "pd.options.display.max_columns = 50\n",
        "pd.options.display.max_rows = 30\n"
      ],
      "execution_count": null,
      "outputs": []
    },
    {
      "cell_type": "markdown",
      "metadata": {
        "id": "Hox7eRQJwroa",
        "colab_type": "text"
      },
      "source": [
        "# References:\n"
      ]
    },
    {
      "cell_type": "markdown",
      "metadata": {
        "id": "zGnvbaACwwJt",
        "colab_type": "text"
      },
      "source": [
        ""
      ]
    }
  ]
}