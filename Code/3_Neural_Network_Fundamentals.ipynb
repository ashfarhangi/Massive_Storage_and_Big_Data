{
  "nbformat": 4,
  "nbformat_minor": 0,
  "metadata": {
    "colab": {
      "name": "Copy of 3_Neural_Network_Fundamentals.ipynb",
      "provenance": [],
      "authorship_tag": "ABX9TyPiq+hS3bAMNYVHUjHw/FdX",
      "include_colab_link": true
    },
    "kernelspec": {
      "name": "python3",
      "display_name": "Python 3"
    }
  },
  "cells": [
    {
      "cell_type": "markdown",
      "metadata": {
        "id": "view-in-github",
        "colab_type": "text"
      },
      "source": [
        "<a href=\"https://colab.research.google.com/github/ashfarhangi/Massive_Storage_and_Big_Data/blob/master/Code/3_Neural_Network_Fundamentals.ipynb\" target=\"_parent\"><img src=\"https://colab.research.google.com/assets/colab-badge.svg\" alt=\"Open In Colab\"/></a>"
      ]
    },
    {
      "cell_type": "markdown",
      "metadata": {
        "id": "VNXw4bnXpCMY",
        "colab_type": "text"
      },
      "source": [
        "# NN fundamentals"
      ]
    },
    {
      "cell_type": "markdown",
      "metadata": {
        "id": "b3ULO133pMYS",
        "colab_type": "text"
      },
      "source": [
        "# Basics of NN with Tensorflow\n",
        "\n"
      ]
    },
    {
      "cell_type": "markdown",
      "metadata": {
        "id": "-Buct4eae5-x",
        "colab_type": "text"
      },
      "source": [
        "**Scikit-learn**\n",
        "\n",
        "An extremely popular Machine Learning library for python.\n",
        "\n",
        "**Perceptrons**\n",
        "\n",
        "The simplest form of a neural network.\n",
        "\n",
        "**Gradient Descent**\n",
        "\n",
        "A process by which Machine Learning algorithms learn to improve themselves based on the accuracy of their predictions. You'll learn more about this in upcoming lessons.\n",
        "\n",
        "**Backpropagation**\n",
        "\n",
        "The process by which neural networks learn how to improve individual parameters. You'll learn all about this in the upcoming lessons.\n",
        "\n",
        "**Numpy**\n",
        "\n",
        "An extremely popular library for scientific computing in python.\n",
        "\n",
        "**Tensorflow**\n",
        "\n",
        "One of the most popular python libraries for creating neural networks. It is maintained by Google.\n"
      ]
    },
    {
      "cell_type": "code",
      "metadata": {
        "id": "2Pvh0A_ho4Jw",
        "colab_type": "code",
        "colab": {
          "base_uri": "https://localhost:8080/",
          "height": 34
        },
        "outputId": "e591fc1f-222f-4e35-9da3-fecd2e379631"
      },
      "source": [
        "import pandas as pd\n",
        "import matplotlib.pyplot as plt\n",
        "import numpy as np\n",
        "import tensorflow as tf\n",
        "\n",
        "print(\"Tensorflow version: {}\".format(tf.__version__))"
      ],
      "execution_count": null,
      "outputs": [
        {
          "output_type": "stream",
          "text": [
            "Tensorflow version: 2.3.0\n"
          ],
          "name": "stdout"
        }
      ]
    },
    {
      "cell_type": "code",
      "metadata": {
        "id": "ebgUWpf7pLN7",
        "colab_type": "code",
        "colab": {}
      },
      "source": [
        ""
      ],
      "execution_count": null,
      "outputs": []
    }
  ]
}