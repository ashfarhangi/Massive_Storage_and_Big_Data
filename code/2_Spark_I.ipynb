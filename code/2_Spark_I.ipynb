{
  "nbformat": 4,
  "nbformat_minor": 0,
  "metadata": {
    "colab": {
      "name": "1_Spark_Introduction.ipynb",
      "provenance": [],
      "collapsed_sections": [
        "jmDMadIINMg2",
        "1zZNBwqCwYaX",
        "DXcGi8Q5xfaO",
        "TRuiDe6S7L4A",
        "1ZrAddkbvzjL",
        "wHvm2hstum1K",
        "Ew3obhMGvObi",
        "EGLw6qG6mFul"
      ],
      "authorship_tag": "ABX9TyO3en/l+DmUETP+ikdIS1O+",
      "include_colab_link": true
    },
    "kernelspec": {
      "name": "python3",
      "display_name": "Python 3"
    },
    "accelerator": "TPU"
  },
  "cells": [
    {
      "cell_type": "markdown",
      "metadata": {
        "id": "view-in-github",
        "colab_type": "text"
      },
      "source": [
        "<a href=\"https://colab.research.google.com/github/ashfarhangi/Massive_Storage_and_Big_Data/blob/master/code/1_Spark_Introduction.ipynb\" target=\"_parent\"><img src=\"https://colab.research.google.com/assets/colab-badge.svg\" alt=\"Open In Colab\"/></a>"
      ]
    },
    {
      "cell_type": "markdown",
      "metadata": {
        "id": "jmDMadIINMg2",
        "colab_type": "text"
      },
      "source": [
        "# Topics\n",
        "- Using functions and conditions in Python\n",
        "- Spark installation and Running our first code\n",
        "- Advantages of Spark compared to Python"
      ]
    },
    {
      "cell_type": "markdown",
      "metadata": {
        "id": "dMycjOvBNePJ",
        "colab_type": "text"
      },
      "source": [
        "# Python Basics II: Functions\n",
        "In this class we learn about using functions and conditions in further imporving our Python abilities"
      ]
    },
    {
      "cell_type": "code",
      "metadata": {
        "id": "GZtYcmqa6TDI",
        "colab_type": "code",
        "colab": {}
      },
      "source": [
        "z = a * b"
      ],
      "execution_count": null,
      "outputs": []
    },
    {
      "cell_type": "code",
      "metadata": {
        "id": "ix8J1rFsbKYK",
        "colab_type": "code",
        "colab": {}
      },
      "source": [
        "def mult(inp1,inp2):\n",
        "  z = inp1 * inp2\n",
        "  print(z)   "
      ],
      "execution_count": null,
      "outputs": []
    },
    {
      "cell_type": "code",
      "metadata": {
        "id": "0Fvwvccv6jff",
        "colab_type": "code",
        "colab": {}
      },
      "source": [
        "a=[3,4,5,6,7,12]\n",
        "for element in a:\n",
        "\n",
        "  if (element>=7):\n",
        "    print(element)\n",
        "  else:\n",
        "      print('not happy')\n",
        "# if (x>7):\n",
        "#   print(x)\n"
      ],
      "execution_count": null,
      "outputs": []
    },
    {
      "cell_type": "markdown",
      "metadata": {
        "id": "EbSdTclZOEeT",
        "colab_type": "text"
      },
      "source": [
        "##  Take-Home Activity: \n",
        "- **Write a program that prints the greatest common divisors of each pair of values in the list below:**\n",
        "  - You can use the NumPy `np.gcd` command for finding the greatest common divisors of two values\n",
        "\n"
      ]
    },
    {
      "cell_type": "code",
      "metadata": {
        "id": "WWXBuwWY8fE_",
        "colab_type": "code",
        "colab": {}
      },
      "source": [
        "import numpy as np\n",
        "answer = np.gcd(15,100)\n",
        "print('gcd of',15,'&',45,' is: ',answer)\n"
      ],
      "execution_count": null,
      "outputs": []
    },
    {
      "cell_type": "code",
      "metadata": {
        "id": "PLTrGLp1OECT",
        "colab_type": "code",
        "colab": {}
      },
      "source": [
        "numbersList = [12,45,12,89,100,15,85]\n",
        "'''\n",
        "answer = np.gcd(15,45)\n",
        "print('gcd of',15,'&',45,' is: ')\n",
        "'''\n"
      ],
      "execution_count": null,
      "outputs": []
    },
    {
      "cell_type": "markdown",
      "metadata": {
        "id": "1zZNBwqCwYaX",
        "colab_type": "text"
      },
      "source": [
        "# Introduction to Spark"
      ]
    },
    {
      "cell_type": "markdown",
      "metadata": {
        "id": "Lca92-mKwbRv",
        "colab_type": "text"
      },
      "source": [
        "\n",
        "\n",
        "In this notebook we get familiar with basics of Spark in python by using PySpark package.\n"
      ]
    },
    {
      "cell_type": "markdown",
      "metadata": {
        "id": "DXcGi8Q5xfaO",
        "colab_type": "text"
      },
      "source": [
        "## Library Installation:"
      ]
    },
    {
      "cell_type": "code",
      "metadata": {
        "id": "0_cf090xxnt1",
        "colab_type": "code",
        "colab": {}
      },
      "source": [
        "!pip install pyspark\n",
        "import os\n",
        "import sys\n",
        "from pyspark import SparkContext, SparkConf\n",
        "from pyspark.sql import SQLContext, SparkSession\n"
      ],
      "execution_count": null,
      "outputs": []
    },
    {
      "cell_type": "markdown",
      "metadata": {
        "id": "TRuiDe6S7L4A",
        "colab_type": "text"
      },
      "source": [
        "## Downloading Spark\n",
        "Apache will host the latest links for the spark. \n",
        "\n",
        "Please update the download link of cell below if you encountered error. \n"
      ]
    },
    {
      "cell_type": "code",
      "metadata": {
        "id": "o-RllvXy9hYu",
        "colab_type": "code",
        "colab": {
          "base_uri": "https://localhost:8080/",
          "height": 206
        },
        "outputId": "03dbc09d-c222-4b87-9ade-0ac0dcaf858f"
      },
      "source": [
        "!wget https://downloads.apache.org/spark/spark-3.0.1/spark-3.0.1-bin-hadoop2.7.tgz\n"
      ],
      "execution_count": null,
      "outputs": [
        {
          "output_type": "stream",
          "text": [
            "--2020-09-16 22:08:20--  https://downloads.apache.org/spark/spark-3.0.1/spark-3.0.1-bin-hadoop2.7.tgz\n",
            "Resolving downloads.apache.org (downloads.apache.org)... 88.99.95.219, 2a01:4f8:10a:201a::2\n",
            "Connecting to downloads.apache.org (downloads.apache.org)|88.99.95.219|:443... connected.\n",
            "HTTP request sent, awaiting response... 200 OK\n",
            "Length: 219929956 (210M) [application/x-gzip]\n",
            "Saving to: ‘spark-3.0.1-bin-hadoop2.7.tgz.2’\n",
            "\n",
            "spark-3.0.1-bin-had 100%[===================>] 209.74M  25.4MB/s    in 9.0s    \n",
            "\n",
            "2020-09-16 22:08:29 (23.4 MB/s) - ‘spark-3.0.1-bin-hadoop2.7.tgz.2’ saved [219929956/219929956]\n",
            "\n"
          ],
          "name": "stdout"
        }
      ]
    },
    {
      "cell_type": "code",
      "metadata": {
        "id": "aP3Kjhx61EGO",
        "colab_type": "code",
        "colab": {}
      },
      "source": [
        "import os\n",
        "!wget https://downloads.apache.org/spark/spark-3.0.1/spark-3.0.1-bin-hadoop2.7.tgz\n",
        "!tar -xvf /content/spark-3.0.1-bin-hadoop2.7.tgz\n",
        "os.environ[\"SPARK_HOME\"] = \"/content/spark-3.0.1-bin-hadoop2.7\""
      ],
      "execution_count": null,
      "outputs": []
    },
    {
      "cell_type": "code",
      "metadata": {
        "id": "oGn4hi9jzKoY",
        "colab_type": "code",
        "colab": {}
      },
      "source": [
        "sc = SparkContext.getOrCreate(SparkConf().setMaster(\"local[*]\"))\n",
        "spark = SparkSession \\\n",
        "    .builder \\\n",
        "    .getOrCreate()"
      ],
      "execution_count": null,
      "outputs": []
    },
    {
      "cell_type": "code",
      "metadata": {
        "id": "enAbCy3a0-6H",
        "colab_type": "code",
        "colab": {
          "base_uri": "https://localhost:8080/",
          "height": 34
        },
        "outputId": "b36d0429-2c48-492a-8c4d-c899c03bff1e"
      },
      "source": [
        "words = [\"Hello\", \"Spark\", \"I am here\",'Happe','Spark']\n",
        "sc.parallelize(words).count()"
      ],
      "execution_count": null,
      "outputs": [
        {
          "output_type": "execute_result",
          "data": {
            "text/plain": [
              "5"
            ]
          },
          "metadata": {
            "tags": []
          },
          "execution_count": 125
        }
      ]
    },
    {
      "cell_type": "code",
      "metadata": {
        "id": "2JI7zgTEupXG",
        "colab_type": "code",
        "colab": {}
      },
      "source": [
        "df = spark.read.text(\"/content/songs-logs.txt\")"
      ],
      "execution_count": null,
      "outputs": []
    },
    {
      "cell_type": "code",
      "metadata": {
        "id": "IzTncJ9YwlEN",
        "colab_type": "code",
        "colab": {}
      },
      "source": [
        "!wget -q https://raw.githubusercontent.com/ashfarhangi/Reinforcement-Learning-Trading/master/review.txt\n",
        "import pandas as pd\n",
        "a = spark.read.text('/content/review.txt')"
      ],
      "execution_count": null,
      "outputs": []
    },
    {
      "cell_type": "code",
      "metadata": {
        "id": "LttIJvN__lIK",
        "colab_type": "code",
        "colab": {
          "base_uri": "https://localhost:8080/",
          "height": 894
        },
        "outputId": "bea1e73b-6d4f-41a9-9b7e-cb0ecfc9200d"
      },
      "source": [
        "lines = sc.textFile(\"review.txt\")\n",
        "# lines.count()\n",
        "# lines.take(15)\n",
        "lines.take(50)"
      ],
      "execution_count": null,
      "outputs": [
        {
          "output_type": "execute_result",
          "data": {
            "text/plain": [
              "['{\"reviewerID\": \"A1R3P8MRFSN4X3\", \"asin\": \"6301955250\", \"reviewText\": \"The plot and suspense are only so-so, but Ray Sharkey turned what might have been an ordinary world-weary, alcoholic cop role into a textured character with interesting nuances of toughness, sweetness, and struggle against hopeless odds. This performance profoundly touching without sentimentalism.  If only Beecroft had played the killer with comparable power, this could have been a fascinating good-guy-vs-his-demon dual.  As it is, for anyone interested in character acting, it\\'s a real feast. END\", \"overall\": 4.0, \"reviewTime\": \"08 9, 1997\"}',\n",
              " '{\"reviewerID\": \"AVM91SKZ9M58T\", \"asin\": \"B000002KXA\", \"reviewText\": \"This remix and single version of Madonna\\'s song Resume Me [Immaculate Collection Album] is one of Madonna\\'s best. Not only does it show the true ability of Madonna\\'s vocal ability but the power this song brings to your heart. Madonna\\'s voice in this single is unlike any other song she has sang, beautifully put together and mastered. A song everyone remembers from Madonna\\'s long list of credits. This CD is one not to miss either you love Madonna or love-to-hate her, you must have it, a collection item!!! END\", \"overall\": 5.0, \"reviewTime\": \"08 10, 1997\"}',\n",
              " '{\"reviewerID\": \"A1HC72VDRLANIW\", \"asin\": \"6303935419\", \"reviewText\": \"I found reefer madness to be a &quot;DRAG&quot; of a movie it was explotive Boring and contained not one piece of storyline that was even mildly intresting whatsoever the actors were amateur the ending was like something you would expect to see in some kindergarden play put together in about five minutes. The only satifying point of the movie was the closing credites because you realize this piece of garbage is over. The plot is about as complicated as a roadrunner cartoon some kid\\'s try marjuana get hooked on it kill a women ,run over a man with a car, get sent to jai,l go crazy and get put into an institution . If you enjoy boring pieces of garbage this movies for you... END\", \"overall\": 1.0, \"reviewTime\": \"08 19, 1997\"}',\n",
              " '{\"reviewerID\": \"A2XBTS97FERY2Q\", \"asin\": \"6302049040\", \"reviewText\": \"This is a wide ranging musical comedy done in the style of post-depression era musicals, including brilliant performances from Steve Martin, Bernadette Peters, and Christopher Walken.  One might take the movie literally as a love story, but upon further consideration we see that it\\'s actually a movie dedicated to the upbeat songs and movies of days long gone by.  I recommend movie highly as it is sometimes boisterous, and other times delicately romantic, but all the while very entertaining.  @see-also &quot;Radio Days&quot; END\", \"overall\": 5.0, \"reviewTime\": \"08 23, 1997\"}',\n",
              " '{\"reviewerID\": \"A1QEOOUQ8M0E1K\", \"asin\": \"0672307952\", \"reviewText\": \"Although this book was a good introduction to the Visual C++ interface, the subject matter was too limited to be of any future use.  The &quot;just type this, don\\'t worry how it works&quot; philosophy of the authors does not work well.  As a result, many users such as myself have had a hard time customizing the code for our own usage.  It would help if the authors would explain the code in more detail.However, the basics of producing good quality programs were covered well, but the architecture of Windows and event-driven programming were not covered in good detail.  I strongly believe that understanding the code is just as important as producing a program that incorporates a good user interface and that provides rich functionality.That brings me to my third point: the book concentrates too much on producing the program GUI and not enough on data handling and the refined Input-Output functions of the new MFC.  The book does not go into enough detail about the data control in a program and object hierarchies of the MFC.Overall, this book was a good introduction, but any expectations beyond that were not satisfied with the reading of this book\", \"overall\": 2.0, \"reviewTime\": \"08 25, 1997\"}',\n",
              " '{\"reviewerID\": \"ALEBTW1HIOIEU\", \"asin\": \"B000002OKC\", \"reviewText\": \"This 16-song compilation of western swing includes: San Antonio Rose, Lilly Dale, Texas Two Step, and Big Ball in Cowtown.  [...] END\", \"overall\": 5.0, \"reviewTime\": \"08 26, 1997\"}',\n",
              " '{\"reviewerID\": \"A1WE9G1S8VY01K\", \"asin\": \"0758211694\", \"reviewText\": \"This book was a great mystery as it was set up with many possible suspects. It was exciting as well as funny, and you found yourself cheering on the &quot; three blond mice&quot; in their quest for happiness. A great read\", \"overall\": 5.0, \"reviewTime\": \"09 2, 1997\"}',\n",
              " '{\"reviewerID\": \"A3MIU1UTFCY3BK\", \"asin\": \"6304174616\", \"reviewText\": \"This classic set of 26 epsidoes was aired in the United States in the late 1970s and early 1980s.  There were three seperate series, this being the first.  Earth is under attack by evil aliens in the future and the only hope is to refit the old World War II battleship, the Yamato.  It becomes the Argo and watch it begin its quest.  Most men 20-30 will probably remember this show from our childhood. END\", \"overall\": 5.0, \"reviewTime\": \"09 3, 1997\"}',\n",
              " '{\"reviewerID\": \"A8OUAXOC46SHP\", \"asin\": \"0802132758\", \"reviewText\": \"Ever wonder whether you were the hero of your life or just a minor character in someone else\\'s?Stoppard explores this premise brilliantly in this revisiting of Shakespeare\\'s Hamlet, this time seen through the eyes of two bit-players in that great drama: Rosencrantz &amp; Guildenstern, hapless drifters caught in a whirl of fate and trying to figure out their place in the universe.With dialogue that cracks like a whip and a truly dizzying plot, we follow these two curious men attempt to make sense of the strange dramatic world into which they\\'ve been thrust. As this play weaves into &amp; back out of Shakespeare\\'s original, we are treated to a dazzling display of slapstick existentialism.Stoppard has created a contemporary classic that is every bit as entertaining as it is disturbing\", \"overall\": 5.0, \"reviewTime\": \"09 3, 1997\"}',\n",
              " '{\"reviewerID\": \"A11M80USOXYAG1\", \"asin\": \"B000000LWZ\", \"reviewText\": \"It was while driving on Highway 83, heading off to work, that I first came into contact with the voice of Mary Black. There I was driving along, humming, meandering among my thoughts whle traveling the blacktop when over the radio poured out a voice smooth as water with a depth and beautiful tonality that grabbed at my heart from the first note. Her &quot;Song of Ireland&quot; which is featured on this C.D. is not only my favorite song of hers but my favorite song of all. The words, the music, the melody line, and finally her voice combine to create not just a song but an experience. I was transported and frozen deep in listening while driving in the early morning traffic. Even after the last note dissapeared and I had scrambled to jot down the name of this amazing singer as the D.J. announced it, her song, her voice, stayed with me making my day that much brighter, more perfect, certianly more enjoyable.  Mary Black\\'s voice is an experince no true music lover should be without and I highly recommend this C.D. END\", \"overall\": 5.0, \"reviewTime\": \"09 8, 1997\"}',\n",
              " '{\"reviewerID\": \"A3D50ZQNN9BEZF\", \"asin\": \"630265288X\", \"reviewText\": \"This is a fun all over body workout, you can do it all at once or just do the aerobics one day and the toning section the next. It is clearly labeled. This tape is about all you need to get in shape. Kathy Kaehler is great. END\", \"overall\": 5.0, \"reviewTime\": \"09 12, 1997\"}',\n",
              " '{\"reviewerID\": \"A187I4PIEUMOLT\", \"asin\": \"B000002H3Z\", \"reviewText\": \"This isn\\'t actually a book. It is a beautifully-crafted CD by a wonderful no-longer-together band called the Housemartins. I recommend it to anyone who knows and loves the Beautiful South or bands like Trash Can Sinatras, Stephen Duffy, Barenaked Ladies, etc. London 0/Hull 4 is the first disc by this brilliant group. Buy it today!! END\", \"overall\": 5.0, \"reviewTime\": \"09 13, 1997\"}',\n",
              " '{\"reviewerID\": \"A2QDKEH23ZSD5N\", \"asin\": \"6304071841\", \"reviewText\": \"I thought the way they used symbolism in this movie  was incredible!  The most obvious was the water, which some people hated, but I thought it was very emotionally pulling.  Leonardo DiCaprio is, dare I say it, one of the best, if not THE best actor of my generation. He stays true to his reputation in the modernization of this classic.  We have to remember that when Shakespeare  used this language, the phrases were not cliches, as they  are now.  Leonardo and Claire Danes display the freshness  and vitality that the words originally had. I do have to say,  however, that the music is so loud at some points, you can hardly hear the words.  All around it\\'s an excellent  piece. END\", \"overall\": 5.0, \"reviewTime\": \"09 14, 1997\"}',\n",
              " '{\"reviewerID\": \"A3RJTOGIIWI5JH\", \"asin\": \"B000005KU6\", \"reviewText\": \"The songs on  Going Public have a good beat and good tunes. but also ahve very valuable messages.  I\\'d like to thank Peter Furler, Jody Davis, John James, Kevin mills, and Dunny Phillips for taking a stand for Jesus and helping a lot of kids along.  It can\\'t be easybeing so public about Christ, but here these men are helping kids along wiht it to.  While teh rest of the worl was doing the macerena, we were al doing the &quot;Shine&quot;.  I want to let all teh Newsboys know that I am trying to shine and be public about my faith in Christ.  Thanx guys. END\", \"overall\": 5.0, \"reviewTime\": \"09 19, 1997\"}',\n",
              " '{\"reviewerID\": \"A19OSOMXVZY5PI\", \"asin\": \"630197834X\", \"reviewText\": \"This was the first Vivien Leigh movie I\\'ve seen other than Gone With the Wind and, although I was a bit afraid that I\\'d be dissapointed by her acting after her flawless performance as Scarlett O\\'Hara, my reaction to Waterloo Bridge was the exact opposite of what I\\'d feared it would be.The story takes place in London during World War I. Myra Lester, a ballet dancer (Vivien Leigh)  and Roy Cronin, a military captain (Robert Taylor) have a chance meeting on Waterloo Bridge  during an air raid, and it is &quot;love at first sight.&quot; They attempt to get married but it is not to be, for Roy is called away before they can. Myra and her friend Kitty are kicked out of ballet class and are forced to fend for themselves. Believing Roy to be dead, and being destitute, Myra turns to prostitution. However, he returns from the war, alive after all, and takes Myra to his country home in Scotland, where the couple is soon to be wed. But Myra, not wanting to dishonor Roy, finds that she cannot marry him. She returns to London and there, at Waterloo Bridge, kills  herself. However, Roy, dicovering what she\\'d been hiding from him but moments too late, vows  to always love her and never forget her.Although this movie ends tragically, it is definitely not one to be missed. The storyline is well thought out and the acting superb. The main characters are also well-defined. Myra is a sweet,  lovable girl whom demands your compassion, while Roy is the perfect man--sensitive, handsome,  and rich. ;^) From the very beginning you become entangled in the lives of the two people and the  undying love they have for one another.Although lesser known then some, Waterloo Bridge is a classic. It shows how war can devastatingly change the lives of ordinary people and depicts true love and honor in every respect.END\", \"overall\": 5.0, \"reviewTime\": \"09 20, 1997\"}',\n",
              " '{\"reviewerID\": \"A27YXL9013SOF4\", \"asin\": \"B00000053E\", \"reviewText\": \"One of the best album\\'s that I\\'ve ever listened to.  Jars of Clay is a refreshing blend of meaningful lyrics and acoustic guitar, mixed in with some really cool instrument solos.  Get it! END\", \"overall\": 5.0, \"reviewTime\": \"09 21, 1997\"}',\n",
              " '{\"reviewerID\": \"A36C8J8WLV4FXW\", \"asin\": \"0790732475\", \"reviewText\": \"I saw this movie when it first came out on the big screen in June of 1997. I wasn\\'t expecting much, and I wasn\\'t disappointed. This movie is awful! There is no plot; most of the dialogue consists of one-liners and bad jokes; there are far too many gratuitous butt-shots; and most of the acting is so bad that it makes what you might see at a high school play look professional. While there are a few good scenes between Bruce Wayne and Alfred, even these are spoiled by the frequent inclusion of hallucinations of scenes from Bruce Wayne\\'s past (none of which, incidentally, seemed to have anything to do with his decision to become Batman.) Don\\'t waste your money on this movie. END\", \"overall\": 1.0, \"reviewTime\": \"09 22, 1997\"}',\n",
              " '{\"reviewerID\": \"AW09UQQ3V59J6\", \"asin\": \"0471178411\", \"reviewText\": \"The Exchange 5 Source Book written by Mann, Bracka, et al is very difficult to follow. It seems like it was written very fast by many people and pulled together at the last minute. There are many disjointed segments that are often repeated in other portions of the book. There are references throughout the book to other sections that in some cases do not even exist. Overall the book is a general overview of Exchange Server and Exchange/Outlook clients. I used the book as a background to the Microsoft course work and did find it to supplement the material somewhat. One notable well-written section is on designing and installing an Exchange system. In addition, some of the material on Internet connections was good. I would recommend waiting for some of the other Exchange 5.0 books that are scheduled for publication in the next few months\", \"overall\": 2.0, \"reviewTime\": \"09 22, 1997\"}',\n",
              " '{\"reviewerID\": \"A14V63ENLFXZP8\", \"asin\": \"0891075275\", \"reviewText\": \"Another excellent outing be Peretti. He tackles the good / evil theme very well again.The power of prayer is clearly shown as important to our lives. This type incident is not that far-fetched in today\\'s society\", \"overall\": 5.0, \"reviewTime\": \"09 23, 1997\"}',\n",
              " '{\"reviewerID\": \"A32P3KTF6KVGCC\", \"asin\": \"6300216268\", \"reviewText\": \"Exceptional. I would rate it a 17 if I could. Nothing so sweet, yet so twisted have I ever seen. If you\\'re looking for something to make you laugh, cry, and contemplate, this is it! END\", \"overall\": 5.0, \"reviewTime\": \"09 23, 1997\"}',\n",
              " '{\"reviewerID\": \"A1C8AI4MAQJ4TQ\", \"asin\": \"0930192125\", \"reviewText\": \"Really helped &quot;crystallize&quot; a lot of my thinking as I embarked on home schooling for my young children.  The author asked questions that my family needed to answer before making the decision.  Very practical, clear and easy to use.  Lots of reproducable forms, too.  Best part: author has evaluated many homeschools over the course of his career AND has children who are homeschooled -- &quot;seen it&quot; from every angle.\", \"overall\": 5.0, \"reviewTime\": \"09 29, 1997\"}',\n",
              " '{\"reviewerID\": \"A9I29MUMMEQQE\", \"asin\": \"6300181987\", \"reviewText\": \"Duel is amazing.  The cast is very small, it couldn\\'t have cost too much money to make, but the story is so mysterious, the circumstances, are extreme, so extreme you are dying to know the motive.  You can\\'t stop watching it, it\\'s a very simple plot, and an unforgetable classic!  END\", \"overall\": 5.0, \"reviewTime\": \"10 3, 1997\"}',\n",
              " '{\"reviewerID\": \"A1B15BET5TSYDG\", \"asin\": \"B000003YSX\", \"reviewText\": \"This album is not of what one would usually refer to as &quot;music.&quot;  The liner notes themselves say, &quot;experimental sounds never imagined possible from just voice and microphone.  An absolute classic.&quot;  This perfectly summarizes the album.  Imagine, if you will, a man who sings for Faith No More and Mr. Bungle making noises with his mouth at 2 AM in the morning in some of the finer hotel rooms in the world (along with a Best Western or two thrown in).  If you like to hear odd noises, or if you wish to show that person who thinks they know art just what art is, buy this CD. Warning: Persons without open minds towards the definition of &quot;music&quot; will be highly annoyed by this CD, to the point of their heads exploding.  END\", \"overall\": 5.0, \"reviewTime\": \"10 5, 1997\"}',\n",
              " '{\"reviewerID\": \"A3EM2O9CS5JOED\", \"asin\": \"0879977639\", \"reviewText\": \"Truely life among the working stiffs, slap a generator pack on a dead person and put them to work...just make sure they are 100% dead first.  Otherwise results are not guarenteed.  Scenes that will make you laugh years later just thinking about them.  This book is on my science fiction sampler list.\", \"overall\": 5.0, \"reviewTime\": \"10 7, 1997\"}',\n",
              " '{\"reviewerID\": \"A1BE5PEF37NVOM\", \"asin\": \"1569494088\", \"reviewText\": \"Really greatly made.  The singing and animations are a wonderful an effective teaching tool.  In all simplicity the video was doen very nicely, and it has great appeal, I let my history teacher borrow it and she loved it.  END\", \"overall\": 5.0, \"reviewTime\": \"10 9, 1997\"}',\n",
              " '{\"reviewerID\": \"A2JVVS49Y183CZ\", \"asin\": \"6300271765\", \"reviewText\": \"Of course, in consideration of Egyptology, this story does have some vague accurate references to Egyptian history. Also the base line of the story about the antiquity black market can only be the tip of the iceberg. But the story itself is a good one. Frank Langella\\'s character is intense and very appropriate for his stature and persona. Lesley Anne Down also plays her role well, but I\\'ve often wondered if they picked her for that role because she screamed well.  The cinematography is very well done. The sights of Ancient Egypt are very awe-inspiring. The props used for the scenes are some of the best remakes of antiquities that I\\'ve ever seen. The movie made me want to jump on a plane to Egypt immediately.  I thoroughly enjoyed this movie.  END\", \"overall\": 5.0, \"reviewTime\": \"10 13, 1997\"}',\n",
              " '{\"reviewerID\": \"A3FHJW22ZGPCLG\", \"asin\": \"6300248550\", \"reviewText\": \"This wonderful version of Jane Eyre even out does the powerful Orson Welles version. This Jane (Zelah Clarke) is no weakling and, indeed, has a fine mind and firm grasp on her passions. While long (approx. 6 hours on two cassettes), it thoroughly covers the classic novel and gives it life. Purists may think that Timothy Dalton is almost too good looking to be Rochester - it\\'s no wonder that Jane falls for him!  A lovely BBC production - too bad it\\'s video and not film. Watch it on a cold winter weekend (with tea, of course) and enjoy!Edited to update: This wonderful version is now available on DVD. The quality of the video tape shows its age but the overall production is still wonderful.\", \"overall\": 5.0, \"reviewTime\": \"10 17, 1997\"}',\n",
              " '{\"reviewerID\": \"A1IV4NDRKLKXJP\", \"asin\": \"0783221487\", \"reviewText\": \"If you\\'ve heard all of the hype about DUNE and want to experience it for yourself, DON\\'T get this movie.  A lot of it is hard to understand if you haven\\'t read the book first, and there is so much left out of the movie.  They could have made the movie 12 hours long, and it still would have been missing stuff.The book is my favorite novel of all time; the movie is something I could have lived without.  END\", \"overall\": 2.0, \"reviewTime\": \"10 17, 1997\"}',\n",
              " '{\"reviewerID\": \"A3U9V6GDRYV52T\", \"asin\": \"630237250X\", \"reviewText\": \"How you describe yourself within America\\'s popular culture machinery usually secures something we can see but never feel. This said, how can you describe the works of Dylan without the use of all five senses? Here we see him move, hear his voice, perhaps feel his presence, but never come to true terms with him because he never allowed us to and that can just frustrate you to all hell as you through down your thoughts and scream, &quot;But I wanted to KNOW the man!&quot; This answer to &quot;Hard Days Night&quot; is Dylan in England for a few days of candid camera. But if nothing else, it was Dylan\\'s chance to ask his public not to emulate their leaders over their own head.  END\", \"overall\": 5.0, \"reviewTime\": \"10 18, 1997\"}',\n",
              " '{\"reviewerID\": \"A2SY49Z6H96QVR\", \"asin\": \"B000002H2H\", \"reviewText\": \"Released on November 23 1984, Metallica\\'s second offering has stood the test of time to become one of the best thrash metal albums ever released, surpassed only by their following album &quot;Master of Puppets&quot; and possibly Slayer\\'s &quot;Reign in Blood&quot;.On an album which contained no poor track a number of the songs remain on the bands live setlist to this day. Tracks such as &quot;Fight Fire With Fire&quot; and &quot;Trapped Under Ice&quot; show Metallica at their blistering best, while other songs such as the ballad &quot;Fade to Black&quot; display Metallica\\'s ability to write good slower and more melodic tunes. &quot;Creeping Death&quot; , a personal favourite, more or less defines the thrash metal genre while &quot;For Whom The Bell Tolls&quot; shows that heavy doesn\\'t necessairly mean fast. The final cut &quot;The Call of Ktulu&quot; is one of the hightlights of the album. An instrumental, which was written by Metallica and former band member and present frontman for Megadeth, was supposedly inspired by HP Lovecraft novels.Overall this album formed one of the cornerstones in trash/speed metal genre, and to anyone who likes that particular type of music and doesn\\'t already have this album, then rush out and buy it now!!Diarmuid  END\", \"overall\": 5.0, \"reviewTime\": \"10 20, 1997\"}',\n",
              " '{\"reviewerID\": \"A24TU239YK6UIT\", \"asin\": \"B000002AS3\", \"reviewText\": \"This is the first cd made by Oasis. My favorite songs from this cd include Supersonic, Live Forever, and Cigarettes and Alcohol. Buy it today! The price at Amazon is AMAZING!  END\", \"overall\": 5.0, \"reviewTime\": \"10 21, 1997\"}',\n",
              " '{\"reviewerID\": \"A2RS3MLX58YTMU\", \"asin\": \"1573624578\", \"reviewText\": \"This 90 minute documentary/learning tool is an essential tool for anyone with aspirations in the political arena.  There is no doubt that this is democratically (small d) slanted material. Please don\\'t let the partisanship skew your approach to this brilliant work.  All political parties aside, this is an amazingly alive piece that shows the intangible value of people with common political goals.  END\", \"overall\": 5.0, \"reviewTime\": \"10 22, 1997\"}',\n",
              " '{\"reviewerID\": \"A2UVHRFEICZ4TU\", \"asin\": \"B0000020C4\", \"reviewText\": \"With a stellar cast culled from the various productions of what is now &quot;The Most Popular Musical in the World,&quot; this recording soars loftily -- far above all the albums that has preceded it.Colm Wilkinson once again voices the character of Jean Valjean.  His tenure with the role and his years of hiatus from performing Valjean onstage lends his concert rendition both an element of pristine freshness and the quality of superbly aged wine.Phillip Quast, who wasThenardier in the Original London Cast, now plays  Javert.  His &quot;Stars&quot; and &quot;Javert\\'s Suicide&quot; surprisingly depicts Javert as human;  his characterization is deeply moving.  The ill-fated Fantine is sang by Ruthie Henshall, who has both the crystalline voice of the actor who had originated the role on Broadway and the aria-power of Patti Lupone (Original London Les Miz, Evita).  As the only actor who incorporates a Parisienne accent in this concert, she adds a unique feel to the recording.Lea Salonga, London and Broadway\\'s Miss Saigon, is easily the most memorable Eponine ever.  Her emotional clarion is unsurpassed as she wrenches her heart out in the various solos, duets and counter-points that she sings.  Michael Ball (London\\'s Original Marius) and Judy Kuhn (Original Broadway Cast, and Disney\\'s animated Pocahontas) excellently captures the turmoil and confusion of passion which they successfully crystallize to love.The ensemble of over 250 people led by Michael Maguire (Enjolras in Original Broadway Production) makes this recording a definite must-have.  Rather that being merely another soundtrack, this album is an experience in itself.  END\", \"overall\": 5.0, \"reviewTime\": \"10 23, 1997\"}',\n",
              " '{\"reviewerID\": \"A12LHIUPPAJ803\", \"asin\": \"0790729628\", \"reviewText\": \"After seeing the Original release and then the Director Cut, I was a little disappointed.  The DC lacks the original voice-over by Ford that (imo) adds some sort of connection between the scenes.  The DC does have some extra footage that makes in worth viewing but not that much and the ending of the DC is different.  I believe that Blade Runner is still a great movie but I would have rather seen much more of the cut footage (like Decker visiting Holden in the hospital - a scene that is not in any released version) with the voice-over (narration by Ford).  Still it is worth watching and maybe adding to your collection.  END\", \"overall\": 4.0, \"reviewTime\": \"10 23, 1997\"}',\n",
              " '{\"reviewerID\": \"A2M4PFHOZXT1EJ\", \"asin\": \"0804110972\", \"reviewText\": \"Josephine\\'s second novel &quot;Sin&quot; is as equally moving and hypnotic as her first novel, &quot;Damage&quot;!  As you read this story, you will find yourself inside of a calculating and manipulative person.  You will never look at your siblings in the same way again! If you haven\\'t read &quot;Damage&quot; yet, what are you waiting for?  Another great story by Josephine Hart.\", \"overall\": 5.0, \"reviewTime\": \"10 25, 1997\"}',\n",
              " '{\"reviewerID\": \"AGW0OPKZBKZWY\", \"asin\": \"B00000264Y\", \"reviewText\": \"There is no music as heart ripping as this! It\\'s classic yet fun and it never gets boring. Whatever mood you may be in, this music will bring joy to your soul.  END\", \"overall\": 5.0, \"reviewTime\": \"10 25, 1997\"}',\n",
              " '{\"reviewerID\": \"A1W3KLP4PJR8EX\", \"asin\": \"6303908306\", \"reviewText\": \"The usual suspects is a great movie. It has great acting by Kevin Spacy, who plays the gymp. The movie itself at the start is quite confusing until the end where it brings it all together.  END\", \"overall\": 5.0, \"reviewTime\": \"10 26, 1997\"}',\n",
              " '{\"reviewerID\": \"A3UD019BU04XDH\", \"asin\": \"B000002HHB\", \"reviewText\": \"Miss Natalie Merchant on her first solo album shows listeners that pop music is not a wasteland devoid of talent.  With probably the best voice in the buisness she displays a breathtakingly dynamic set of original songs.  Somewhat warmer and more personal than earlier albums with the 10,000 maniacs she proves both her competence and her creativity in both lyrics and meledy.  Reaching to musical peaks previously unknown all of Miss Merchant\\'s albums ar recomended, this one in particular.  END\", \"overall\": 5.0, \"reviewTime\": \"10 29, 1997\"}',\n",
              " '{\"reviewerID\": \"A7CSSD9KMZOFN\", \"asin\": \"0672307952\", \"reviewText\": \"This book attempts to solve a problem relating to Visual C++ for Win 95: how do you enable beginners and hobbists to use MFC, an incredibly complex and rich professional development system? The solution presented here involves what I like to call a &quot;click click duh duh&quot; approach, in which the reader is given a list of steps to perform, which, when completed, will result in a finished win32 application.  Does it work? yes. Is it programming? no.  I don\\'t really believe anyone will benefit from reading this. In order to be able to use VC++, a programmer will have to be able to apply his or her knowlegde in a myriad of situations, not just be able to follow a set of written directions. Besides, the writing style, which apparently assumes the reader has the brain of a garden slug, made me want to retch\", \"overall\": 2.0, \"reviewTime\": \"11 3, 1997\"}',\n",
              " '{\"reviewerID\": \"A1Q8XKXGXMOD0E\", \"asin\": \"6304071841\", \"reviewText\": \"Actually, this is not the popular recent &quot;post-modern&quot; version of the classic tale. This is the version aired on television in 1994. It features Geraldine Somerville as Juliet and Jonathan Firth as Romeo. It was directed by Alan Horrox.  END\", \"overall\": 4.0, \"reviewTime\": \"11 7, 1997\"}',\n",
              " '{\"reviewerID\": \"A2Z7SPGG3Q70V5\", \"asin\": \"B000005EAP\", \"reviewText\": \"As a world premier, this CD\\'s creators were naturally under great pressure: by performing for the first recording ever, Koopman and the Amsterdam Baroque Orchestra must set a great, unforgettable precedent for all others to follow.They don\\'t disappoint.  Biber\\'s flamboyant yet austere, magniloquent yet humble Requiem comes forth in all of its glory.  The strains of the Te Decet Hymnus in the opening, the hauntingly beautiful Lacrimosa, the emotion packed Quam Olim Abrahae, and the light, celestial Sanctus-the recording has brought forth what Biber must have intended when he wrote his Requiem.The Vesperae are also performed almost impeccably,  though there could be room for more smoothing over in the Magnificat.  The Orchestra follows with the voices in the Dixit Dominus perfectly, accenting them with blares of horns and brass.  The phrases of Generationes in the Magnificat movement are voiced through with such perfect clarity both heaven and earth seem to join in that moment.This is a truly great recording.  It warrants listening over and over again.  END\", \"overall\": 5.0, \"reviewTime\": \"11 8, 1997\"}',\n",
              " '{\"reviewerID\": \"AR9HFLYSXUOYS\", \"asin\": \"B00000JL6V\", \"reviewText\": \"I don\\'t think it is necessary for me to wax poetic about the beautifully rendered graphics that appears in &quot;Riven&quot;. Those who have seen Myst will expect them, and &quot;Riven&quot; doesn\\'t disappoint. The live action sequences, especially the haunting scenes of natives relatively early in the game, are well done, and serve to draw you into Riven even more than Myst. (It is interesting to see the remarkable progression of the quality of the graphics from &quot;Spelunx&quot; to &quot;Myst&quot; to &quot;Riven&quot;)  The puzzles in &quot;Riven&quot; are more difficult than in &quot;Myst&quot; largely because they require you to move between the islands (and are reminiscent of those in a similar game, &quot;The Dig&quot;). However, since the puzzles are built along the same principles as in &quot;Myst&quot;, those who solved &quot;Myst&quot; should be able to solve these, too.\", \"overall\": 5.0, \"reviewTime\": \"11 8, 1997\"}',\n",
              " '{\"reviewerID\": \"A1SH28X6HM8BXB\", \"asin\": \"0792844882\", \"reviewText\": \"This film, like many that come from the Verhoeven/Esterhas camp, teems with gratuitous sex, contrived dialogue, abominable direction and substandard acting.  The sad part about all this is that I really like this film.  Why?  Not since &quot;Faster Pussycat, Kill, Kill&quot; has such a female-driven tour de force in camp cinema emerged.  Elizabeth Berkley gives her forerunner Tura Satana extreme competition at all levels.  She overacts; she dresses like a tramp.  Most importantly, however, she uses sex and sexuality to get what she seeks.  Furthermore, the supporting cast in &quot;Showgirls,&quot; led by the wonderful Gina Gershon (who really IS a respectable actor), adds even more corn to the &quot;camp&quot; fire.  Set against the glitz of Las Vegas, &quot;Showgirls&quot; is excess and decadence perfected.  Sure, it is technically a horrible movie, and we will not benefit from it culturally.  Nevertheless, in this day and age of stress and anxiety I believe that we all need some senseless brain fodder, so chow down on &quot;Showgirls.&quot;  END\", \"overall\": 4.0, \"reviewTime\": \"11 11, 1997\"}',\n",
              " '{\"reviewerID\": \"A1UN0CA5X8NNB3\", \"asin\": \"B000002B6Z\", \"reviewText\": \"If you don\\'t know Alice Cooper music, this is a  must-have sampler. If you are a fan, your favorites are here. Alice Cooper is a rock icon that brought shock rock to the masses. Many of his best are on this album. Alice\\'s stage shows often obscured the fact that his songs and lyrics were powerful forces by themselves. Combining the two gave Alice Cooper an important place in rock history. You will find  a song on this album that speaks to you.  END\", \"overall\": 5.0, \"reviewTime\": \"11 12, 1997\"}',\n",
              " '{\"reviewerID\": \"A3BWRP5I89SB4C\", \"asin\": \"6300250091\", \"reviewText\": \"This video helped my game 40 pins right away! No wonder Bo is still top in the ranks, he can change with the lanes and he can show you how too! I HIGHLY recomend!!!  4 Stars!  END\", \"overall\": 5.0, \"reviewTime\": \"11 12, 1997\"}',\n",
              " '{\"reviewerID\": \"A1HF1NOS5QA1QM\", \"asin\": \"630026906X\", \"reviewText\": \"A beautifully acted account of a man\\'s midlife crisis.  Suspicously hilarious!  The scene in which Seller\\'s inlaws-to-be accidently eat brownies laden with Marijuana is worth the cost in itself!  Peter Sellers proves yet again that he is indisputably the greatest comedian ever!  END\", \"overall\": 5.0, \"reviewTime\": \"11 12, 1997\"}',\n",
              " '{\"reviewerID\": \"A3Q12H8IDTN09K\", \"asin\": \"6304681526\", \"reviewText\": \"With Chasing Amy Kevin Smith has managed to give a brilliantly insightful yet hilariously funny look into both the complexities of general intimate relationships and the homosexual community in particular.  Simply a must-see.  END\", \"overall\": 5.0, \"reviewTime\": \"11 13, 1997\"}',\n",
              " '{\"reviewerID\": \"A1SV9NC1XW9VB7\", \"asin\": \"0471178411\", \"reviewText\": \"I found the book to be difficult to follow in most areas, particulary in setting up clients and how they communicate with the server. Does anyone know of a good Exchange book, I mean really good from start of the  setup (server) to  enterprise messaging systems all at a reasonable level of difficulty. e-mail me at venlov@globalserve.net\", \"overall\": 4.0, \"reviewTime\": \"11 13, 1997\"}',\n",
              " '{\"reviewerID\": \"A1127LKNR08JJK\", \"asin\": \"630174411X\", \"reviewText\": \"The movie was ok but it did lack a few things.  The movie was very funny but its humor was based on dressing like a nun.  But if you like that sort of thing or a big Eric Idle Fan (Monty Python) this is a must get.  END\", \"overall\": 4.0, \"reviewTime\": \"11 13, 1997\"}',\n",
              " '{\"reviewerID\": \"A1127LKNR08JJK\", \"asin\": \"B00000150Q\", \"reviewText\": \"This Cd is very well put together and has a nice beat.  It\\'s nice for doing your homewok or Driving a car.  It will keep you very relaxed.  END\", \"overall\": 5.0, \"reviewTime\": \"11 14, 1997\"}']"
            ]
          },
          "metadata": {
            "tags": []
          },
          "execution_count": 140
        }
      ]
    },
    {
      "cell_type": "markdown",
      "metadata": {
        "id": "wHvm2hstum1K",
        "colab_type": "text"
      },
      "source": [
        "# Functional Programming vs. Procedural Programming\n"
      ]
    },
    {
      "cell_type": "code",
      "metadata": {
        "id": "fQfASFZyupt7",
        "colab_type": "code",
        "colab": {}
      },
      "source": [
        ""
      ],
      "execution_count": null,
      "outputs": []
    },
    {
      "cell_type": "code",
      "metadata": {
        "id": "uwccu9tZusK2",
        "colab_type": "code",
        "colab": {}
      },
      "source": [
        "log_of_songs = [\n",
        "        \"Despacito\",\n",
        "        \"Nice for what\",\n",
        "        \"No tears left to cry\",\n",
        "        \"Despacito\",\n",
        "        \"Havana\",\n",
        "        \"In my feelings\",\n",
        "        \"Nice for what\",\n",
        "        \"Despacito\",\n",
        "        \"All the stars\"\n",
        "]"
      ],
      "execution_count": null,
      "outputs": []
    },
    {
      "cell_type": "code",
      "metadata": {
        "id": "9RRHO88iuxk_",
        "colab_type": "code",
        "colab": {}
      },
      "source": [
        "play_count = 0\n",
        "def count_plays(song_title):\n",
        "    global play_count\n",
        "    for song in log_of_songs:\n",
        "        if song == song_title:\n",
        "            play_count = play_count + 1\n",
        "    return play_count\n"
      ],
      "execution_count": null,
      "outputs": []
    },
    {
      "cell_type": "code",
      "metadata": {
        "id": "DiZxZ0Kfuzgy",
        "colab_type": "code",
        "colab": {
          "base_uri": "https://localhost:8080/",
          "height": 34
        },
        "outputId": "f93815bd-14a6-43b9-931d-a324e7b409cf"
      },
      "source": [
        "print(count_plays(\"Despacito\"))\n"
      ],
      "execution_count": null,
      "outputs": [
        {
          "output_type": "stream",
          "text": [
            "24\n"
          ],
          "name": "stdout"
        }
      ]
    },
    {
      "cell_type": "markdown",
      "metadata": {
        "id": "H_OCsuj8yR8v",
        "colab_type": "text"
      },
      "source": [
        "## Question \n",
        "- how to solve this issue?\n"
      ]
    },
    {
      "cell_type": "code",
      "metadata": {
        "id": "prZpfcoPu8BC",
        "colab_type": "code",
        "colab": {
          "base_uri": "https://localhost:8080/",
          "height": 34
        },
        "outputId": "462d285c-73e8-41e4-dc6c-e1ad2082f397"
      },
      "source": [
        "%%file countFile.py\n",
        "def count_plays(songs_title, play_count):\n",
        "    for songs in log_of_songs:\n",
        "        if songs == songs_title:\n",
        "            play_count = play_count + 1\n",
        "    return play_count\n",
        "print(count_plays(\"Despacito\",0))\n",
        "print(count_plays(\"Despacito\",0))"
      ],
      "execution_count": null,
      "outputs": [
        {
          "output_type": "stream",
          "text": [
            "Writing countFile.py\n"
          ],
          "name": "stdout"
        }
      ]
    },
    {
      "cell_type": "code",
      "metadata": {
        "id": "yohMyxFAvHfq",
        "colab_type": "code",
        "colab": {}
      },
      "source": [
        "\n"
      ],
      "execution_count": null,
      "outputs": []
    },
    {
      "cell_type": "markdown",
      "metadata": {
        "id": "Ew3obhMGvObi",
        "colab_type": "text"
      },
      "source": [
        "# Spark\n"
      ]
    },
    {
      "cell_type": "code",
      "metadata": {
        "id": "hXaebMsYz5SN",
        "colab_type": "code",
        "colab": {}
      },
      "source": [
        "words = [\"Hello\", \"Spark\", \"1\",'Happe','Spark']"
      ],
      "execution_count": null,
      "outputs": []
    },
    {
      "cell_type": "code",
      "metadata": {
        "id": "SjQWgrHDz5Vd",
        "colab_type": "code",
        "colab": {}
      },
      "source": [
        "sc.parallelize(words).count()\n",
        "!wget -q https://raw.githubusercontent.com/ashfarhangi/Reinforcement-Learning-Trading/master/review.txt\n",
        "\n",
        "lines = sc.textFile(\"review.txt\")\n",
        "lines.count()\n",
        "lines.take(15)\n",
        "\n"
      ],
      "execution_count": null,
      "outputs": []
    },
    {
      "cell_type": "code",
      "metadata": {
        "id": "rMQgZmXIAD_X",
        "colab_type": "code",
        "colab": {
          "base_uri": "https://localhost:8080/",
          "height": 68
        },
        "outputId": "b434d022-b33b-49e2-8256-0b375131d08d"
      },
      "source": [
        "%time\n",
        "lines.filter(lambda line: \"bad\" in line).count()\n"
      ],
      "execution_count": null,
      "outputs": [
        {
          "output_type": "stream",
          "text": [
            "CPU times: user 3 µs, sys: 1e+03 ns, total: 4 µs\n",
            "Wall time: 8.11 µs\n"
          ],
          "name": "stdout"
        },
        {
          "output_type": "execute_result",
          "data": {
            "text/plain": [
              "332"
            ]
          },
          "metadata": {
            "tags": []
          },
          "execution_count": 144
        }
      ]
    },
    {
      "cell_type": "code",
      "metadata": {
        "id": "7I6NCUOE0ETy",
        "colab_type": "code",
        "colab": {}
      },
      "source": [
        "goodCount = lines.filter(lambda line: \"good\" in get_words(line)).count()\n",
        "print(goodCount)"
      ],
      "execution_count": null,
      "outputs": []
    },
    {
      "cell_type": "code",
      "metadata": {
        "id": "rlLAtNSbvN6N",
        "colab_type": "code",
        "colab": {}
      },
      "source": [
        "# sc = pyspark.SparkContext(appName=\"maps_and_lazy_evaluation_example\")\n",
        "\n",
        "log_of_songs= [\n",
        "        \"Despacito\",\n",
        "        \"Nice for what\",\n",
        "        \"No tears left to cry\",\n",
        "        \"Despacito\",\n",
        "        \"Havana\",\n",
        "        \"In my feelings\",\n",
        "        \"Nice for what\",\n",
        "        \"despacito\",\n",
        "        \"All the stars\"\n",
        "]\n",
        "\n",
        "# parallelize the log_of_ to use with Spark\n",
        "distributed_song_log = sc.parallelize(log_of_songs)"
      ],
      "execution_count": null,
      "outputs": []
    },
    {
      "cell_type": "code",
      "metadata": {
        "id": "sda2fGYQvN5c",
        "colab_type": "code",
        "colab": {
          "base_uri": "https://localhost:8080/",
          "height": 35
        },
        "outputId": "da3b73c5-e6d1-4d3c-d6ed-1430ae633fb7"
      },
      "source": [
        "def convert_songs_to_lowercase(songs):\n",
        "    return songs.lower()\n",
        "\n",
        "convert_songs_to_lowercase(\"Havana\")\n"
      ],
      "execution_count": null,
      "outputs": [
        {
          "output_type": "execute_result",
          "data": {
            "application/vnd.google.colaboratory.intrinsic+json": {
              "type": "string"
            },
            "text/plain": [
              "'havana'"
            ]
          },
          "metadata": {
            "tags": []
          },
          "execution_count": 181
        }
      ]
    },
    {
      "cell_type": "code",
      "metadata": {
        "id": "TWB035D0vcnf",
        "colab_type": "code",
        "colab": {}
      },
      "source": [
        ""
      ],
      "execution_count": null,
      "outputs": []
    },
    {
      "cell_type": "code",
      "metadata": {
        "id": "h5ulys39vN36",
        "colab_type": "code",
        "colab": {
          "base_uri": "https://localhost:8080/",
          "height": 171
        },
        "outputId": "ba3927c6-2e6a-42ac-d152-5a7e0cfbb617"
      },
      "source": [
        "distributed_song_log.map(convert_songs_to_lowercase).collect()\n"
      ],
      "execution_count": null,
      "outputs": [
        {
          "output_type": "execute_result",
          "data": {
            "text/plain": [
              "['despacito',\n",
              " 'nice for what',\n",
              " 'no tears left to cry',\n",
              " 'despacito',\n",
              " 'havana',\n",
              " 'in my feelings',\n",
              " 'nice for what',\n",
              " 'despacito',\n",
              " 'all the stars']"
            ]
          },
          "metadata": {
            "tags": []
          },
          "execution_count": 182
        }
      ]
    },
    {
      "cell_type": "code",
      "metadata": {
        "id": "U3HbT7nFviMk",
        "colab_type": "code",
        "colab": {
          "base_uri": "https://localhost:8080/",
          "height": 171
        },
        "outputId": "c67171b8-16e2-49bc-a75c-768cca015e9b"
      },
      "source": [
        "distributed_song_log.collect()\n"
      ],
      "execution_count": null,
      "outputs": [
        {
          "output_type": "execute_result",
          "data": {
            "text/plain": [
              "['Despacito',\n",
              " 'Nice for what',\n",
              " 'No tears left to cry',\n",
              " 'Despacito',\n",
              " 'Havana',\n",
              " 'In my feelings',\n",
              " 'Nice for what',\n",
              " 'despacito',\n",
              " 'All the stars']"
            ]
          },
          "metadata": {
            "tags": []
          },
          "execution_count": 183
        }
      ]
    },
    {
      "cell_type": "code",
      "metadata": {
        "id": "5js9h3fxvnNc",
        "colab_type": "code",
        "colab": {
          "base_uri": "https://localhost:8080/",
          "height": 206
        },
        "outputId": "e070c41c-b3c3-4792-b799-b5b1dd19bcf3"
      },
      "source": [
        "%time\n",
        "distributed_song_log.map(lambda songs: songs.lower()).collect()\n"
      ],
      "execution_count": null,
      "outputs": [
        {
          "output_type": "stream",
          "text": [
            "CPU times: user 3 µs, sys: 0 ns, total: 3 µs\n",
            "Wall time: 5.72 µs\n"
          ],
          "name": "stdout"
        },
        {
          "output_type": "execute_result",
          "data": {
            "text/plain": [
              "['despacito',\n",
              " 'nice for what',\n",
              " 'no tears left to cry',\n",
              " 'despacito',\n",
              " 'havana',\n",
              " 'in my feelings',\n",
              " 'nice for what',\n",
              " 'despacito',\n",
              " 'all the stars']"
            ]
          },
          "metadata": {
            "tags": []
          },
          "execution_count": 184
        }
      ]
    },
    {
      "cell_type": "code",
      "metadata": {
        "id": "32SqlKTKzTaa",
        "colab_type": "code",
        "colab": {}
      },
      "source": [
        ""
      ],
      "execution_count": null,
      "outputs": []
    },
    {
      "cell_type": "code",
      "metadata": {
        "id": "BqJTPJ88z4SY",
        "colab_type": "code",
        "colab": {}
      },
      "source": [
        ""
      ],
      "execution_count": null,
      "outputs": []
    },
    {
      "cell_type": "code",
      "metadata": {
        "id": "JAZiIiAWx46W",
        "colab_type": "code",
        "colab": {}
      },
      "source": [
        "goodCount = lines.filter(lambda line: \"good\" in line).count()\n",
        "print(goodCount)\n",
        "badCount = lines.filter(lambda line: \"bad\" in line).count()\n",
        "print(badCount)"
      ],
      "execution_count": null,
      "outputs": []
    },
    {
      "cell_type": "markdown",
      "metadata": {
        "id": "EGLw6qG6mFul",
        "colab_type": "text"
      },
      "source": [
        "# Misc.\n",
        "Magic tools:\n",
        "- %%file savemypythonfile.py\n",
        "- %time how much time does my code take\n"
      ]
    },
    {
      "cell_type": "markdown",
      "metadata": {
        "id": "Hox7eRQJwroa",
        "colab_type": "text"
      },
      "source": [
        "# References:\n"
      ]
    },
    {
      "cell_type": "markdown",
      "metadata": {
        "id": "zGnvbaACwwJt",
        "colab_type": "text"
      },
      "source": [
        "\n",
        "\n"
      ]
    }
  ]
}