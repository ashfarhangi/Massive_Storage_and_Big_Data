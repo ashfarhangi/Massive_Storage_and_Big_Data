{
  "nbformat": 4,
  "nbformat_minor": 0,
  "metadata": {
    "colab": {
      "name": "2_Spark_I.ipynb",
      "provenance": [],
      "collapsed_sections": [
        "jmDMadIINMg2",
        "1zZNBwqCwYaX",
        "DXcGi8Q5xfaO",
        "TRuiDe6S7L4A",
        "1ZrAddkbvzjL",
        "wHvm2hstum1K",
        "Ew3obhMGvObi",
        "EGLw6qG6mFul"
      ],
      "authorship_tag": "ABX9TyNPrwnq3S7dn4V6qiiN0a4+",
      "include_colab_link": true
    },
    "kernelspec": {
      "name": "python3",
      "display_name": "Python 3"
    }
  },
  "cells": [
    {
      "cell_type": "markdown",
      "metadata": {
        "id": "view-in-github",
        "colab_type": "text"
      },
      "source": [
        "<a href=\"https://colab.research.google.com/github/ashfarhangi/Massive_Storage_and_Big_Data/blob/master/code/2_Spark_I.ipynb\" target=\"_parent\"><img src=\"https://colab.research.google.com/assets/colab-badge.svg\" alt=\"Open In Colab\"/></a>"
      ]
    },
    {
      "cell_type": "markdown",
      "metadata": {
        "id": "jmDMadIINMg2",
        "colab_type": "text"
      },
      "source": [
        "# Topics\n",
        "- Using functions and conditions in Python\n",
        "- Problem with procedural programming in Python\n",
        "- Spark installation and Running first lines of code\n"
      ]
    },
    {
      "cell_type": "markdown",
      "metadata": {
        "id": "dMycjOvBNePJ",
        "colab_type": "text"
      },
      "source": [
        "# Python Basics II: Functions\n",
        "In this class we learn about using functions and conditions in further imporving our Python abilities"
      ]
    },
    {
      "cell_type": "code",
      "metadata": {
        "id": "ix8J1rFsbKYK",
        "colab_type": "code",
        "colab": {}
      },
      "source": [
        "def mult(inp1,inp2):\n",
        "  z = inp1 * inp2\n",
        "  print(z)   "
      ],
      "execution_count": null,
      "outputs": []
    },
    {
      "cell_type": "code",
      "metadata": {
        "id": "0Fvwvccv6jff",
        "colab_type": "code",
        "colab": {}
      },
      "source": [
        "a=[3,4,5,6,7,12]\n",
        "for element in a:\n",
        "\n",
        "  if (element>=7):\n",
        "    print(element)\n",
        "  else:\n",
        "      print('not happy')\n",
        "# if (x>7):\n",
        "#   print(x)\n"
      ],
      "execution_count": null,
      "outputs": []
    },
    {
      "cell_type": "markdown",
      "metadata": {
        "id": "EbSdTclZOEeT",
        "colab_type": "text"
      },
      "source": [
        "##  Take-Home Activity: \n",
        "- **Write a program that prints the greatest common divisors of each pair of values in the list below:**\n",
        "  - You can use the NumPy `np.gcd` command for finding the greatest common divisors of two values\n",
        "\n"
      ]
    },
    {
      "cell_type": "code",
      "metadata": {
        "id": "WWXBuwWY8fE_",
        "colab_type": "code",
        "colab": {}
      },
      "source": [
        "import numpy as np\n",
        "answer = np.gcd(15,100)\n",
        "print('gcd of',15,'&',45,' is: ',answer)\n"
      ],
      "execution_count": null,
      "outputs": []
    },
    {
      "cell_type": "code",
      "metadata": {
        "id": "PLTrGLp1OECT",
        "colab_type": "code",
        "colab": {}
      },
      "source": [
        "numbersList = [12,45,12,89,100,15,85]\n",
        "'''\n",
        "answer = np.gcd(15,45)\n",
        "print('gcd of',15,'&',45,' is: ')\n",
        "'''\n"
      ],
      "execution_count": null,
      "outputs": []
    },
    {
      "cell_type": "markdown",
      "metadata": {
        "id": "wHvm2hstum1K",
        "colab_type": "text"
      },
      "source": [
        "# Procedural Programming in Python\n",
        "\n"
      ]
    },
    {
      "cell_type": "code",
      "metadata": {
        "id": "uwccu9tZusK2",
        "colab_type": "code",
        "colab": {}
      },
      "source": [
        "log_of_songs = [\n",
        "        \"Despacito\",\n",
        "        \"Nice for what\",\n",
        "        \"No tears left to cry\",\n",
        "        \"Despacito\",\n",
        "        \"Havana\",\n",
        "        \"In my feelings\",\n",
        "        \"Nice for what\",\n",
        "        \"Despacito\",\n",
        "        \"All the stars\"\n",
        "]"
      ],
      "execution_count": null,
      "outputs": []
    },
    {
      "cell_type": "code",
      "metadata": {
        "id": "9RRHO88iuxk_",
        "colab_type": "code",
        "colab": {}
      },
      "source": [
        "play_count = 0\n",
        "def count_plays(song_title):\n",
        "    global play_count\n",
        "    for song in log_of_songs:\n",
        "        if song == song_title:\n",
        "            play_count = play_count + 1\n",
        "    return play_count\n"
      ],
      "execution_count": null,
      "outputs": []
    },
    {
      "cell_type": "code",
      "metadata": {
        "id": "DiZxZ0Kfuzgy",
        "colab_type": "code",
        "colab": {}
      },
      "source": [
        "print(count_plays(\"Despacito\"))\n"
      ],
      "execution_count": null,
      "outputs": []
    },
    {
      "cell_type": "markdown",
      "metadata": {
        "id": "H_OCsuj8yR8v",
        "colab_type": "text"
      },
      "source": [
        "## Question \n",
        "- how to solve this issue?\n"
      ]
    },
    {
      "cell_type": "code",
      "metadata": {
        "id": "prZpfcoPu8BC",
        "colab_type": "code",
        "colab": {}
      },
      "source": [
        "%%file countFile.py\n",
        "def count_plays(songs_title, play_count):\n",
        "    for songs in log_of_songs:\n",
        "        if songs == songs_title:\n",
        "            play_count = play_count + 1\n",
        "    return play_count\n",
        "print(count_plays(\"Despacito\",0))\n",
        "print(count_plays(\"Despacito\",0))"
      ],
      "execution_count": null,
      "outputs": []
    },
    {
      "cell_type": "code",
      "metadata": {
        "id": "LttIJvN__lIK",
        "colab_type": "code",
        "colab": {}
      },
      "source": [
        ""
      ],
      "execution_count": null,
      "outputs": []
    },
    {
      "cell_type": "markdown",
      "metadata": {
        "id": "1zZNBwqCwYaX",
        "colab_type": "text"
      },
      "source": [
        "# Introduction to Spark"
      ]
    },
    {
      "cell_type": "markdown",
      "metadata": {
        "id": "Lca92-mKwbRv",
        "colab_type": "text"
      },
      "source": [
        "\n",
        "\n",
        "In this notebook we get familiar with basics of Spark in python by using PySpark package.\n"
      ]
    },
    {
      "cell_type": "markdown",
      "metadata": {
        "id": "DXcGi8Q5xfaO",
        "colab_type": "text"
      },
      "source": [
        "## Library Installation:"
      ]
    },
    {
      "cell_type": "markdown",
      "metadata": {
        "id": "hpuYGzPDQsDC",
        "colab_type": "text"
      },
      "source": [
        "useful libraries that can interact with the downloaded Spark program"
      ]
    },
    {
      "cell_type": "code",
      "metadata": {
        "id": "0_cf090xxnt1",
        "colab_type": "code",
        "colab": {
          "base_uri": "https://localhost:8080/",
          "height": 254
        },
        "outputId": "4c2f15f1-6633-407d-e6d9-4b79c7e18d9f"
      },
      "source": [
        "!pip install pyspark\n",
        "import os\n",
        "import sys\n",
        "from pyspark import SparkContext, SparkConf\n",
        "from pyspark.sql import SQLContext, SparkSession\n"
      ],
      "execution_count": 10,
      "outputs": [
        {
          "output_type": "stream",
          "text": [
            "Collecting pyspark\n",
            "\u001b[?25l  Downloading https://files.pythonhosted.org/packages/f0/26/198fc8c0b98580f617cb03cb298c6056587b8f0447e20fa40c5b634ced77/pyspark-3.0.1.tar.gz (204.2MB)\n",
            "\u001b[K     |████████████████████████████████| 204.2MB 64kB/s \n",
            "\u001b[?25hCollecting py4j==0.10.9\n",
            "\u001b[?25l  Downloading https://files.pythonhosted.org/packages/9e/b6/6a4fb90cd235dc8e265a6a2067f2a2c99f0d91787f06aca4bcf7c23f3f80/py4j-0.10.9-py2.py3-none-any.whl (198kB)\n",
            "\u001b[K     |████████████████████████████████| 204kB 38.9MB/s \n",
            "\u001b[?25hBuilding wheels for collected packages: pyspark\n",
            "  Building wheel for pyspark (setup.py) ... \u001b[?25l\u001b[?25hdone\n",
            "  Created wheel for pyspark: filename=pyspark-3.0.1-py2.py3-none-any.whl size=204612243 sha256=988e51b6822194dee4444d06d0a50d644da0b837c83535acf3dec33bfe8c0b2e\n",
            "  Stored in directory: /root/.cache/pip/wheels/5e/bd/07/031766ca628adec8435bb40f0bd83bb676ce65ff4007f8e73f\n",
            "Successfully built pyspark\n",
            "Installing collected packages: py4j, pyspark\n",
            "Successfully installed py4j-0.10.9 pyspark-3.0.1\n"
          ],
          "name": "stdout"
        }
      ]
    },
    {
      "cell_type": "markdown",
      "metadata": {
        "id": "TRuiDe6S7L4A",
        "colab_type": "text"
      },
      "source": [
        "## Downloading Spark\n",
        "Apache will host the latest links for the spark. \n",
        "\n",
        "Please update the download link of cell below if you encountered error. \n"
      ]
    },
    {
      "cell_type": "code",
      "metadata": {
        "id": "aP3Kjhx61EGO",
        "colab_type": "code",
        "colab": {}
      },
      "source": [
        "import os\n",
        "!wget https://downloads.apache.org/spark/spark-3.0.1/spark-3.0.1-bin-hadoop2.7.tgz\n",
        "!tar -xvf /content/spark-3.0.1-bin-hadoop2.7.tgz\n",
        "os.environ[\"SPARK_HOME\"] = \"/content/spark-3.0.1-bin-hadoop2.7\""
      ],
      "execution_count": null,
      "outputs": []
    },
    {
      "cell_type": "markdown",
      "metadata": {
        "id": "J0Tv835IQzg8",
        "colab_type": "text"
      },
      "source": [
        "Creating a simple Spark session:\n",
        "\n"
      ]
    },
    {
      "cell_type": "code",
      "metadata": {
        "id": "oGn4hi9jzKoY",
        "colab_type": "code",
        "colab": {}
      },
      "source": [
        "sc = SparkContext.getOrCreate(SparkConf().setMaster(\"local[*]\"))\n",
        "spark = SparkSession \\\n",
        "    .builder \\\n",
        "    .getOrCreate()"
      ],
      "execution_count": 12,
      "outputs": []
    },
    {
      "cell_type": "code",
      "metadata": {
        "id": "enAbCy3a0-6H",
        "colab_type": "code",
        "colab": {
          "base_uri": "https://localhost:8080/",
          "height": 35
        },
        "outputId": "e5bb0957-3cab-4fb7-bcb4-f5439f75cf8c"
      },
      "source": [
        "words = [\"Hello\", \"Spark\", \"I am here\",'Happy','Spark']\n",
        "sc.parallelize(words).count()"
      ],
      "execution_count": 13,
      "outputs": [
        {
          "output_type": "execute_result",
          "data": {
            "text/plain": [
              "5"
            ]
          },
          "metadata": {
            "tags": []
          },
          "execution_count": 13
        }
      ]
    },
    {
      "cell_type": "code",
      "metadata": {
        "id": "IzTncJ9YwlEN",
        "colab_type": "code",
        "colab": {}
      },
      "source": [
        ""
      ],
      "execution_count": 13,
      "outputs": []
    },
    {
      "cell_type": "markdown",
      "metadata": {
        "id": "Ew3obhMGvObi",
        "colab_type": "text"
      },
      "source": [
        ""
      ]
    },
    {
      "cell_type": "code",
      "metadata": {
        "id": "hXaebMsYz5SN",
        "colab_type": "code",
        "colab": {
          "base_uri": "https://localhost:8080/",
          "height": 35
        },
        "outputId": "8d904ade-96b4-4d7f-e38e-2132b28d568e"
      },
      "source": [
        "words = [\"Hello\", \"Spark\", \"1\",'Happe','Spark']\n",
        "sc.parallelize(words).count()\n"
      ],
      "execution_count": 14,
      "outputs": [
        {
          "output_type": "execute_result",
          "data": {
            "text/plain": [
              "5"
            ]
          },
          "metadata": {
            "tags": []
          },
          "execution_count": 14
        }
      ]
    },
    {
      "cell_type": "code",
      "metadata": {
        "id": "SjQWgrHDz5Vd",
        "colab_type": "code",
        "colab": {
          "base_uri": "https://localhost:8080/",
          "height": 401
        },
        "outputId": "9419c933-c82f-477a-f470-348f6ce5db4c"
      },
      "source": [
        "\n",
        "!wget -q https://raw.githubusercontent.com/ashfarhangi/Reinforcement-Learning-Trading/master/review.txt\n",
        "# There are two ways to read text file\n",
        "a = spark.read.text('/content/review.txt')\n",
        "lines = sc.textFile(\"review.txt\")\n",
        "lines.count()\n",
        "lines.take(20)\n",
        "\n"
      ],
      "execution_count": 26,
      "outputs": [
        {
          "output_type": "execute_result",
          "data": {
            "text/plain": [
              "['{\"reviewerID\": \"A1R3P8MRFSN4X3\", \"asin\": \"6301955250\", \"reviewText\": \"The plot and suspense are only so-so, but Ray Sharkey turned what might have been an ordinary world-weary, alcoholic cop role into a textured character with interesting nuances of toughness, sweetness, and struggle against hopeless odds. This performance profoundly touching without sentimentalism.  If only Beecroft had played the killer with comparable power, this could have been a fascinating good-guy-vs-his-demon dual.  As it is, for anyone interested in character acting, it\\'s a real feast. END\", \"overall\": 4.0, \"reviewTime\": \"08 9, 1997\"}',\n",
              " '{\"reviewerID\": \"AVM91SKZ9M58T\", \"asin\": \"B000002KXA\", \"reviewText\": \"This remix and single version of Madonna\\'s song Resume Me [Immaculate Collection Album] is one of Madonna\\'s best. Not only does it show the true ability of Madonna\\'s vocal ability but the power this song brings to your heart. Madonna\\'s voice in this single is unlike any other song she has sang, beautifully put together and mastered. A song everyone remembers from Madonna\\'s long list of credits. This CD is one not to miss either you love Madonna or love-to-hate her, you must have it, a collection item!!! END\", \"overall\": 5.0, \"reviewTime\": \"08 10, 1997\"}',\n",
              " '{\"reviewerID\": \"A1HC72VDRLANIW\", \"asin\": \"6303935419\", \"reviewText\": \"I found reefer madness to be a &quot;DRAG&quot; of a movie it was explotive Boring and contained not one piece of storyline that was even mildly intresting whatsoever the actors were amateur the ending was like something you would expect to see in some kindergarden play put together in about five minutes. The only satifying point of the movie was the closing credites because you realize this piece of garbage is over. The plot is about as complicated as a roadrunner cartoon some kid\\'s try marjuana get hooked on it kill a women ,run over a man with a car, get sent to jai,l go crazy and get put into an institution . If you enjoy boring pieces of garbage this movies for you... END\", \"overall\": 1.0, \"reviewTime\": \"08 19, 1997\"}',\n",
              " '{\"reviewerID\": \"A2XBTS97FERY2Q\", \"asin\": \"6302049040\", \"reviewText\": \"This is a wide ranging musical comedy done in the style of post-depression era musicals, including brilliant performances from Steve Martin, Bernadette Peters, and Christopher Walken.  One might take the movie literally as a love story, but upon further consideration we see that it\\'s actually a movie dedicated to the upbeat songs and movies of days long gone by.  I recommend movie highly as it is sometimes boisterous, and other times delicately romantic, but all the while very entertaining.  @see-also &quot;Radio Days&quot; END\", \"overall\": 5.0, \"reviewTime\": \"08 23, 1997\"}',\n",
              " '{\"reviewerID\": \"A1QEOOUQ8M0E1K\", \"asin\": \"0672307952\", \"reviewText\": \"Although this book was a good introduction to the Visual C++ interface, the subject matter was too limited to be of any future use.  The &quot;just type this, don\\'t worry how it works&quot; philosophy of the authors does not work well.  As a result, many users such as myself have had a hard time customizing the code for our own usage.  It would help if the authors would explain the code in more detail.However, the basics of producing good quality programs were covered well, but the architecture of Windows and event-driven programming were not covered in good detail.  I strongly believe that understanding the code is just as important as producing a program that incorporates a good user interface and that provides rich functionality.That brings me to my third point: the book concentrates too much on producing the program GUI and not enough on data handling and the refined Input-Output functions of the new MFC.  The book does not go into enough detail about the data control in a program and object hierarchies of the MFC.Overall, this book was a good introduction, but any expectations beyond that were not satisfied with the reading of this book\", \"overall\": 2.0, \"reviewTime\": \"08 25, 1997\"}',\n",
              " '{\"reviewerID\": \"ALEBTW1HIOIEU\", \"asin\": \"B000002OKC\", \"reviewText\": \"This 16-song compilation of western swing includes: San Antonio Rose, Lilly Dale, Texas Two Step, and Big Ball in Cowtown.  [...] END\", \"overall\": 5.0, \"reviewTime\": \"08 26, 1997\"}',\n",
              " '{\"reviewerID\": \"A1WE9G1S8VY01K\", \"asin\": \"0758211694\", \"reviewText\": \"This book was a great mystery as it was set up with many possible suspects. It was exciting as well as funny, and you found yourself cheering on the &quot; three blond mice&quot; in their quest for happiness. A great read\", \"overall\": 5.0, \"reviewTime\": \"09 2, 1997\"}',\n",
              " '{\"reviewerID\": \"A3MIU1UTFCY3BK\", \"asin\": \"6304174616\", \"reviewText\": \"This classic set of 26 epsidoes was aired in the United States in the late 1970s and early 1980s.  There were three seperate series, this being the first.  Earth is under attack by evil aliens in the future and the only hope is to refit the old World War II battleship, the Yamato.  It becomes the Argo and watch it begin its quest.  Most men 20-30 will probably remember this show from our childhood. END\", \"overall\": 5.0, \"reviewTime\": \"09 3, 1997\"}',\n",
              " '{\"reviewerID\": \"A8OUAXOC46SHP\", \"asin\": \"0802132758\", \"reviewText\": \"Ever wonder whether you were the hero of your life or just a minor character in someone else\\'s?Stoppard explores this premise brilliantly in this revisiting of Shakespeare\\'s Hamlet, this time seen through the eyes of two bit-players in that great drama: Rosencrantz &amp; Guildenstern, hapless drifters caught in a whirl of fate and trying to figure out their place in the universe.With dialogue that cracks like a whip and a truly dizzying plot, we follow these two curious men attempt to make sense of the strange dramatic world into which they\\'ve been thrust. As this play weaves into &amp; back out of Shakespeare\\'s original, we are treated to a dazzling display of slapstick existentialism.Stoppard has created a contemporary classic that is every bit as entertaining as it is disturbing\", \"overall\": 5.0, \"reviewTime\": \"09 3, 1997\"}',\n",
              " '{\"reviewerID\": \"A11M80USOXYAG1\", \"asin\": \"B000000LWZ\", \"reviewText\": \"It was while driving on Highway 83, heading off to work, that I first came into contact with the voice of Mary Black. There I was driving along, humming, meandering among my thoughts whle traveling the blacktop when over the radio poured out a voice smooth as water with a depth and beautiful tonality that grabbed at my heart from the first note. Her &quot;Song of Ireland&quot; which is featured on this C.D. is not only my favorite song of hers but my favorite song of all. The words, the music, the melody line, and finally her voice combine to create not just a song but an experience. I was transported and frozen deep in listening while driving in the early morning traffic. Even after the last note dissapeared and I had scrambled to jot down the name of this amazing singer as the D.J. announced it, her song, her voice, stayed with me making my day that much brighter, more perfect, certianly more enjoyable.  Mary Black\\'s voice is an experince no true music lover should be without and I highly recommend this C.D. END\", \"overall\": 5.0, \"reviewTime\": \"09 8, 1997\"}',\n",
              " '{\"reviewerID\": \"A3D50ZQNN9BEZF\", \"asin\": \"630265288X\", \"reviewText\": \"This is a fun all over body workout, you can do it all at once or just do the aerobics one day and the toning section the next. It is clearly labeled. This tape is about all you need to get in shape. Kathy Kaehler is great. END\", \"overall\": 5.0, \"reviewTime\": \"09 12, 1997\"}',\n",
              " '{\"reviewerID\": \"A187I4PIEUMOLT\", \"asin\": \"B000002H3Z\", \"reviewText\": \"This isn\\'t actually a book. It is a beautifully-crafted CD by a wonderful no-longer-together band called the Housemartins. I recommend it to anyone who knows and loves the Beautiful South or bands like Trash Can Sinatras, Stephen Duffy, Barenaked Ladies, etc. London 0/Hull 4 is the first disc by this brilliant group. Buy it today!! END\", \"overall\": 5.0, \"reviewTime\": \"09 13, 1997\"}',\n",
              " '{\"reviewerID\": \"A2QDKEH23ZSD5N\", \"asin\": \"6304071841\", \"reviewText\": \"I thought the way they used symbolism in this movie  was incredible!  The most obvious was the water, which some people hated, but I thought it was very emotionally pulling.  Leonardo DiCaprio is, dare I say it, one of the best, if not THE best actor of my generation. He stays true to his reputation in the modernization of this classic.  We have to remember that when Shakespeare  used this language, the phrases were not cliches, as they  are now.  Leonardo and Claire Danes display the freshness  and vitality that the words originally had. I do have to say,  however, that the music is so loud at some points, you can hardly hear the words.  All around it\\'s an excellent  piece. END\", \"overall\": 5.0, \"reviewTime\": \"09 14, 1997\"}',\n",
              " '{\"reviewerID\": \"A3RJTOGIIWI5JH\", \"asin\": \"B000005KU6\", \"reviewText\": \"The songs on  Going Public have a good beat and good tunes. but also ahve very valuable messages.  I\\'d like to thank Peter Furler, Jody Davis, John James, Kevin mills, and Dunny Phillips for taking a stand for Jesus and helping a lot of kids along.  It can\\'t be easybeing so public about Christ, but here these men are helping kids along wiht it to.  While teh rest of the worl was doing the macerena, we were al doing the &quot;Shine&quot;.  I want to let all teh Newsboys know that I am trying to shine and be public about my faith in Christ.  Thanx guys. END\", \"overall\": 5.0, \"reviewTime\": \"09 19, 1997\"}',\n",
              " '{\"reviewerID\": \"A19OSOMXVZY5PI\", \"asin\": \"630197834X\", \"reviewText\": \"This was the first Vivien Leigh movie I\\'ve seen other than Gone With the Wind and, although I was a bit afraid that I\\'d be dissapointed by her acting after her flawless performance as Scarlett O\\'Hara, my reaction to Waterloo Bridge was the exact opposite of what I\\'d feared it would be.The story takes place in London during World War I. Myra Lester, a ballet dancer (Vivien Leigh)  and Roy Cronin, a military captain (Robert Taylor) have a chance meeting on Waterloo Bridge  during an air raid, and it is &quot;love at first sight.&quot; They attempt to get married but it is not to be, for Roy is called away before they can. Myra and her friend Kitty are kicked out of ballet class and are forced to fend for themselves. Believing Roy to be dead, and being destitute, Myra turns to prostitution. However, he returns from the war, alive after all, and takes Myra to his country home in Scotland, where the couple is soon to be wed. But Myra, not wanting to dishonor Roy, finds that she cannot marry him. She returns to London and there, at Waterloo Bridge, kills  herself. However, Roy, dicovering what she\\'d been hiding from him but moments too late, vows  to always love her and never forget her.Although this movie ends tragically, it is definitely not one to be missed. The storyline is well thought out and the acting superb. The main characters are also well-defined. Myra is a sweet,  lovable girl whom demands your compassion, while Roy is the perfect man--sensitive, handsome,  and rich. ;^) From the very beginning you become entangled in the lives of the two people and the  undying love they have for one another.Although lesser known then some, Waterloo Bridge is a classic. It shows how war can devastatingly change the lives of ordinary people and depicts true love and honor in every respect.END\", \"overall\": 5.0, \"reviewTime\": \"09 20, 1997\"}',\n",
              " '{\"reviewerID\": \"A27YXL9013SOF4\", \"asin\": \"B00000053E\", \"reviewText\": \"One of the best album\\'s that I\\'ve ever listened to.  Jars of Clay is a refreshing blend of meaningful lyrics and acoustic guitar, mixed in with some really cool instrument solos.  Get it! END\", \"overall\": 5.0, \"reviewTime\": \"09 21, 1997\"}',\n",
              " '{\"reviewerID\": \"A36C8J8WLV4FXW\", \"asin\": \"0790732475\", \"reviewText\": \"I saw this movie when it first came out on the big screen in June of 1997. I wasn\\'t expecting much, and I wasn\\'t disappointed. This movie is awful! There is no plot; most of the dialogue consists of one-liners and bad jokes; there are far too many gratuitous butt-shots; and most of the acting is so bad that it makes what you might see at a high school play look professional. While there are a few good scenes between Bruce Wayne and Alfred, even these are spoiled by the frequent inclusion of hallucinations of scenes from Bruce Wayne\\'s past (none of which, incidentally, seemed to have anything to do with his decision to become Batman.) Don\\'t waste your money on this movie. END\", \"overall\": 1.0, \"reviewTime\": \"09 22, 1997\"}',\n",
              " '{\"reviewerID\": \"AW09UQQ3V59J6\", \"asin\": \"0471178411\", \"reviewText\": \"The Exchange 5 Source Book written by Mann, Bracka, et al is very difficult to follow. It seems like it was written very fast by many people and pulled together at the last minute. There are many disjointed segments that are often repeated in other portions of the book. There are references throughout the book to other sections that in some cases do not even exist. Overall the book is a general overview of Exchange Server and Exchange/Outlook clients. I used the book as a background to the Microsoft course work and did find it to supplement the material somewhat. One notable well-written section is on designing and installing an Exchange system. In addition, some of the material on Internet connections was good. I would recommend waiting for some of the other Exchange 5.0 books that are scheduled for publication in the next few months\", \"overall\": 2.0, \"reviewTime\": \"09 22, 1997\"}',\n",
              " '{\"reviewerID\": \"A14V63ENLFXZP8\", \"asin\": \"0891075275\", \"reviewText\": \"Another excellent outing be Peretti. He tackles the good / evil theme very well again.The power of prayer is clearly shown as important to our lives. This type incident is not that far-fetched in today\\'s society\", \"overall\": 5.0, \"reviewTime\": \"09 23, 1997\"}',\n",
              " '{\"reviewerID\": \"A32P3KTF6KVGCC\", \"asin\": \"6300216268\", \"reviewText\": \"Exceptional. I would rate it a 17 if I could. Nothing so sweet, yet so twisted have I ever seen. If you\\'re looking for something to make you laugh, cry, and contemplate, this is it! END\", \"overall\": 5.0, \"reviewTime\": \"09 23, 1997\"}']"
            ]
          },
          "metadata": {
            "tags": []
          },
          "execution_count": 26
        }
      ]
    },
    {
      "cell_type": "code",
      "metadata": {
        "id": "n-ErdcWVRen8",
        "colab_type": "code",
        "colab": {
          "base_uri": "https://localhost:8080/",
          "height": 54
        },
        "outputId": "fd760af5-503a-4d72-ff58-3416fbed55ce"
      },
      "source": [
        "goodCount = lines.filter(lambda line: \"good\" in line).count()\n",
        "print(goodCount)\n",
        "badCount = lines.filter(lambda line: \"bad\" in line).count()\n",
        "print(badCount)"
      ],
      "execution_count": 16,
      "outputs": [
        {
          "output_type": "stream",
          "text": [
            "1697\n",
            "332\n"
          ],
          "name": "stdout"
        }
      ]
    },
    {
      "cell_type": "code",
      "metadata": {
        "id": "rMQgZmXIAD_X",
        "colab_type": "code",
        "colab": {
          "base_uri": "https://localhost:8080/",
          "height": 72
        },
        "outputId": "186bcc2a-32f0-41e7-f3c1-58b653b78a9a"
      },
      "source": [
        "%time\n",
        "lines.filter(lambda line: \"bad\" in line).count()\n"
      ],
      "execution_count": 17,
      "outputs": [
        {
          "output_type": "stream",
          "text": [
            "CPU times: user 3 µs, sys: 1 µs, total: 4 µs\n",
            "Wall time: 7.87 µs\n"
          ],
          "name": "stdout"
        },
        {
          "output_type": "execute_result",
          "data": {
            "text/plain": [
              "332"
            ]
          },
          "metadata": {
            "tags": []
          },
          "execution_count": 17
        }
      ]
    },
    {
      "cell_type": "code",
      "metadata": {
        "id": "7I6NCUOE0ETy",
        "colab_type": "code",
        "colab": {
          "base_uri": "https://localhost:8080/",
          "height": 35
        },
        "outputId": "14da6e1f-ff13-44bf-ffd8-9699129d94d0"
      },
      "source": [
        "# A helper function to compute the list of words in a line of text\n",
        "import re\n",
        "def get_words(line):\n",
        "    return re.compile('\\w+').findall(line)\n",
        "    \n",
        "goodCount = lines.filter(lambda line: \"good\" in get_words(line)).count()\n",
        "print(goodCount)"
      ],
      "execution_count": 20,
      "outputs": [
        {
          "output_type": "stream",
          "text": [
            "1662\n"
          ],
          "name": "stdout"
        }
      ]
    },
    {
      "cell_type": "code",
      "metadata": {
        "id": "rlLAtNSbvN6N",
        "colab_type": "code",
        "colab": {}
      },
      "source": [
        "log_of_songs= [\n",
        "        \"Despacito\",\n",
        "        \"Nice for what\",\n",
        "        \"No tears left to cry\",\n",
        "        \"Despacito\",\n",
        "        \"Havana\",\n",
        "        \"In my feelings\",\n",
        "        \"Nice for what\",\n",
        "        \"despacito\",\n",
        "        \"All the stars\"\n",
        "]\n",
        "distributed_song_log = sc.parallelize(log_of_songs)"
      ],
      "execution_count": 21,
      "outputs": []
    },
    {
      "cell_type": "code",
      "metadata": {
        "id": "sda2fGYQvN5c",
        "colab_type": "code",
        "colab": {
          "base_uri": "https://localhost:8080/",
          "height": 35
        },
        "outputId": "d5ed33ea-4176-4507-8b1e-8ff3efdbcf6d"
      },
      "source": [
        "def convert_songs_to_lowercase(songs):\n",
        "    return songs.lower()\n",
        "\n",
        "convert_songs_to_lowercase(\"Havana\")\n"
      ],
      "execution_count": 22,
      "outputs": [
        {
          "output_type": "execute_result",
          "data": {
            "application/vnd.google.colaboratory.intrinsic+json": {
              "type": "string"
            },
            "text/plain": [
              "'havana'"
            ]
          },
          "metadata": {
            "tags": []
          },
          "execution_count": 22
        }
      ]
    },
    {
      "cell_type": "code",
      "metadata": {
        "id": "h5ulys39vN36",
        "colab_type": "code",
        "colab": {
          "base_uri": "https://localhost:8080/",
          "height": 181
        },
        "outputId": "76d971d7-a8ce-4c4b-ea49-f4f11c7294cb"
      },
      "source": [
        "distributed_song_log.map(convert_songs_to_lowercase).collect()"
      ],
      "execution_count": 23,
      "outputs": [
        {
          "output_type": "execute_result",
          "data": {
            "text/plain": [
              "['despacito',\n",
              " 'nice for what',\n",
              " 'no tears left to cry',\n",
              " 'despacito',\n",
              " 'havana',\n",
              " 'in my feelings',\n",
              " 'nice for what',\n",
              " 'despacito',\n",
              " 'all the stars']"
            ]
          },
          "metadata": {
            "tags": []
          },
          "execution_count": 23
        }
      ]
    },
    {
      "cell_type": "code",
      "metadata": {
        "id": "U3HbT7nFviMk",
        "colab_type": "code",
        "colab": {
          "base_uri": "https://localhost:8080/",
          "height": 181
        },
        "outputId": "862e917c-60d9-4c44-944c-a9b54d9accfe"
      },
      "source": [
        "distributed_song_log.collect()"
      ],
      "execution_count": 24,
      "outputs": [
        {
          "output_type": "execute_result",
          "data": {
            "text/plain": [
              "['Despacito',\n",
              " 'Nice for what',\n",
              " 'No tears left to cry',\n",
              " 'Despacito',\n",
              " 'Havana',\n",
              " 'In my feelings',\n",
              " 'Nice for what',\n",
              " 'despacito',\n",
              " 'All the stars']"
            ]
          },
          "metadata": {
            "tags": []
          },
          "execution_count": 24
        }
      ]
    },
    {
      "cell_type": "code",
      "metadata": {
        "id": "5js9h3fxvnNc",
        "colab_type": "code",
        "colab": {
          "base_uri": "https://localhost:8080/",
          "height": 217
        },
        "outputId": "29bfa5b7-056b-48d5-ad51-0062e976cd0b"
      },
      "source": [
        "%time\n",
        "distributed_song_log.map(lambda songs: songs.lower()).collect()"
      ],
      "execution_count": 25,
      "outputs": [
        {
          "output_type": "stream",
          "text": [
            "CPU times: user 2 µs, sys: 0 ns, total: 2 µs\n",
            "Wall time: 6.91 µs\n"
          ],
          "name": "stdout"
        },
        {
          "output_type": "execute_result",
          "data": {
            "text/plain": [
              "['despacito',\n",
              " 'nice for what',\n",
              " 'no tears left to cry',\n",
              " 'despacito',\n",
              " 'havana',\n",
              " 'in my feelings',\n",
              " 'nice for what',\n",
              " 'despacito',\n",
              " 'all the stars']"
            ]
          },
          "metadata": {
            "tags": []
          },
          "execution_count": 25
        }
      ]
    },
    {
      "cell_type": "markdown",
      "metadata": {
        "id": "EGLw6qG6mFul",
        "colab_type": "text"
      },
      "source": [
        "# Misc.\n",
        "Magic tools:\n",
        "- %%file savemypythonfile.py\n",
        "- %time how much time does my code take\n"
      ]
    }
  ]
}