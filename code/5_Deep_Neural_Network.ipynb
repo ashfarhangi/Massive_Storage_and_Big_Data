{
  "nbformat": 4,
  "nbformat_minor": 0,
  "metadata": {
    "colab": {
      "name": "5_Deep_Neural_Network.ipynb",
      "provenance": [],
      "collapsed_sections": [],
      "authorship_tag": "ABX9TyPNRruPi2P40QQ4OMohasEP",
      "include_colab_link": true
    },
    "kernelspec": {
      "name": "python3",
      "display_name": "Python 3"
    }
  },
  "cells": [
    {
      "cell_type": "markdown",
      "metadata": {
        "id": "view-in-github",
        "colab_type": "text"
      },
      "source": [
        "<a href=\"https://colab.research.google.com/github/ashfarhangi/Massive_Storage_and_Big_Data/blob/master/code/5_Deep_Neural_Network.ipynb\" target=\"_parent\"><img src=\"https://colab.research.google.com/assets/colab-badge.svg\" alt=\"Open In Colab\"/></a>"
      ]
    },
    {
      "cell_type": "markdown",
      "metadata": {
        "id": "5ewyxVNZHghm"
      },
      "source": [
        "In this notebook we develop our first Deep Neural Network to reach near 90% accuracy for Mnist dataset in 16 lines of code"
      ]
    },
    {
      "cell_type": "markdown",
      "metadata": {
        "id": "K_EGrn-C4rZb"
      },
      "source": [
        "# Act I: Get the data"
      ]
    },
    {
      "cell_type": "code",
      "metadata": {
        "id": "TONKRzdt7EKe"
      },
      "source": [
        " import matplotlib.pyplot as plt\n",
        " import numpy as np"
      ],
      "execution_count": 60,
      "outputs": []
    },
    {
      "cell_type": "code",
      "metadata": {
        "id": "AIbpHfQO4onG"
      },
      "source": [
        " from keras.datasets import mnist\n",
        " (train_image, train_label) ,(test_image, test_label) = mnist.load_data()"
      ],
      "execution_count": 22,
      "outputs": []
    },
    {
      "cell_type": "code",
      "metadata": {
        "id": "EouWGBCY4sp_"
      },
      "source": [
        "# is it the test 10000or the train 60000][is the image 60000 or the label 60000][# image number 1-60000]\n",
        "# for j in range(10):\n",
        "#   plt.imshow(mnist.load_data()[0][0][j],cmap='gray')\n",
        "#   plt.title(mnist.load_data()[0][1][j])\n",
        "#   plt.show()"
      ],
      "execution_count": null,
      "outputs": []
    },
    {
      "cell_type": "markdown",
      "metadata": {
        "id": "LdxNlwNf7oor"
      },
      "source": [
        "# Act II: Preprocessing"
      ]
    },
    {
      "cell_type": "code",
      "metadata": {
        "id": "rE4AwCf97qg_"
      },
      "source": [
        "from keras.utils import to_categorical\n",
        "X_train = train_image.reshape(60000,784)\n",
        "X_test = test_image.reshape(10000,784)\n",
        "\n",
        "y_train =to_categorical(train_label)\n",
        "y_test =to_categorical(test_label)"
      ],
      "execution_count": 43,
      "outputs": []
    },
    {
      "cell_type": "markdown",
      "metadata": {
        "id": "9pAQvXpy7V6d"
      },
      "source": [
        "# Act III: Neural Network"
      ]
    },
    {
      "cell_type": "code",
      "metadata": {
        "id": "tC0gU-AE5Llq",
        "outputId": "689ebb9b-ce34-49c1-8f9c-3566267ebe7f",
        "colab": {
          "base_uri": "https://localhost:8080/",
          "height": 714
        }
      },
      "source": [
        "from keras import layers, models\n",
        "Numbery = models.Sequential()\n",
        "Numbery.add(layers.Dense(32,activation='sigmoid'))\n",
        "Numbery.add(layers.Dense(10,activation='sigmoid'))\n",
        "Numbery.compile(optimizer='sgd',loss='mse',metrics=['accuracy'])\n",
        "Numbery.fit(X_train,y_train,epochs=20,batch_size=16)\n",
        "\n"
      ],
      "execution_count": 86,
      "outputs": [
        {
          "output_type": "stream",
          "text": [
            "Epoch 1/20\n",
            "3750/3750 [==============================] - 4s 1ms/step - loss: 0.1021 - accuracy: 0.2584\n",
            "Epoch 2/20\n",
            "3750/3750 [==============================] - 4s 1ms/step - loss: 0.0798 - accuracy: 0.5209\n",
            "Epoch 3/20\n",
            "3750/3750 [==============================] - 4s 1ms/step - loss: 0.0727 - accuracy: 0.5968\n",
            "Epoch 4/20\n",
            "3750/3750 [==============================] - 4s 1ms/step - loss: 0.0664 - accuracy: 0.6485\n",
            "Epoch 5/20\n",
            "3750/3750 [==============================] - 4s 1ms/step - loss: 0.0608 - accuracy: 0.7060\n",
            "Epoch 6/20\n",
            "3750/3750 [==============================] - 4s 1ms/step - loss: 0.0554 - accuracy: 0.7495\n",
            "Epoch 7/20\n",
            "3750/3750 [==============================] - 4s 1ms/step - loss: 0.0511 - accuracy: 0.7747\n",
            "Epoch 8/20\n",
            "3750/3750 [==============================] - 4s 1ms/step - loss: 0.0475 - accuracy: 0.7952\n",
            "Epoch 9/20\n",
            "3750/3750 [==============================] - 4s 1ms/step - loss: 0.0445 - accuracy: 0.8160\n",
            "Epoch 10/20\n",
            "3750/3750 [==============================] - 4s 1ms/step - loss: 0.0420 - accuracy: 0.8303\n",
            "Epoch 11/20\n",
            "3750/3750 [==============================] - 4s 1ms/step - loss: 0.0397 - accuracy: 0.8406\n",
            "Epoch 12/20\n",
            "3750/3750 [==============================] - 4s 1ms/step - loss: 0.0378 - accuracy: 0.8533\n",
            "Epoch 13/20\n",
            "3750/3750 [==============================] - 4s 1ms/step - loss: 0.0360 - accuracy: 0.8595\n",
            "Epoch 14/20\n",
            "3750/3750 [==============================] - 4s 1ms/step - loss: 0.0345 - accuracy: 0.8649\n",
            "Epoch 15/20\n",
            "3750/3750 [==============================] - 4s 1ms/step - loss: 0.0332 - accuracy: 0.8695\n",
            "Epoch 16/20\n",
            "3750/3750 [==============================] - 4s 1ms/step - loss: 0.0319 - accuracy: 0.8729\n",
            "Epoch 17/20\n",
            "3750/3750 [==============================] - 4s 1ms/step - loss: 0.0308 - accuracy: 0.8766\n",
            "Epoch 18/20\n",
            "3750/3750 [==============================] - 4s 1ms/step - loss: 0.0298 - accuracy: 0.8787\n",
            "Epoch 19/20\n",
            "3750/3750 [==============================] - 4s 1ms/step - loss: 0.0289 - accuracy: 0.8808\n",
            "Epoch 20/20\n",
            "3750/3750 [==============================] - 4s 1ms/step - loss: 0.0281 - accuracy: 0.8828\n"
          ],
          "name": "stdout"
        },
        {
          "output_type": "execute_result",
          "data": {
            "text/plain": [
              "<tensorflow.python.keras.callbacks.History at 0x7f4532975b00>"
            ]
          },
          "metadata": {
            "tags": []
          },
          "execution_count": 86
        }
      ]
    },
    {
      "cell_type": "code",
      "metadata": {
        "id": "K0LJ0Tc7Ck0w",
        "outputId": "6842a7cf-2c87-4d45-ec28-fd7d07ced0d9",
        "colab": {
          "base_uri": "https://localhost:8080/",
          "height": 51
        }
      },
      "source": [
        "# Testing the accuracy of the network on the unseen test data:\n",
        "Numbery.evaluate(X_test,y_test,batch_size=1)\n",
        "#16 lines "
      ],
      "execution_count": 88,
      "outputs": [
        {
          "output_type": "stream",
          "text": [
            "10000/10000 [==============================] - 8s 802us/step - loss: 0.0276 - accuracy: 0.8856\n"
          ],
          "name": "stdout"
        },
        {
          "output_type": "execute_result",
          "data": {
            "text/plain": [
              "[0.027638867497444153, 0.8855999708175659]"
            ]
          },
          "metadata": {
            "tags": []
          },
          "execution_count": 88
        }
      ]
    },
    {
      "cell_type": "code",
      "metadata": {
        "id": "PtvhsFkjC1R_"
      },
      "source": [
        "# (Optional) Visualizing the correct and incorrect output  \n",
        "predicted_output = Numbery.predict_classes(X_test)\n",
        "correct_output = np.nonzero(predicted_output == test_label)[0]\n",
        "incorrect_output = np.nonzero(predicted_output != test_label)[0]"
      ],
      "execution_count": 89,
      "outputs": []
    },
    {
      "cell_type": "code",
      "metadata": {
        "id": "GsVIh092Duio",
        "outputId": "d4c1d9f5-f1a1-4bf6-ffb9-999b61e4dd5f",
        "colab": {
          "base_uri": "https://localhost:8080/",
          "height": 34
        }
      },
      "source": [
        "predicted_output"
      ],
      "execution_count": 90,
      "outputs": [
        {
          "output_type": "execute_result",
          "data": {
            "text/plain": [
              "array([7, 2, 1, ..., 4, 8, 6])"
            ]
          },
          "metadata": {
            "tags": []
          },
          "execution_count": 90
        }
      ]
    },
    {
      "cell_type": "code",
      "metadata": {
        "id": "SDwVl5nmDnsc",
        "outputId": "9924488f-b09e-4e0b-bf49-8c6a3f15e761",
        "colab": {
          "base_uri": "https://localhost:8080/",
          "height": 34
        }
      },
      "source": [
        "a= len(correct_output)\n",
        "b= len(incorrect_output)\n",
        "print(a/(a+b))"
      ],
      "execution_count": 93,
      "outputs": [
        {
          "output_type": "stream",
          "text": [
            "0.8856\n"
          ],
          "name": "stdout"
        }
      ]
    },
    {
      "cell_type": "code",
      "metadata": {
        "id": "DtThxLliD7S6",
        "outputId": "a9bea25c-32e6-458d-8cef-c678a4fe34df",
        "colab": {
          "base_uri": "https://localhost:8080/",
          "height": 281
        }
      },
      "source": [
        "for i,j in enumerate(incorrect_output[100:109]):\n",
        "  plt.subplot(3,3,i+1)\n",
        "  plt.subplots_adjust(wspace=1,hspace=1)\n",
        "  plt.imshow(X_test[j].reshape(28,28),cmap='gray')\n",
        "  plt.title('Predicted: ' +str(predicted_output[j])+' True: '+str(test_label[j]))\n",
        "\n",
        "plt.show()"
      ],
      "execution_count": 103,
      "outputs": [
        {
          "output_type": "display_data",
          "data": {
            "image/png": "[encoded data removed]",
            "text/plain": [
              "<Figure size 432x288 with 9 Axes>"
            ]
          },
          "metadata": {
            "tags": [],
            "needs_background": "light"
          }
        }
      ]
    },
    {
      "cell_type": "markdown",
      "metadata": {
        "id": "BGagpBVZBv54"
      },
      "source": [
        "# Take-Home "
      ]
    },
    {
      "cell_type": "markdown",
      "metadata": {
        "id": "kXwkY2iTByeW"
      },
      "source": [
        "Tweak the number of layers or neurons inside each layer to get 90% accuracy for 20 epochs?"
      ]
    }
  ]
}