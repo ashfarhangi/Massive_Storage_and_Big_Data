{
  "nbformat": 4,
  "nbformat_minor": 0,
  "metadata": {
    "colab": {
      "name": "4.pyTorch_notebook.ipynb",
      "provenance": [],
      "authorship_tag": "ABX9TyPOMyet1Da2ZpkDcc5Mosrj",
      "include_colab_link": true
    },
    "kernelspec": {
      "name": "python3",
      "display_name": "Python 3"
    }
  },
  "cells": [
    {
      "cell_type": "markdown",
      "metadata": {
        "id": "view-in-github",
        "colab_type": "text"
      },
      "source": [
        "<a href=\"https://colab.research.google.com/github/ashfarhangi/Massive_Storage_and_Big_Data/blob/master/code/11_pyTorch_notebook.ipynb\" target=\"_parent\"><img src=\"https://colab.research.google.com/assets/colab-badge.svg\" alt=\"Open In Colab\"/></a>"
      ]
    },
    {
      "cell_type": "markdown",
      "metadata": {
        "id": "1-C3kBJojJvU"
      },
      "source": [
        "In this notebook, we take a look at the facebooks pytorch library for developing neural networks"
      ]
    },
    {
      "cell_type": "code",
      "metadata": {
        "id": "dNI3Blwh1hMW",
        "colab": {
          "base_uri": "https://localhost:8080/"
        },
        "outputId": "7423c3ba-efb8-46b3-912e-c0defe5802c5"
      },
      "source": [
        "!pip install -q -U watermark\n",
        "%reload_ext watermark\n",
        "%watermark -v -p numpy,pandas,torch"
      ],
      "execution_count": 1,
      "outputs": [
        {
          "output_type": "stream",
          "text": [
            "CPython 3.6.9\n",
            "IPython 5.5.0\n",
            "\n",
            "numpy 1.18.5\n",
            "pandas 1.1.4\n",
            "torch 1.7.0+cu101\n"
          ],
          "name": "stdout"
        }
      ]
    },
    {
      "cell_type": "code",
      "metadata": {
        "id": "gnDtDQIJjGNz",
        "colab": {
          "base_uri": "https://localhost:8080/"
        },
        "outputId": "17633b6c-9c32-4186-a9e8-0abc57cbd650"
      },
      "source": [
        "import torch\n",
        "from datetime import datetime\n",
        "now = datetime.now().date() \n",
        "print('torch version: ',torch.__version__)\n",
        "print('Current Date:',now)"
      ],
      "execution_count": 2,
      "outputs": [
        {
          "output_type": "stream",
          "text": [
            "torch version:  1.7.0+cu101\n",
            "Current Date: 2020-12-06\n"
          ],
          "name": "stdout"
        }
      ]
    },
    {
      "cell_type": "code",
      "metadata": {
        "id": "RQ6bHSkvkPt-",
        "colab": {
          "base_uri": "https://localhost:8080/"
        },
        "outputId": "2db62882-ac11-4412-b4ac-11ae2a1971f0"
      },
      "source": [
        "a = torch.tensor([1,2])\n",
        "a.size()"
      ],
      "execution_count": 3,
      "outputs": [
        {
          "output_type": "execute_result",
          "data": {
            "text/plain": [
              "torch.Size([2])"
            ]
          },
          "metadata": {
            "tags": []
          },
          "execution_count": 3
        }
      ]
    },
    {
      "cell_type": "code",
      "metadata": {
        "id": "cON-PruNk-sY",
        "colab": {
          "base_uri": "https://localhost:8080/"
        },
        "outputId": "1dfd49c5-c635-4805-9e1b-4d96d9180e7e"
      },
      "source": [
        "device = torch.device(\"cuda\") if torch.cuda.is_available() else torch.device(\"cpu\")\n",
        "device"
      ],
      "execution_count": 4,
      "outputs": [
        {
          "output_type": "execute_result",
          "data": {
            "text/plain": [
              "device(type='cpu')"
            ]
          },
          "metadata": {
            "tags": []
          },
          "execution_count": 4
        }
      ]
    },
    {
      "cell_type": "code",
      "metadata": {
        "id": "a40VloVVlgsj",
        "colab": {
          "base_uri": "https://localhost:8080/"
        },
        "outputId": "b012bf20-228c-4c43-9ad5-45f3f70afd4b"
      },
      "source": [
        "x = torch.tensor([[2, 3], [1, 2]])\n",
        "x.to(device)\n"
      ],
      "execution_count": 5,
      "outputs": [
        {
          "output_type": "execute_result",
          "data": {
            "text/plain": [
              "tensor([[2, 3],\n",
              "        [1, 2]])"
            ]
          },
          "metadata": {
            "tags": []
          },
          "execution_count": 5
        }
      ]
    },
    {
      "cell_type": "markdown",
      "metadata": {
        "id": "qg4TYIhxlyky"
      },
      "source": [
        "Doing operations between GPU and CPU Tensors is not allowed\n"
      ]
    },
    {
      "cell_type": "markdown",
      "metadata": {
        "id": "VNmm4E9-mWKg"
      },
      "source": [
        "## Simple NN\n"
      ]
    },
    {
      "cell_type": "markdown",
      "metadata": {
        "id": "EoIuTsGCnFud"
      },
      "source": [
        "## Import Libraries"
      ]
    },
    {
      "cell_type": "code",
      "metadata": {
        "id": "Ij25hPZD1iVb"
      },
      "source": [
        "# Heavily based on https://github.com/Prodicode/ann-visualizer\n",
        "\n",
        "def ann_viz(model, view=True, filename=\"network.gv\"):\n",
        "    \"\"\"Vizualizez a Sequential model.\n",
        "\n",
        "    # Arguments\n",
        "        model: A Keras model instance.\n",
        "\n",
        "        view: whether to display the model after generation.\n",
        "\n",
        "        filename: where to save the vizualization. (a .gv file)\n",
        "\n",
        "        title: A title for the graph\n",
        "    \"\"\"\n",
        "    from graphviz import Digraph\n",
        "\n",
        "    input_layer = 0\n",
        "    hidden_layers_nr = 0\n",
        "    layer_types = []\n",
        "    hidden_layers = []\n",
        "    output_layer = 0\n",
        "    layers = [layer for layer in model.modules() if type(layer) == torch.nn.Linear]\n",
        "\n",
        "    for layer in layers:\n",
        "        if layer == layers[0]:\n",
        "            input_layer = layer.in_features\n",
        "            hidden_layers_nr += 1\n",
        "            if type(layer) == torch.nn.Linear:                \n",
        "                hidden_layers.append(layer.out_features)\n",
        "                layer_types.append(\"Dense\")\n",
        "            else:\n",
        "                raise Exception(\"Input error\")\n",
        "\n",
        "        else:\n",
        "            if layer == layers[-1]:\n",
        "                output_layer = layer.out_features\n",
        "            else:\n",
        "                hidden_layers_nr += 1\n",
        "                if type(layer) == torch.nn.Linear:\n",
        "\n",
        "                    hidden_layers.append(layer.out_features)\n",
        "                    layer_types.append(\"Dense\")\n",
        "                else:\n",
        "                    raise Exception(\"Hidden error\")\n",
        "        last_layer_nodes = input_layer\n",
        "        nodes_up = input_layer\n",
        "\n",
        "    g = Digraph(\"g\", filename=filename)\n",
        "    n = 0\n",
        "    g.graph_attr.update(splines=\"false\", nodesep=\"0.5\", ranksep=\"0\", rankdir='LR')\n",
        "    # Input Layer\n",
        "    with g.subgraph(name=\"cluster_input\") as c:\n",
        "        if type(layers[0]) == torch.nn.Linear:\n",
        "            the_label = \"Input Layer\"\n",
        "            if layers[0].in_features > 10:\n",
        "                the_label += \" (+\" + str(layers[0].in_features - 10) + \")\"\n",
        "                input_layer = 10\n",
        "            c.attr(color=\"white\")\n",
        "            for i in range(0, input_layer):\n",
        "                n += 1\n",
        "                c.node(str(n))\n",
        "                c.attr(labeljust=\"1\")\n",
        "                c.attr(label=the_label, labelloc=\"bottom\")\n",
        "                c.attr(rank=\"same\")                \n",
        "                c.node_attr.update(\n",
        "                    width=\"0.65\",\n",
        "                    style=\"filled\",                    \n",
        "                    shape=\"circle\",\n",
        "                    color=HAPPY_COLORS_PALETTE[3],\n",
        "                    fontcolor=HAPPY_COLORS_PALETTE[3],\n",
        "                )\n",
        "    for i in range(0, hidden_layers_nr):\n",
        "        with g.subgraph(name=\"cluster_\" + str(i + 1)) as c:\n",
        "            if layer_types[i] == \"Dense\":\n",
        "                c.attr(color=\"white\")\n",
        "                c.attr(rank=\"same\")\n",
        "                the_label = f'Hidden Layer {i + 1}'\n",
        "                if layers[i].out_features > 10:\n",
        "                    the_label += \" (+\" + str(layers[i].out_features - 10) + \")\"\n",
        "                    hidden_layers[i] = 10\n",
        "                c.attr(labeljust=\"right\", labelloc=\"b\", label=the_label)\n",
        "                for j in range(0, hidden_layers[i]):\n",
        "                    n += 1\n",
        "                    c.node(\n",
        "                        str(n),\n",
        "                        width=\"0.65\",\n",
        "                        shape=\"circle\",\n",
        "                        style=\"filled\",\n",
        "                        color=HAPPY_COLORS_PALETTE[0],\n",
        "                        fontcolor=HAPPY_COLORS_PALETTE[0],\n",
        "                    )\n",
        "                    for h in range(nodes_up - last_layer_nodes + 1, nodes_up + 1):\n",
        "                        g.edge(str(h), str(n))\n",
        "                last_layer_nodes = hidden_layers[i]\n",
        "                nodes_up += hidden_layers[i]\n",
        "            else:\n",
        "                raise Exception(\"Hidden layer type not supported\")\n",
        "\n",
        "    with g.subgraph(name=\"cluster_output\") as c:\n",
        "        if type(layers[-1]) == torch.nn.Linear:\n",
        "            c.attr(color=\"white\")\n",
        "            c.attr(rank=\"same\")\n",
        "            c.attr(labeljust=\"1\")\n",
        "            for i in range(1, output_layer + 1):\n",
        "                n += 1\n",
        "                c.node(\n",
        "                    str(n),\n",
        "                    width=\"0.65\",\n",
        "                    shape=\"circle\",\n",
        "                    style=\"filled\",\n",
        "                    color=HAPPY_COLORS_PALETTE[4],\n",
        "                    fontcolor=HAPPY_COLORS_PALETTE[4],\n",
        "                    \n",
        "                )\n",
        "                for h in range(nodes_up - last_layer_nodes + 1, nodes_up + 1):\n",
        "                    g.edge(str(h), str(n))\n",
        "            c.attr(label=\"Output Layer\", labelloc=\"bottom\")\n",
        "            c.node_attr.update(\n",
        "                color=\"#2ecc71\", style=\"filled\", fontcolor=\"#2ecc71\", shape=\"circle\"\n",
        "            )\n",
        "\n",
        "    g.attr(arrowShape=\"none\")\n",
        "    g.edge_attr.update(arrowhead=\"none\", color=\"#707070\", penwidth=\"2\")\n",
        "    if view is True:\n",
        "        g.view()\n",
        "\n",
        "    return g\n"
      ],
      "execution_count": 6,
      "outputs": []
    },
    {
      "cell_type": "code",
      "metadata": {
        "id": "wzWYlaBNmXpw"
      },
      "source": [
        "import pandas as pd\n",
        "import torch\n",
        "from tqdm import tqdm\n",
        "import seaborn as sns\n",
        "import matplotlib.pyplot as plt\n",
        "import numpy as np\n",
        "from pylab import rcParams\n",
        "from matplotlib import rc\n",
        "import warnings\n",
        "warnings.filterwarnings('ignore')\n",
        "from sklearn.model_selection import train_test_split\n",
        "from sklearn.metrics import confusion_matrix,classification_report\n",
        "\n",
        "from torch import nn,optim\n",
        "import torch.nn.functional as F\n",
        "rcParams['figure.figsize'] = (12,8)"
      ],
      "execution_count": 7,
      "outputs": []
    },
    {
      "cell_type": "code",
      "metadata": {
        "id": "3Ar4PQron0l0",
        "colab": {
          "base_uri": "https://localhost:8080/"
        },
        "outputId": "af6cdb6a-f9cd-4f78-97c4-8af16c1c20d7"
      },
      "source": [
        "%matplotlib inline\n",
        "%config InlineBackend.figure_format='retina'\n",
        "sns.set(style='whitegrid', palette='muted', font_scale=1.2)\n",
        "HAPPY_COLORS_PALETTE = [\"#01BEFE\", \"#FFDD00\", \"#FF7D00\", \"#FF006D\", \"#93D30C\", \"#8F00FF\"]\n",
        "sns.set_palette(sns.color_palette(HAPPY_COLORS_PALETTE))\n",
        "RANDOM_SEED =47\n",
        "np.random.seed(RANDOM_SEED)\n",
        "torch.manual_seed(RANDOM_SEED)"
      ],
      "execution_count": 8,
      "outputs": [
        {
          "output_type": "execute_result",
          "data": {
            "text/plain": [
              "<torch._C.Generator at 0x7f5c70c10b10>"
            ]
          },
          "metadata": {
            "tags": []
          },
          "execution_count": 8
        }
      ]
    },
    {
      "cell_type": "markdown",
      "metadata": {
        "id": "GnmZ9mt-nU67"
      },
      "source": [
        "## Data"
      ]
    },
    {
      "cell_type": "code",
      "metadata": {
        "id": "61CgkJVZnfS3",
        "colab": {
          "base_uri": "https://localhost:8080/"
        },
        "outputId": "f51e5848-0ef9-4cdd-b534-d0543e06bd20"
      },
      "source": [
        "#upload ur data to google drive and turn this link \n",
        "!gdown --id 1Q1wUptbNDYdfizk5abhmoFxIQiX19Tn7"
      ],
      "execution_count": 9,
      "outputs": [
        {
          "output_type": "stream",
          "text": [
            "Downloading...\n",
            "From: https://drive.google.com/uc?id=1Q1wUptbNDYdfizk5abhmoFxIQiX19Tn7\n",
            "To: /content/weatherAUS.csv\n",
            "14.2MB [00:00, 65.9MB/s]\n"
          ],
          "name": "stdout"
        }
      ]
    },
    {
      "cell_type": "code",
      "metadata": {
        "id": "vXwy8lWnnl-O"
      },
      "source": [
        "df = pd.read_csv('/content/weatherAUS.csv',parse_dates=['Date'])\n",
        "# Before runnig the line below, take a slice of columns that are important and try to drop their values instead\n",
        "df.dropna()\n",
        "cols = ['Rainfall', 'Humidity3pm', 'Pressure9am', 'RainToday', 'RainTomorrow']\n",
        "\n",
        "df = df[cols]\n",
        "df['RainToday'].replace({'No': 0, 'Yes': 1}, inplace = True)\n",
        "df['RainTomorrow'].replace({'No': 0, 'Yes': 1}, inplace = True)\n",
        "# todo one hot encode the location\n"
      ],
      "execution_count": 10,
      "outputs": []
    },
    {
      "cell_type": "code",
      "metadata": {
        "id": "iQ7Ufwn-ps-U",
        "colab": {
          "base_uri": "https://localhost:8080/",
          "height": 411
        },
        "outputId": "380f7044-8c96-46d4-8a6b-f9fb06f649d9"
      },
      "source": [
        "df=df.dropna(how='any')\n",
        "df"
      ],
      "execution_count": 11,
      "outputs": [
        {
          "output_type": "execute_result",
          "data": {
            "text/html": [
              "<div>\n",
              "<style scoped>\n",
              "    .dataframe tbody tr th:only-of-type {\n",
              "        vertical-align: middle;\n",
              "    }\n",
              "\n",
              "    .dataframe tbody tr th {\n",
              "        vertical-align: top;\n",
              "    }\n",
              "\n",
              "    .dataframe thead th {\n",
              "        text-align: right;\n",
              "    }\n",
              "</style>\n",
              "<table border=\"1\" class=\"dataframe\">\n",
              "  <thead>\n",
              "    <tr style=\"text-align: right;\">\n",
              "      <th></th>\n",
              "      <th>Rainfall</th>\n",
              "      <th>Humidity3pm</th>\n",
              "      <th>Pressure9am</th>\n",
              "      <th>RainToday</th>\n",
              "      <th>RainTomorrow</th>\n",
              "    </tr>\n",
              "  </thead>\n",
              "  <tbody>\n",
              "    <tr>\n",
              "      <th>0</th>\n",
              "      <td>0.6</td>\n",
              "      <td>22.0</td>\n",
              "      <td>1007.7</td>\n",
              "      <td>0.0</td>\n",
              "      <td>0</td>\n",
              "    </tr>\n",
              "    <tr>\n",
              "      <th>1</th>\n",
              "      <td>0.0</td>\n",
              "      <td>25.0</td>\n",
              "      <td>1010.6</td>\n",
              "      <td>0.0</td>\n",
              "      <td>0</td>\n",
              "    </tr>\n",
              "    <tr>\n",
              "      <th>2</th>\n",
              "      <td>0.0</td>\n",
              "      <td>30.0</td>\n",
              "      <td>1007.6</td>\n",
              "      <td>0.0</td>\n",
              "      <td>0</td>\n",
              "    </tr>\n",
              "    <tr>\n",
              "      <th>3</th>\n",
              "      <td>0.0</td>\n",
              "      <td>16.0</td>\n",
              "      <td>1017.6</td>\n",
              "      <td>0.0</td>\n",
              "      <td>0</td>\n",
              "    </tr>\n",
              "    <tr>\n",
              "      <th>4</th>\n",
              "      <td>1.0</td>\n",
              "      <td>33.0</td>\n",
              "      <td>1010.8</td>\n",
              "      <td>0.0</td>\n",
              "      <td>0</td>\n",
              "    </tr>\n",
              "    <tr>\n",
              "      <th>...</th>\n",
              "      <td>...</td>\n",
              "      <td>...</td>\n",
              "      <td>...</td>\n",
              "      <td>...</td>\n",
              "      <td>...</td>\n",
              "    </tr>\n",
              "    <tr>\n",
              "      <th>142188</th>\n",
              "      <td>0.0</td>\n",
              "      <td>27.0</td>\n",
              "      <td>1024.7</td>\n",
              "      <td>0.0</td>\n",
              "      <td>0</td>\n",
              "    </tr>\n",
              "    <tr>\n",
              "      <th>142189</th>\n",
              "      <td>0.0</td>\n",
              "      <td>24.0</td>\n",
              "      <td>1024.6</td>\n",
              "      <td>0.0</td>\n",
              "      <td>0</td>\n",
              "    </tr>\n",
              "    <tr>\n",
              "      <th>142190</th>\n",
              "      <td>0.0</td>\n",
              "      <td>21.0</td>\n",
              "      <td>1023.5</td>\n",
              "      <td>0.0</td>\n",
              "      <td>0</td>\n",
              "    </tr>\n",
              "    <tr>\n",
              "      <th>142191</th>\n",
              "      <td>0.0</td>\n",
              "      <td>24.0</td>\n",
              "      <td>1021.0</td>\n",
              "      <td>0.0</td>\n",
              "      <td>0</td>\n",
              "    </tr>\n",
              "    <tr>\n",
              "      <th>142192</th>\n",
              "      <td>0.0</td>\n",
              "      <td>24.0</td>\n",
              "      <td>1019.4</td>\n",
              "      <td>0.0</td>\n",
              "      <td>0</td>\n",
              "    </tr>\n",
              "  </tbody>\n",
              "</table>\n",
              "<p>124689 rows × 5 columns</p>\n",
              "</div>"
            ],
            "text/plain": [
              "        Rainfall  Humidity3pm  Pressure9am  RainToday  RainTomorrow\n",
              "0            0.6         22.0       1007.7        0.0             0\n",
              "1            0.0         25.0       1010.6        0.0             0\n",
              "2            0.0         30.0       1007.6        0.0             0\n",
              "3            0.0         16.0       1017.6        0.0             0\n",
              "4            1.0         33.0       1010.8        0.0             0\n",
              "...          ...          ...          ...        ...           ...\n",
              "142188       0.0         27.0       1024.7        0.0             0\n",
              "142189       0.0         24.0       1024.6        0.0             0\n",
              "142190       0.0         21.0       1023.5        0.0             0\n",
              "142191       0.0         24.0       1021.0        0.0             0\n",
              "142192       0.0         24.0       1019.4        0.0             0\n",
              "\n",
              "[124689 rows x 5 columns]"
            ]
          },
          "metadata": {
            "tags": []
          },
          "execution_count": 11
        }
      ]
    },
    {
      "cell_type": "markdown",
      "metadata": {
        "id": "oQ0OMAXOnW_j"
      },
      "source": [
        "## Preprocessing"
      ]
    },
    {
      "cell_type": "code",
      "metadata": {
        "id": "qgG7CK-3oyPW",
        "colab": {
          "base_uri": "https://localhost:8080/",
          "height": 355
        },
        "outputId": "2b86095b-344d-4ab1-b8fa-e6eda13a8f33"
      },
      "source": [
        "sns.countplot(df.RainTomorrow)\n",
        "p = df.RainTomorrow.value_counts()/ df.shape[0]\n",
        "plt.title('Chance of rain: '+str(p))\n"
      ],
      "execution_count": 12,
      "outputs": [
        {
          "output_type": "execute_result",
          "data": {
            "text/plain": [
              "Text(0.5, 1.0, 'Chance of rain: 0    0.778762\\n1    0.221238\\nName: RainTomorrow, dtype: float64')"
            ]
          },
          "metadata": {
            "tags": []
          },
          "execution_count": 12
        },
        {
          "output_type": "display_data",
          "data": {
            "image/png": "[encoded data removed]",
            "text/plain": [
              "<Figure size 432x288 with 1 Axes>"
            ]
          },
          "metadata": {
            "tags": [],
            "image/png": {
              "width": 426,
              "height": 321
            }
          }
        }
      ]
    },
    {
      "cell_type": "code",
      "metadata": {
        "id": "JZ8nqVpFtwMs",
        "colab": {
          "base_uri": "https://localhost:8080/",
          "height": 411
        },
        "outputId": "96e4adf1-7add-4d46-dfa9-3bf66d31c2b5"
      },
      "source": [
        "df[df.RainTomorrow == 1]"
      ],
      "execution_count": 13,
      "outputs": [
        {
          "output_type": "execute_result",
          "data": {
            "text/html": [
              "<div>\n",
              "<style scoped>\n",
              "    .dataframe tbody tr th:only-of-type {\n",
              "        vertical-align: middle;\n",
              "    }\n",
              "\n",
              "    .dataframe tbody tr th {\n",
              "        vertical-align: top;\n",
              "    }\n",
              "\n",
              "    .dataframe thead th {\n",
              "        text-align: right;\n",
              "    }\n",
              "</style>\n",
              "<table border=\"1\" class=\"dataframe\">\n",
              "  <thead>\n",
              "    <tr style=\"text-align: right;\">\n",
              "      <th></th>\n",
              "      <th>Rainfall</th>\n",
              "      <th>Humidity3pm</th>\n",
              "      <th>Pressure9am</th>\n",
              "      <th>RainToday</th>\n",
              "      <th>RainTomorrow</th>\n",
              "    </tr>\n",
              "  </thead>\n",
              "  <tbody>\n",
              "    <tr>\n",
              "      <th>8</th>\n",
              "      <td>0.0</td>\n",
              "      <td>9.0</td>\n",
              "      <td>1008.9</td>\n",
              "      <td>0.0</td>\n",
              "      <td>1</td>\n",
              "    </tr>\n",
              "    <tr>\n",
              "      <th>10</th>\n",
              "      <td>0.0</td>\n",
              "      <td>22.0</td>\n",
              "      <td>1011.8</td>\n",
              "      <td>0.0</td>\n",
              "      <td>1</td>\n",
              "    </tr>\n",
              "    <tr>\n",
              "      <th>11</th>\n",
              "      <td>2.2</td>\n",
              "      <td>91.0</td>\n",
              "      <td>1010.5</td>\n",
              "      <td>1.0</td>\n",
              "      <td>1</td>\n",
              "    </tr>\n",
              "    <tr>\n",
              "      <th>12</th>\n",
              "      <td>15.6</td>\n",
              "      <td>93.0</td>\n",
              "      <td>994.3</td>\n",
              "      <td>1.0</td>\n",
              "      <td>1</td>\n",
              "    </tr>\n",
              "    <tr>\n",
              "      <th>15</th>\n",
              "      <td>0.0</td>\n",
              "      <td>82.0</td>\n",
              "      <td>1012.2</td>\n",
              "      <td>0.0</td>\n",
              "      <td>1</td>\n",
              "    </tr>\n",
              "    <tr>\n",
              "      <th>...</th>\n",
              "      <td>...</td>\n",
              "      <td>...</td>\n",
              "      <td>...</td>\n",
              "      <td>...</td>\n",
              "      <td>...</td>\n",
              "    </tr>\n",
              "    <tr>\n",
              "      <th>142059</th>\n",
              "      <td>0.4</td>\n",
              "      <td>24.0</td>\n",
              "      <td>1007.0</td>\n",
              "      <td>0.0</td>\n",
              "      <td>1</td>\n",
              "    </tr>\n",
              "    <tr>\n",
              "      <th>142124</th>\n",
              "      <td>0.0</td>\n",
              "      <td>91.0</td>\n",
              "      <td>1015.9</td>\n",
              "      <td>0.0</td>\n",
              "      <td>1</td>\n",
              "    </tr>\n",
              "    <tr>\n",
              "      <th>142125</th>\n",
              "      <td>6.8</td>\n",
              "      <td>65.0</td>\n",
              "      <td>1016.9</td>\n",
              "      <td>1.0</td>\n",
              "      <td>1</td>\n",
              "    </tr>\n",
              "    <tr>\n",
              "      <th>142126</th>\n",
              "      <td>12.6</td>\n",
              "      <td>59.0</td>\n",
              "      <td>1018.1</td>\n",
              "      <td>1.0</td>\n",
              "      <td>1</td>\n",
              "    </tr>\n",
              "    <tr>\n",
              "      <th>142127</th>\n",
              "      <td>34.6</td>\n",
              "      <td>56.0</td>\n",
              "      <td>1020.0</td>\n",
              "      <td>1.0</td>\n",
              "      <td>1</td>\n",
              "    </tr>\n",
              "  </tbody>\n",
              "</table>\n",
              "<p>27586 rows × 5 columns</p>\n",
              "</div>"
            ],
            "text/plain": [
              "        Rainfall  Humidity3pm  Pressure9am  RainToday  RainTomorrow\n",
              "8            0.0          9.0       1008.9        0.0             1\n",
              "10           0.0         22.0       1011.8        0.0             1\n",
              "11           2.2         91.0       1010.5        1.0             1\n",
              "12          15.6         93.0        994.3        1.0             1\n",
              "15           0.0         82.0       1012.2        0.0             1\n",
              "...          ...          ...          ...        ...           ...\n",
              "142059       0.4         24.0       1007.0        0.0             1\n",
              "142124       0.0         91.0       1015.9        0.0             1\n",
              "142125       6.8         65.0       1016.9        1.0             1\n",
              "142126      12.6         59.0       1018.1        1.0             1\n",
              "142127      34.6         56.0       1020.0        1.0             1\n",
              "\n",
              "[27586 rows x 5 columns]"
            ]
          },
          "metadata": {
            "tags": []
          },
          "execution_count": 13
        }
      ]
    },
    {
      "cell_type": "markdown",
      "metadata": {
        "id": "8tfbRZYntfE3"
      },
      "source": [
        "Possible ways to mitigate the data imbalance:\n",
        "\n",
        "1.  oversampling - replicate examples from the under-represented class (claims)\n",
        "2. undersampling - sample from the most represented class (no claims) to keep only a few examples\n",
        "3. generate synthetic data - create new synthetic examples from the under-represented class\n",
        "\n"
      ]
    },
    {
      "cell_type": "code",
      "metadata": {
        "id": "d7FPGmc1twic",
        "colab": {
          "base_uri": "https://localhost:8080/",
          "height": 411
        },
        "outputId": "038a719d-e938-447a-ef24-e62678865c20"
      },
      "source": [
        "from sklearn.utils import resample\n",
        "\n",
        "rain= df[df.RainTomorrow == 1]\n",
        "norain = df[df.RainTomorrow == 0]\n",
        "\n",
        "rain = resample(rain,\n",
        "                          replace=True,\n",
        "                          n_samples=len(norain),\n",
        "                          random_state=RANDOM_SEED)\n",
        "df1 = pd.merge(rain,norain,how='outer')\n",
        "df1"
      ],
      "execution_count": 14,
      "outputs": [
        {
          "output_type": "execute_result",
          "data": {
            "text/html": [
              "<div>\n",
              "<style scoped>\n",
              "    .dataframe tbody tr th:only-of-type {\n",
              "        vertical-align: middle;\n",
              "    }\n",
              "\n",
              "    .dataframe tbody tr th {\n",
              "        vertical-align: top;\n",
              "    }\n",
              "\n",
              "    .dataframe thead th {\n",
              "        text-align: right;\n",
              "    }\n",
              "</style>\n",
              "<table border=\"1\" class=\"dataframe\">\n",
              "  <thead>\n",
              "    <tr style=\"text-align: right;\">\n",
              "      <th></th>\n",
              "      <th>Rainfall</th>\n",
              "      <th>Humidity3pm</th>\n",
              "      <th>Pressure9am</th>\n",
              "      <th>RainToday</th>\n",
              "      <th>RainTomorrow</th>\n",
              "    </tr>\n",
              "  </thead>\n",
              "  <tbody>\n",
              "    <tr>\n",
              "      <th>0</th>\n",
              "      <td>7.6</td>\n",
              "      <td>89.0</td>\n",
              "      <td>1021.8</td>\n",
              "      <td>1.0</td>\n",
              "      <td>1</td>\n",
              "    </tr>\n",
              "    <tr>\n",
              "      <th>1</th>\n",
              "      <td>7.6</td>\n",
              "      <td>89.0</td>\n",
              "      <td>1021.8</td>\n",
              "      <td>1.0</td>\n",
              "      <td>1</td>\n",
              "    </tr>\n",
              "    <tr>\n",
              "      <th>2</th>\n",
              "      <td>7.6</td>\n",
              "      <td>89.0</td>\n",
              "      <td>1021.8</td>\n",
              "      <td>1.0</td>\n",
              "      <td>1</td>\n",
              "    </tr>\n",
              "    <tr>\n",
              "      <th>3</th>\n",
              "      <td>7.6</td>\n",
              "      <td>89.0</td>\n",
              "      <td>1021.8</td>\n",
              "      <td>1.0</td>\n",
              "      <td>1</td>\n",
              "    </tr>\n",
              "    <tr>\n",
              "      <th>4</th>\n",
              "      <td>7.6</td>\n",
              "      <td>89.0</td>\n",
              "      <td>1021.8</td>\n",
              "      <td>1.0</td>\n",
              "      <td>1</td>\n",
              "    </tr>\n",
              "    <tr>\n",
              "      <th>...</th>\n",
              "      <td>...</td>\n",
              "      <td>...</td>\n",
              "      <td>...</td>\n",
              "      <td>...</td>\n",
              "      <td>...</td>\n",
              "    </tr>\n",
              "    <tr>\n",
              "      <th>194201</th>\n",
              "      <td>0.0</td>\n",
              "      <td>26.0</td>\n",
              "      <td>1030.2</td>\n",
              "      <td>0.0</td>\n",
              "      <td>0</td>\n",
              "    </tr>\n",
              "    <tr>\n",
              "      <th>194202</th>\n",
              "      <td>0.0</td>\n",
              "      <td>23.0</td>\n",
              "      <td>1031.8</td>\n",
              "      <td>0.0</td>\n",
              "      <td>0</td>\n",
              "    </tr>\n",
              "    <tr>\n",
              "      <th>194203</th>\n",
              "      <td>0.0</td>\n",
              "      <td>29.0</td>\n",
              "      <td>1031.0</td>\n",
              "      <td>0.0</td>\n",
              "      <td>0</td>\n",
              "    </tr>\n",
              "    <tr>\n",
              "      <th>194204</th>\n",
              "      <td>0.0</td>\n",
              "      <td>32.0</td>\n",
              "      <td>1027.2</td>\n",
              "      <td>0.0</td>\n",
              "      <td>0</td>\n",
              "    </tr>\n",
              "    <tr>\n",
              "      <th>194205</th>\n",
              "      <td>0.0</td>\n",
              "      <td>28.0</td>\n",
              "      <td>1026.9</td>\n",
              "      <td>0.0</td>\n",
              "      <td>0</td>\n",
              "    </tr>\n",
              "  </tbody>\n",
              "</table>\n",
              "<p>194206 rows × 5 columns</p>\n",
              "</div>"
            ],
            "text/plain": [
              "        Rainfall  Humidity3pm  Pressure9am  RainToday  RainTomorrow\n",
              "0            7.6         89.0       1021.8        1.0             1\n",
              "1            7.6         89.0       1021.8        1.0             1\n",
              "2            7.6         89.0       1021.8        1.0             1\n",
              "3            7.6         89.0       1021.8        1.0             1\n",
              "4            7.6         89.0       1021.8        1.0             1\n",
              "...          ...          ...          ...        ...           ...\n",
              "194201       0.0         26.0       1030.2        0.0             0\n",
              "194202       0.0         23.0       1031.8        0.0             0\n",
              "194203       0.0         29.0       1031.0        0.0             0\n",
              "194204       0.0         32.0       1027.2        0.0             0\n",
              "194205       0.0         28.0       1026.9        0.0             0\n",
              "\n",
              "[194206 rows x 5 columns]"
            ]
          },
          "metadata": {
            "tags": []
          },
          "execution_count": 14
        }
      ]
    },
    {
      "cell_type": "code",
      "metadata": {
        "id": "3WUCJhUpvTOP",
        "colab": {
          "base_uri": "https://localhost:8080/",
          "height": 355
        },
        "outputId": "a464ef82-88b5-4e8f-cfc3-5fc2eb8767aa"
      },
      "source": [
        "sns.countplot(df1.RainTomorrow)\n",
        "p = df1.RainTomorrow.value_counts()/ df1.shape[0]\n",
        "plt.title('Resampled Chance of rain: '+str(p))\n"
      ],
      "execution_count": 15,
      "outputs": [
        {
          "output_type": "execute_result",
          "data": {
            "text/plain": [
              "Text(0.5, 1.0, 'Resampled Chance of rain: 1    0.5\\n0    0.5\\nName: RainTomorrow, dtype: float64')"
            ]
          },
          "metadata": {
            "tags": []
          },
          "execution_count": 15
        },
        {
          "output_type": "display_data",
          "data": {
            "image/png": "[encoded data removed]",
            "text/plain": [
              "<Figure size 432x288 with 1 Axes>"
            ]
          },
          "metadata": {
            "tags": [],
            "image/png": {
              "width": 426,
              "height": 321
            }
          }
        }
      ]
    },
    {
      "cell_type": "code",
      "metadata": {
        "id": "u1ZDKC_mwLpJ"
      },
      "source": [
        "X = df[['Rainfall', 'Humidity3pm', 'RainToday', 'Pressure9am']]\n",
        "y = df[['RainTomorrow']]\n",
        "\n",
        "X_train, X_test, y_train, y_test = train_test_split(X, y, test_size=0.2, random_state=RANDOM_SEED)"
      ],
      "execution_count": 16,
      "outputs": []
    },
    {
      "cell_type": "code",
      "metadata": {
        "id": "8REZFxN76BMO",
        "colab": {
          "base_uri": "https://localhost:8080/"
        },
        "outputId": "c68e7d7b-4f8e-40bd-8499-2d7184edeac9"
      },
      "source": [
        "X_train = torch.from_numpy(X_train.to_numpy()).float()\n",
        "y_train = torch.squeeze(torch.from_numpy(y_train.to_numpy()).float())\n",
        "\n",
        "X_test = torch.from_numpy(X_test.to_numpy()).float()\n",
        "y_test = torch.squeeze(torch.from_numpy(y_test.to_numpy()).float())\n",
        "\n",
        "print(X_train.shape, y_train.shape)\n",
        "print(X_test.shape, y_test.shape)"
      ],
      "execution_count": 17,
      "outputs": [
        {
          "output_type": "stream",
          "text": [
            "torch.Size([99751, 4]) torch.Size([99751])\n",
            "torch.Size([24938, 4]) torch.Size([24938])\n"
          ],
          "name": "stdout"
        }
      ]
    },
    {
      "cell_type": "markdown",
      "metadata": {
        "id": "FzREz5Q9naLZ"
      },
      "source": [
        "## Neural Network"
      ]
    },
    {
      "cell_type": "code",
      "metadata": {
        "id": "U3cjJKWcz3bg",
        "colab": {
          "base_uri": "https://localhost:8080/",
          "height": 611
        },
        "outputId": "b15afd5d-21bf-409e-d807-bfc2aec37420"
      },
      "source": [
        "# pytorch likes functional model rather than the sequential model of tensorflow library\n",
        "class Net(nn.Module):\n",
        "\n",
        "  def __init__(self, n_features):\n",
        "    super(Net, self).__init__()\n",
        "    self.fc1 = nn.Linear(n_features, 5)\n",
        "    self.fc2 = nn.Linear(5, 3)\n",
        "    self.fc3 = nn.Linear(3, 1)\n",
        "\n",
        "  def forward(self, x):\n",
        "    x = F.relu(self.fc1(x))\n",
        "    x = F.relu(self.fc2(x))\n",
        "    return torch.sigmoid(self.fc3(x))\n",
        "    \n",
        "# F as functional \n",
        "# One of the cool features of Neural Networks is that they can approximate non-linear functions. In\n",
        "# fact, it is proven that they can approximate any function⁶.\n",
        "# Good luck approximating non-linear functions by stacking linear layers. Activation functions allow\n",
        "# you to break from the linear world and learn (hopefully) more\n",
        "\n",
        "net = Net(X_train.shape[1])  \n",
        "ann_viz(net,view=True,filename=\"myNetwork.png\")\n"
      ],
      "execution_count": 18,
      "outputs": [
        {
          "output_type": "execute_result",
          "data": {
            "text/plain": [
              "<graphviz.dot.Digraph at 0x7f5c1503ee48>"
            ],
            "image/svg+xml": "<?xml version=\"1.0\" encoding=\"UTF-8\" standalone=\"no\"?>\n<!DOCTYPE svg PUBLIC \"-//W3C//DTD SVG 1.1//EN\"\n \"http://www.w3.org/Graphics/SVG/1.1/DTD/svg11.dtd\">\n<!-- Generated by graphviz version 2.40.1 (20161225.0304)\n -->\n<!-- Title: g Pages: 1 -->\n<svg width=\"424pt\" height=\"443pt\"\n viewBox=\"0.00 0.00 424.00 443.00\" xmlns=\"http://www.w3.org/2000/svg\" xmlns:xlink=\"http://www.w3.org/1999/xlink\">\n<g id=\"graph0\" class=\"graph\" transform=\"scale(1 1) rotate(0) translate(4 439)\">\n<title>g</title>\n<polygon fill=\"#ffffff\" stroke=\"transparent\" points=\"-4,4 -4,-439 420,-439 420,4 -4,4\"/>\n<g id=\"clust1\" class=\"cluster\">\n<title>cluster_input</title>\n<polygon fill=\"none\" stroke=\"#ffffff\" points=\"0,-49 0,-385 84,-385 84,-49 0,-49\"/>\n<text text-anchor=\"middle\" x=\"42\" y=\"-56.8\" font-family=\"Times,serif\" font-size=\"14.00\" fill=\"#000000\">Input Layer</text>\n</g>\n<g id=\"clust2\" class=\"cluster\">\n<title>cluster_1</title>\n<polygon fill=\"none\" stroke=\"#ffffff\" points=\"92,-8 92,-427 199,-427 199,-8 92,-8\"/>\n<text text-anchor=\"middle\" x=\"145.5\" y=\"-15.8\" font-family=\"Times,serif\" font-size=\"14.00\" fill=\"#000000\">Hidden Layer 1</text>\n</g>\n<g id=\"clust3\" class=\"cluster\">\n<title>cluster_2</title>\n<polygon fill=\"none\" stroke=\"#ffffff\" points=\"207,-91 207,-344 314,-344 314,-91 207,-91\"/>\n<text text-anchor=\"middle\" x=\"260.5\" y=\"-98.8\" font-family=\"Times,serif\" font-size=\"14.00\" fill=\"#000000\">Hidden Layer 2</text>\n</g>\n<g id=\"clust4\" class=\"cluster\">\n<title>cluster_output</title>\n<polygon fill=\"none\" stroke=\"#ffffff\" points=\"322,-174 322,-261 416,-261 416,-174 322,-174\"/>\n<text text-anchor=\"middle\" x=\"369\" y=\"-181.8\" font-family=\"Times,serif\" font-size=\"14.00\" fill=\"#000000\">Output Layer</text>\n</g>\n<!-- 1 -->\n<g id=\"node1\" class=\"node\">\n<title>1</title>\n<ellipse fill=\"#ff006d\" stroke=\"#ff006d\" cx=\"41.5\" cy=\"-353\" rx=\"23.5\" ry=\"23.5\"/>\n<text text-anchor=\"middle\" x=\"41.5\" y=\"-349.3\" font-family=\"Times,serif\" font-size=\"14.00\" fill=\"#ff006d\">1</text>\n</g>\n<!-- 5 -->\n<g id=\"node5\" class=\"node\">\n<title>5</title>\n<ellipse fill=\"#01befe\" stroke=\"#01befe\" cx=\"145.5\" cy=\"-146\" rx=\"23.5\" ry=\"23.5\"/>\n<text text-anchor=\"middle\" x=\"145.5\" y=\"-142.3\" font-family=\"Times,serif\" font-size=\"14.00\" fill=\"#01befe\">5</text>\n</g>\n<!-- 1&#45;&gt;5 -->\n<g id=\"edge1\" class=\"edge\">\n<title>1&#45;&gt;5</title>\n<path fill=\"none\" stroke=\"#707070\" stroke-width=\"2\" d=\"M52.2381,-331.627C72.2189,-291.8576 114.8838,-206.9379 134.8203,-167.2567\"/>\n</g>\n<!-- 6 -->\n<g id=\"node6\" class=\"node\">\n<title>6</title>\n<ellipse fill=\"#01befe\" stroke=\"#01befe\" cx=\"145.5\" cy=\"-63\" rx=\"23.5\" ry=\"23.5\"/>\n<text text-anchor=\"middle\" x=\"145.5\" y=\"-59.3\" font-family=\"Times,serif\" font-size=\"14.00\" fill=\"#01befe\">6</text>\n</g>\n<!-- 1&#45;&gt;6 -->\n<g id=\"edge5\" class=\"edge\">\n<title>1&#45;&gt;6</title>\n<path fill=\"none\" stroke=\"#707070\" stroke-width=\"2\" d=\"M49.488,-330.7257C68.8467,-276.7449 118.0981,-139.409 137.4848,-85.3502\"/>\n</g>\n<!-- 7 -->\n<g id=\"node7\" class=\"node\">\n<title>7</title>\n<ellipse fill=\"#01befe\" stroke=\"#01befe\" cx=\"145.5\" cy=\"-395\" rx=\"23.5\" ry=\"23.5\"/>\n<text text-anchor=\"middle\" x=\"145.5\" y=\"-391.3\" font-family=\"Times,serif\" font-size=\"14.00\" fill=\"#01befe\">7</text>\n</g>\n<!-- 1&#45;&gt;7 -->\n<g id=\"edge9\" class=\"edge\">\n<title>1&#45;&gt;7</title>\n<path fill=\"none\" stroke=\"#707070\" stroke-width=\"2\" d=\"M63.3018,-361.8046C80.9324,-368.9246 105.6506,-378.907 123.3687,-386.0624\"/>\n</g>\n<!-- 8 -->\n<g id=\"node8\" class=\"node\">\n<title>8</title>\n<ellipse fill=\"#01befe\" stroke=\"#01befe\" cx=\"145.5\" cy=\"-312\" rx=\"23.5\" ry=\"23.5\"/>\n<text text-anchor=\"middle\" x=\"145.5\" y=\"-308.3\" font-family=\"Times,serif\" font-size=\"14.00\" fill=\"#01befe\">8</text>\n</g>\n<!-- 1&#45;&gt;8 -->\n<g id=\"edge13\" class=\"edge\">\n<title>1&#45;&gt;8</title>\n<path fill=\"none\" stroke=\"#707070\" stroke-width=\"2\" d=\"M63.5557,-344.305C81.2049,-337.3471 105.8353,-327.637 123.4761,-320.6825\"/>\n</g>\n<!-- 9 -->\n<g id=\"node9\" class=\"node\">\n<title>9</title>\n<ellipse fill=\"#01befe\" stroke=\"#01befe\" cx=\"145.5\" cy=\"-229\" rx=\"23.5\" ry=\"23.5\"/>\n<text text-anchor=\"middle\" x=\"145.5\" y=\"-225.3\" font-family=\"Times,serif\" font-size=\"14.00\" fill=\"#01befe\">9</text>\n</g>\n<!-- 1&#45;&gt;9 -->\n<g id=\"edge17\" class=\"edge\">\n<title>1&#45;&gt;9</title>\n<path fill=\"none\" stroke=\"#707070\" stroke-width=\"2\" d=\"M56.6225,-334.9693C76.3402,-311.4598 110.6326,-270.5727 130.3593,-247.0524\"/>\n</g>\n<!-- 2 -->\n<g id=\"node2\" class=\"node\">\n<title>2</title>\n<ellipse fill=\"#ff006d\" stroke=\"#ff006d\" cx=\"41.5\" cy=\"-270\" rx=\"23.5\" ry=\"23.5\"/>\n<text text-anchor=\"middle\" x=\"41.5\" y=\"-266.3\" font-family=\"Times,serif\" font-size=\"14.00\" fill=\"#ff006d\">2</text>\n</g>\n<!-- 2&#45;&gt;5 -->\n<g id=\"edge2\" class=\"edge\">\n<title>2&#45;&gt;5</title>\n<path fill=\"none\" stroke=\"#707070\" stroke-width=\"2\" d=\"M56.6225,-251.9693C76.3402,-228.4598 110.6326,-187.5727 130.3593,-164.0524\"/>\n</g>\n<!-- 2&#45;&gt;6 -->\n<g id=\"edge6\" class=\"edge\">\n<title>2&#45;&gt;6</title>\n<path fill=\"none\" stroke=\"#707070\" stroke-width=\"2\" d=\"M52.2381,-248.627C72.2189,-208.8576 114.8838,-123.9379 134.8203,-84.2567\"/>\n</g>\n<!-- 2&#45;&gt;7 -->\n<g id=\"edge10\" class=\"edge\">\n<title>2&#45;&gt;7</title>\n<path fill=\"none\" stroke=\"#707070\" stroke-width=\"2\" d=\"M56.6225,-288.1761C76.3402,-311.8752 110.6326,-353.092 130.3593,-376.802\"/>\n</g>\n<!-- 2&#45;&gt;8 -->\n<g id=\"edge14\" class=\"edge\">\n<title>2&#45;&gt;8</title>\n<path fill=\"none\" stroke=\"#707070\" stroke-width=\"2\" d=\"M63.3018,-278.8046C80.9324,-285.9246 105.6506,-295.907 123.3687,-303.0624\"/>\n</g>\n<!-- 2&#45;&gt;9 -->\n<g id=\"edge18\" class=\"edge\">\n<title>2&#45;&gt;9</title>\n<path fill=\"none\" stroke=\"#707070\" stroke-width=\"2\" d=\"M63.5557,-261.305C81.2049,-254.3471 105.8353,-244.637 123.4761,-237.6825\"/>\n</g>\n<!-- 3 -->\n<g id=\"node3\" class=\"node\">\n<title>3</title>\n<ellipse fill=\"#ff006d\" stroke=\"#ff006d\" cx=\"41.5\" cy=\"-187\" rx=\"23.5\" ry=\"23.5\"/>\n<text text-anchor=\"middle\" x=\"41.5\" y=\"-183.3\" font-family=\"Times,serif\" font-size=\"14.00\" fill=\"#ff006d\">3</text>\n</g>\n<!-- 3&#45;&gt;5 -->\n<g id=\"edge3\" class=\"edge\">\n<title>3&#45;&gt;5</title>\n<path fill=\"none\" stroke=\"#707070\" stroke-width=\"2\" d=\"M63.5557,-178.305C81.2049,-171.3471 105.8353,-161.637 123.4761,-154.6825\"/>\n</g>\n<!-- 3&#45;&gt;6 -->\n<g id=\"edge7\" class=\"edge\">\n<title>3&#45;&gt;6</title>\n<path fill=\"none\" stroke=\"#707070\" stroke-width=\"2\" d=\"M56.6225,-168.9693C76.3402,-145.4598 110.6326,-104.5727 130.3593,-81.0524\"/>\n</g>\n<!-- 3&#45;&gt;7 -->\n<g id=\"edge11\" class=\"edge\">\n<title>3&#45;&gt;7</title>\n<path fill=\"none\" stroke=\"#707070\" stroke-width=\"2\" d=\"M52.0444,-208.0888C71.9775,-247.9551 114.973,-333.9461 134.9277,-373.8554\"/>\n</g>\n<!-- 3&#45;&gt;8 -->\n<g id=\"edge15\" class=\"edge\">\n<title>3&#45;&gt;8</title>\n<path fill=\"none\" stroke=\"#707070\" stroke-width=\"2\" d=\"M56.6225,-205.1761C76.3402,-228.8752 110.6326,-270.092 130.3593,-293.802\"/>\n</g>\n<!-- 3&#45;&gt;9 -->\n<g id=\"edge19\" class=\"edge\">\n<title>3&#45;&gt;9</title>\n<path fill=\"none\" stroke=\"#707070\" stroke-width=\"2\" d=\"M63.3018,-195.8046C80.9324,-202.9246 105.6506,-212.907 123.3687,-220.0624\"/>\n</g>\n<!-- 4 -->\n<g id=\"node4\" class=\"node\">\n<title>4</title>\n<ellipse fill=\"#ff006d\" stroke=\"#ff006d\" cx=\"41.5\" cy=\"-104\" rx=\"23.5\" ry=\"23.5\"/>\n<text text-anchor=\"middle\" x=\"41.5\" y=\"-100.3\" font-family=\"Times,serif\" font-size=\"14.00\" fill=\"#ff006d\">4</text>\n</g>\n<!-- 4&#45;&gt;5 -->\n<g id=\"edge4\" class=\"edge\">\n<title>4&#45;&gt;5</title>\n<path fill=\"none\" stroke=\"#707070\" stroke-width=\"2\" d=\"M63.3018,-112.8046C80.9324,-119.9246 105.6506,-129.907 123.3687,-137.0624\"/>\n</g>\n<!-- 4&#45;&gt;6 -->\n<g id=\"edge8\" class=\"edge\">\n<title>4&#45;&gt;6</title>\n<path fill=\"none\" stroke=\"#707070\" stroke-width=\"2\" d=\"M63.5557,-95.305C81.2049,-88.3471 105.8353,-78.637 123.4761,-71.6825\"/>\n</g>\n<!-- 4&#45;&gt;7 -->\n<g id=\"edge12\" class=\"edge\">\n<title>4&#45;&gt;7</title>\n<path fill=\"none\" stroke=\"#707070\" stroke-width=\"2\" d=\"M49.488,-126.3511C68.8467,-180.5181 118.0981,-318.3275 137.4848,-372.5728\"/>\n</g>\n<!-- 4&#45;&gt;8 -->\n<g id=\"edge16\" class=\"edge\">\n<title>4&#45;&gt;8</title>\n<path fill=\"none\" stroke=\"#707070\" stroke-width=\"2\" d=\"M52.0444,-125.0888C71.9775,-164.9551 114.973,-250.9461 134.9277,-290.8554\"/>\n</g>\n<!-- 4&#45;&gt;9 -->\n<g id=\"edge20\" class=\"edge\">\n<title>4&#45;&gt;9</title>\n<path fill=\"none\" stroke=\"#707070\" stroke-width=\"2\" d=\"M56.6225,-122.1761C76.3402,-145.8752 110.6326,-187.092 130.3593,-210.802\"/>\n</g>\n<!-- 10 -->\n<g id=\"node10\" class=\"node\">\n<title>10</title>\n<ellipse fill=\"#01befe\" stroke=\"#01befe\" cx=\"260.5\" cy=\"-146\" rx=\"23.5\" ry=\"23.5\"/>\n<text text-anchor=\"middle\" x=\"260.5\" y=\"-142.3\" font-family=\"Times,serif\" font-size=\"14.00\" fill=\"#01befe\">10</text>\n</g>\n<!-- 5&#45;&gt;10 -->\n<g id=\"edge21\" class=\"edge\">\n<title>5&#45;&gt;10</title>\n<path fill=\"none\" stroke=\"#707070\" stroke-width=\"2\" d=\"M169.0495,-146C188.8946,-146 217.1458,-146 236.982,-146\"/>\n</g>\n<!-- 11 -->\n<g id=\"node11\" class=\"node\">\n<title>11</title>\n<ellipse fill=\"#01befe\" stroke=\"#01befe\" cx=\"260.5\" cy=\"-312\" rx=\"23.5\" ry=\"23.5\"/>\n<text text-anchor=\"middle\" x=\"260.5\" y=\"-308.3\" font-family=\"Times,serif\" font-size=\"14.00\" fill=\"#01befe\">11</text>\n</g>\n<!-- 5&#45;&gt;11 -->\n<g id=\"edge26\" class=\"edge\">\n<title>5&#45;&gt;11</title>\n<path fill=\"none\" stroke=\"#707070\" stroke-width=\"2\" d=\"M158.917,-165.3672C181.0171,-197.2681 224.8303,-260.5116 246.9907,-292.4996\"/>\n</g>\n<!-- 12 -->\n<g id=\"node12\" class=\"node\">\n<title>12</title>\n<ellipse fill=\"#01befe\" stroke=\"#01befe\" cx=\"260.5\" cy=\"-229\" rx=\"23.5\" ry=\"23.5\"/>\n<text text-anchor=\"middle\" x=\"260.5\" y=\"-225.3\" font-family=\"Times,serif\" font-size=\"14.00\" fill=\"#01befe\">12</text>\n</g>\n<!-- 5&#45;&gt;12 -->\n<g id=\"edge31\" class=\"edge\">\n<title>5&#45;&gt;12</title>\n<path fill=\"none\" stroke=\"#707070\" stroke-width=\"2\" d=\"M164.7484,-159.8923C185.9768,-175.2137 219.9354,-199.7229 241.1888,-215.0623\"/>\n</g>\n<!-- 6&#45;&gt;10 -->\n<g id=\"edge22\" class=\"edge\">\n<title>6&#45;&gt;10</title>\n<path fill=\"none\" stroke=\"#707070\" stroke-width=\"2\" d=\"M164.7484,-76.8923C185.9768,-92.2137 219.9354,-116.7229 241.1888,-132.0623\"/>\n</g>\n<!-- 6&#45;&gt;11 -->\n<g id=\"edge27\" class=\"edge\">\n<title>6&#45;&gt;11</title>\n<path fill=\"none\" stroke=\"#707070\" stroke-width=\"2\" d=\"M155.5043,-84.6615C177.3081,-131.8715 228.8929,-243.5638 250.6007,-290.5659\"/>\n</g>\n<!-- 6&#45;&gt;12 -->\n<g id=\"edge32\" class=\"edge\">\n<title>6&#45;&gt;12</title>\n<path fill=\"none\" stroke=\"#707070\" stroke-width=\"2\" d=\"M158.917,-82.3672C181.0171,-114.2681 224.8303,-177.5116 246.9907,-209.4996\"/>\n</g>\n<!-- 7&#45;&gt;10 -->\n<g id=\"edge23\" class=\"edge\">\n<title>7&#45;&gt;10</title>\n<path fill=\"none\" stroke=\"#707070\" stroke-width=\"2\" d=\"M155.5043,-373.3385C177.3081,-326.1285 228.8929,-214.4362 250.6007,-167.4341\"/>\n</g>\n<!-- 7&#45;&gt;11 -->\n<g id=\"edge28\" class=\"edge\">\n<title>7&#45;&gt;11</title>\n<path fill=\"none\" stroke=\"#707070\" stroke-width=\"2\" d=\"M164.7484,-381.1077C185.9768,-365.7863 219.9354,-341.2771 241.1888,-325.9377\"/>\n</g>\n<!-- 7&#45;&gt;12 -->\n<g id=\"edge33\" class=\"edge\">\n<title>7&#45;&gt;12</title>\n<path fill=\"none\" stroke=\"#707070\" stroke-width=\"2\" d=\"M158.917,-375.6328C181.0171,-343.7319 224.8303,-280.4884 246.9907,-248.5004\"/>\n</g>\n<!-- 8&#45;&gt;10 -->\n<g id=\"edge24\" class=\"edge\">\n<title>8&#45;&gt;10</title>\n<path fill=\"none\" stroke=\"#707070\" stroke-width=\"2\" d=\"M158.917,-292.6328C181.0171,-260.7319 224.8303,-197.4884 246.9907,-165.5004\"/>\n</g>\n<!-- 8&#45;&gt;11 -->\n<g id=\"edge29\" class=\"edge\">\n<title>8&#45;&gt;11</title>\n<path fill=\"none\" stroke=\"#707070\" stroke-width=\"2\" d=\"M169.0495,-312C188.8946,-312 217.1458,-312 236.982,-312\"/>\n</g>\n<!-- 8&#45;&gt;12 -->\n<g id=\"edge34\" class=\"edge\">\n<title>8&#45;&gt;12</title>\n<path fill=\"none\" stroke=\"#707070\" stroke-width=\"2\" d=\"M164.7484,-298.1077C185.9768,-282.7863 219.9354,-258.2771 241.1888,-242.9377\"/>\n</g>\n<!-- 9&#45;&gt;10 -->\n<g id=\"edge25\" class=\"edge\">\n<title>9&#45;&gt;10</title>\n<path fill=\"none\" stroke=\"#707070\" stroke-width=\"2\" d=\"M164.7484,-215.1077C185.9768,-199.7863 219.9354,-175.2771 241.1888,-159.9377\"/>\n</g>\n<!-- 9&#45;&gt;11 -->\n<g id=\"edge30\" class=\"edge\">\n<title>9&#45;&gt;11</title>\n<path fill=\"none\" stroke=\"#707070\" stroke-width=\"2\" d=\"M164.7484,-242.8923C185.9768,-258.2137 219.9354,-282.7229 241.1888,-298.0623\"/>\n</g>\n<!-- 9&#45;&gt;12 -->\n<g id=\"edge35\" class=\"edge\">\n<title>9&#45;&gt;12</title>\n<path fill=\"none\" stroke=\"#707070\" stroke-width=\"2\" d=\"M169.0495,-229C188.8946,-229 217.1458,-229 236.982,-229\"/>\n</g>\n<!-- 13 -->\n<g id=\"node13\" class=\"node\">\n<title>13</title>\n<ellipse fill=\"#93d30c\" stroke=\"#93d30c\" cx=\"368.5\" cy=\"-229\" rx=\"23.5\" ry=\"23.5\"/>\n<text text-anchor=\"middle\" x=\"368.5\" y=\"-225.3\" font-family=\"Times,serif\" font-size=\"14.00\" fill=\"#93d30c\">13</text>\n</g>\n<!-- 10&#45;&gt;13 -->\n<g id=\"edge36\" class=\"edge\">\n<title>10&#45;&gt;13</title>\n<path fill=\"none\" stroke=\"#707070\" stroke-width=\"2\" d=\"M279.3122,-160.4575C299.014,-175.5987 329.7845,-199.2464 349.541,-214.4297\"/>\n</g>\n<!-- 11&#45;&gt;13 -->\n<g id=\"edge37\" class=\"edge\">\n<title>11&#45;&gt;13</title>\n<path fill=\"none\" stroke=\"#707070\" stroke-width=\"2\" d=\"M279.3122,-297.5425C299.014,-282.4013 329.7845,-258.7536 349.541,-243.5703\"/>\n</g>\n<!-- 12&#45;&gt;13 -->\n<g id=\"edge38\" class=\"edge\">\n<title>12&#45;&gt;13</title>\n<path fill=\"none\" stroke=\"#707070\" stroke-width=\"2\" d=\"M284.2011,-229C302.208,-229 326.8609,-229 344.8542,-229\"/>\n</g>\n</g>\n</svg>\n"
          },
          "metadata": {
            "tags": []
          },
          "execution_count": 18
        }
      ]
    },
    {
      "cell_type": "code",
      "metadata": {
        "id": "1cpwaeN_4LlS"
      },
      "source": [
        "criterion = nn.BCELoss()\n",
        "#binary cross entropy loss\n",
        "optimizer = optim.Adam(net.parameters(), lr=0.001)"
      ],
      "execution_count": 19,
      "outputs": []
    },
    {
      "cell_type": "code",
      "metadata": {
        "id": "rXW3L06_4sw6"
      },
      "source": [
        "device = torch.device(\"cuda:0\" if torch.cuda.is_available() else \"cpu\")\n",
        "X_train = X_train.to(device)\n",
        "y_train = y_train.to(device)\n",
        "\n",
        "X_test = X_test.to(device)\n",
        "y_test = y_test.to(device)\n",
        "\n",
        "net = net.to(device)\n",
        "\n",
        "criterion = criterion.to(device)"
      ],
      "execution_count": 20,
      "outputs": []
    },
    {
      "cell_type": "code",
      "metadata": {
        "id": "0AHTDGZ54x3b"
      },
      "source": [
        "def calculate_accuracy(y_true, y_pred):\n",
        "  predicted = y_pred.ge(.5).view(-1)\n",
        "  return (y_true == predicted).sum().float() / len(y_true)"
      ],
      "execution_count": 21,
      "outputs": []
    },
    {
      "cell_type": "code",
      "metadata": {
        "id": "6nAHprgT49HJ",
        "colab": {
          "base_uri": "https://localhost:8080/"
        },
        "outputId": "03c56ba6-3cda-47f7-bf39-529a16def8af"
      },
      "source": [
        "def round_tensor(t, decimal_places=3):\n",
        "  return round(t.item(), decimal_places)\n",
        "\n",
        "for epoch in range(1000):\n",
        "    y_pred = net(X_train)\n",
        "    y_pred = torch.squeeze(y_pred)\n",
        "    train_loss = criterion(y_pred, y_train)\n",
        "    \n",
        "    if epoch % 100 == 0:\n",
        "      train_acc = calculate_accuracy(y_train, y_pred)\n",
        "\n",
        "      y_test_pred = net(X_test)\n",
        "      y_test_pred = torch.squeeze(y_test_pred)\n",
        "\n",
        "      test_loss = criterion(y_test_pred, y_test)\n",
        "\n",
        "      test_acc = calculate_accuracy(y_test, y_test_pred)\n",
        "      print(\n",
        "f'''epoch {epoch}\n",
        "Train set - loss: {round_tensor(train_loss)}, accuracy: {round_tensor(train_acc)}\n",
        "Test  set - loss: {round_tensor(test_loss)}, accuracy: {round_tensor(test_acc)}\n",
        "''')\n",
        "    \n",
        "    optimizer.zero_grad()\n",
        "    \n",
        "    train_loss.backward()\n",
        "    \n",
        "    optimizer.step()"
      ],
      "execution_count": 22,
      "outputs": [
        {
          "output_type": "stream",
          "text": [
            "epoch 0\n",
            "Train set - loss: 0.597, accuracy: 0.779\n",
            "Test  set - loss: 0.602, accuracy: 0.777\n",
            "\n",
            "epoch 100\n",
            "Train set - loss: 0.505, accuracy: 0.779\n",
            "Test  set - loss: 0.508, accuracy: 0.777\n",
            "\n",
            "epoch 200\n",
            "Train set - loss: 0.475, accuracy: 0.779\n",
            "Test  set - loss: 0.478, accuracy: 0.777\n",
            "\n",
            "epoch 300\n",
            "Train set - loss: 0.433, accuracy: 0.779\n",
            "Test  set - loss: 0.436, accuracy: 0.777\n",
            "\n",
            "epoch 400\n",
            "Train set - loss: 0.42, accuracy: 0.779\n",
            "Test  set - loss: 0.423, accuracy: 0.777\n",
            "\n",
            "epoch 500\n",
            "Train set - loss: 0.416, accuracy: 0.83\n",
            "Test  set - loss: 0.419, accuracy: 0.831\n",
            "\n",
            "epoch 600\n",
            "Train set - loss: 0.414, accuracy: 0.832\n",
            "Test  set - loss: 0.417, accuracy: 0.832\n",
            "\n",
            "epoch 700\n",
            "Train set - loss: 0.412, accuracy: 0.833\n",
            "Test  set - loss: 0.415, accuracy: 0.832\n",
            "\n",
            "epoch 800\n",
            "Train set - loss: 0.41, accuracy: 0.833\n",
            "Test  set - loss: 0.413, accuracy: 0.832\n",
            "\n",
            "epoch 900\n",
            "Train set - loss: 0.409, accuracy: 0.834\n",
            "Test  set - loss: 0.412, accuracy: 0.832\n",
            "\n"
          ],
          "name": "stdout"
        }
      ]
    },
    {
      "cell_type": "code",
      "metadata": {
        "id": "WGkqZAh26s7N"
      },
      "source": [
        "MODEL_PATH = 'model.pth'\n",
        "torch.save(net, MODEL_PATH)"
      ],
      "execution_count": 23,
      "outputs": []
    },
    {
      "cell_type": "code",
      "metadata": {
        "id": "2wMOL0FL6uYn"
      },
      "source": [
        "net = torch.load(MODEL_PATH)"
      ],
      "execution_count": 24,
      "outputs": []
    },
    {
      "cell_type": "code",
      "metadata": {
        "id": "HtOCz7oQ6viP",
        "colab": {
          "base_uri": "https://localhost:8080/"
        },
        "outputId": "2e700b4f-802b-4428-9c22-c23b8ccecc86"
      },
      "source": [
        "classes = ['No rain', 'Raining']\n",
        "\n",
        "y_pred = net(X_test)\n",
        "\n",
        "y_pred = y_pred.ge(.5).view(-1).cpu()\n",
        "y_test = y_test.cpu()\n",
        "\n",
        "print(classification_report(y_test, y_pred, target_names=classes))"
      ],
      "execution_count": 25,
      "outputs": [
        {
          "output_type": "stream",
          "text": [
            "              precision    recall  f1-score   support\n",
            "\n",
            "     No rain       0.84      0.96      0.90     19373\n",
            "     Raining       0.74      0.38      0.50      5565\n",
            "\n",
            "    accuracy                           0.83     24938\n",
            "   macro avg       0.79      0.67      0.70     24938\n",
            "weighted avg       0.82      0.83      0.81     24938\n",
            "\n"
          ],
          "name": "stdout"
        }
      ]
    },
    {
      "cell_type": "code",
      "metadata": {
        "id": "0GpZQNsh6x5Q",
        "colab": {
          "base_uri": "https://localhost:8080/",
          "height": 312
        },
        "outputId": "e1077556-4d0f-4b90-fc4f-b439e7d58048"
      },
      "source": [
        "cm = confusion_matrix(y_test, y_pred)\n",
        "df_cm = pd.DataFrame(cm, index=classes, columns=classes)\n",
        "\n",
        "hmap = sns.heatmap(df_cm, annot=True, fmt=\"d\")\n",
        "hmap.yaxis.set_ticklabels(hmap.yaxis.get_ticklabels(), rotation=0, ha='right')\n",
        "hmap.xaxis.set_ticklabels(hmap.xaxis.get_ticklabels(), rotation=30, ha='right')\n",
        "plt.ylabel('True label')\n",
        "plt.xlabel('Predicted label');"
      ],
      "execution_count": 26,
      "outputs": [
        {
          "output_type": "display_data",
          "data": {
            "image/png": "[encoded data removed]",
            "text/plain": [
              "<Figure size 432x288 with 2 Axes>"
            ]
          },
          "metadata": {
            "tags": [],
            "image/png": {
              "width": 438,
              "height": 295
            }
          }
        }
      ]
    },
    {
      "cell_type": "code",
      "metadata": {
        "id": "KFer3tc-62c5"
      },
      "source": [
        "def will_it_rain(rainfall, humidity, rain_today, pressure):\n",
        "  t = torch.as_tensor([rainfall, humidity, rain_today, pressure]) \\\n",
        "      .float() \\\n",
        "      .to(device)\n",
        "  output = net(t)\n",
        "  return output.ge(0.5).item()"
      ],
      "execution_count": 27,
      "outputs": []
    },
    {
      "cell_type": "code",
      "metadata": {
        "id": "IcNXrHWC64BU",
        "colab": {
          "base_uri": "https://localhost:8080/"
        },
        "outputId": "7243d2c4-80df-4f05-f980-bad46be740b3"
      },
      "source": [
        "will_it_rain(rainfall=10, humidity=10, rain_today=True, pressure=2)"
      ],
      "execution_count": 28,
      "outputs": [
        {
          "output_type": "execute_result",
          "data": {
            "text/plain": [
              "True"
            ]
          },
          "metadata": {
            "tags": []
          },
          "execution_count": 28
        }
      ]
    },
    {
      "cell_type": "code",
      "metadata": {
        "id": "glhrnS-z66Xb",
        "colab": {
          "base_uri": "https://localhost:8080/"
        },
        "outputId": "bec43b6e-4753-43dd-f1f8-64f799b7507a"
      },
      "source": [
        "will_it_rain(rainfall=0, humidity=1, rain_today=False, pressure=100)"
      ],
      "execution_count": 41,
      "outputs": [
        {
          "output_type": "execute_result",
          "data": {
            "text/plain": [
              "True"
            ]
          },
          "metadata": {
            "tags": []
          },
          "execution_count": 41
        }
      ]
    },
    {
      "cell_type": "markdown",
      "metadata": {
        "id": "nT_lPM9wDTn-"
      },
      "source": [
        "# Keras (TensorFlow) High level for simple tasks[link text](https://)"
      ]
    },
    {
      "cell_type": "markdown",
      "metadata": {
        "id": "J9fnFgowHk0H"
      },
      "source": [
        "Same accuracy with how many lines of code?"
      ]
    },
    {
      "cell_type": "code",
      "metadata": {
        "id": "peZuSRr4DUxo",
        "colab": {
          "base_uri": "https://localhost:8080/"
        },
        "outputId": "a8d8b556-ce5e-45c6-a8e8-5d911623dd81"
      },
      "source": [
        "X_train, X_test, y_train, y_test = train_test_split(X, y, test_size=0.2, random_state=RANDOM_SEED)\n",
        "X_train, X_test, y_train, y_test"
      ],
      "execution_count": 42,
      "outputs": [
        {
          "output_type": "execute_result",
          "data": {
            "text/plain": [
              "(        Rainfall  Humidity3pm  RainToday  Pressure9am\n",
              " 95003        0.0         25.0        0.0       1017.2\n",
              " 76112        0.0         58.0        0.0       1018.6\n",
              " 126436       1.2         55.0        1.0       1013.6\n",
              " 109209       3.0         56.0        1.0       1012.9\n",
              " 13876        0.0          8.0        0.0       1010.2\n",
              " ...          ...          ...        ...          ...\n",
              " 29922       46.0         73.0        1.0       1021.1\n",
              " 12184        0.0         21.0        0.0       1023.8\n",
              " 128441       0.0         49.0        0.0       1020.2\n",
              " 61532        0.0         53.0        0.0       1022.5\n",
              " 115977       9.2         54.0        1.0       1021.3\n",
              " \n",
              " [99751 rows x 4 columns],\n",
              "         Rainfall  Humidity3pm  RainToday  Pressure9am\n",
              " 44245       49.0         92.0        1.0       1017.7\n",
              " 84629        0.0         55.0        0.0       1015.7\n",
              " 120185       0.0         46.0        0.0       1033.1\n",
              " 116314       0.0         61.0        0.0       1019.9\n",
              " 69177       13.4         32.0        1.0       1016.9\n",
              " ...          ...          ...        ...          ...\n",
              " 11824        0.0         67.0        0.0       1021.8\n",
              " 31826        0.0         33.0        0.0       1022.3\n",
              " 17837       50.4         74.0        1.0       1022.0\n",
              " 49915        0.0         33.0        0.0       1017.4\n",
              " 1754         0.0         27.0        0.0       1013.2\n",
              " \n",
              " [24938 rows x 4 columns],\n",
              "         RainTomorrow\n",
              " 95003              0\n",
              " 76112              0\n",
              " 126436             1\n",
              " 109209             1\n",
              " 13876              0\n",
              " ...              ...\n",
              " 29922              1\n",
              " 12184              0\n",
              " 128441             0\n",
              " 61532              0\n",
              " 115977             1\n",
              " \n",
              " [99751 rows x 1 columns],\n",
              "         RainTomorrow\n",
              " 44245              1\n",
              " 84629              0\n",
              " 120185             0\n",
              " 116314             0\n",
              " 69177              0\n",
              " ...              ...\n",
              " 11824              0\n",
              " 31826              0\n",
              " 17837              1\n",
              " 49915              0\n",
              " 1754               0\n",
              " \n",
              " [24938 rows x 1 columns])"
            ]
          },
          "metadata": {
            "tags": []
          },
          "execution_count": 42
        }
      ]
    },
    {
      "cell_type": "code",
      "metadata": {
        "id": "f3MxalC_EUen"
      },
      "source": [
        "import keras\n",
        "from keras import layers,models,metrics,optimizers,utils"
      ],
      "execution_count": 43,
      "outputs": []
    },
    {
      "cell_type": "code",
      "metadata": {
        "id": "CMc4NB6oE3yl",
        "colab": {
          "base_uri": "https://localhost:8080/"
        },
        "outputId": "fa303f34-cf48-463a-dc0b-33b09c9e5f90"
      },
      "source": [
        "X_train.shape\n"
      ],
      "execution_count": 44,
      "outputs": [
        {
          "output_type": "execute_result",
          "data": {
            "text/plain": [
              "(99751, 4)"
            ]
          },
          "metadata": {
            "tags": []
          },
          "execution_count": 44
        }
      ]
    },
    {
      "cell_type": "code",
      "metadata": {
        "id": "QURcYkx7Eipl",
        "colab": {
          "base_uri": "https://localhost:8080/"
        },
        "outputId": "2b85cffe-0f1c-4bcd-d18c-cfb0a45470a4"
      },
      "source": [
        "model = models.Sequential()\n",
        "model.add(layers.Dense(5,input_shape=X_train.shape,activation='relu',name='Layer_1'))\n",
        "model.add(layers.Dense(3,activation='relu',name='Layer_2'))\n",
        "model.add(layers.Dense(1,activation='sigmoid',name='Layer_3'))\n",
        "model.compile(optimizer='adam',loss='binary_crossentropy',metrics=['accuracy'])\n",
        "model.fit(X_train,y_train,batch_size=16,epochs=10)\n",
        "model.summary()"
      ],
      "execution_count": 48,
      "outputs": [
        {
          "output_type": "stream",
          "text": [
            "Epoch 1/10\n",
            "WARNING:tensorflow:Model was constructed with shape (None, 99751, 4) for input Tensor(\"Layer_1_input_4:0\", shape=(None, 99751, 4), dtype=float32), but it was called on an input with incompatible shape (None, 4).\n",
            "WARNING:tensorflow:Model was constructed with shape (None, 99751, 4) for input Tensor(\"Layer_1_input_4:0\", shape=(None, 99751, 4), dtype=float32), but it was called on an input with incompatible shape (None, 4).\n",
            "6235/6235 [==============================] - 6s 996us/step - loss: 0.5018 - accuracy: 0.8245\n",
            "Epoch 2/10\n",
            "6235/6235 [==============================] - 6s 1ms/step - loss: 0.4102 - accuracy: 0.8288\n",
            "Epoch 3/10\n",
            "6235/6235 [==============================] - 6s 1ms/step - loss: 0.4073 - accuracy: 0.8307\n",
            "Epoch 4/10\n",
            "6235/6235 [==============================] - 6s 1ms/step - loss: 0.4055 - accuracy: 0.8306\n",
            "Epoch 5/10\n",
            "6235/6235 [==============================] - 6s 1ms/step - loss: 0.4042 - accuracy: 0.8316\n",
            "Epoch 6/10\n",
            "6235/6235 [==============================] - 6s 1ms/step - loss: 0.4038 - accuracy: 0.8327\n",
            "Epoch 7/10\n",
            "6235/6235 [==============================] - 6s 1ms/step - loss: 0.4026 - accuracy: 0.8323\n",
            "Epoch 8/10\n",
            "6235/6235 [==============================] - 6s 1ms/step - loss: 0.4023 - accuracy: 0.8329\n",
            "Epoch 9/10\n",
            "6235/6235 [==============================] - 6s 1ms/step - loss: 0.4011 - accuracy: 0.8331\n",
            "Epoch 10/10\n",
            "6235/6235 [==============================] - 6s 995us/step - loss: 0.4007 - accuracy: 0.8338\n",
            "Model: \"sequential_4\"\n",
            "_________________________________________________________________\n",
            "Layer (type)                 Output Shape              Param #   \n",
            "=================================================================\n",
            "Layer_1 (Dense)              (None, 99751, 5)          25        \n",
            "_________________________________________________________________\n",
            "Layer_2 (Dense)              (None, 99751, 3)          18        \n",
            "_________________________________________________________________\n",
            "Layer_3 (Dense)              (None, 99751, 1)          4         \n",
            "=================================================================\n",
            "Total params: 47\n",
            "Trainable params: 47\n",
            "Non-trainable params: 0\n",
            "_________________________________________________________________\n"
          ],
          "name": "stdout"
        }
      ]
    },
    {
      "cell_type": "code",
      "metadata": {
        "id": "d3pTQwCAHgLY",
        "colab": {
          "base_uri": "https://localhost:8080/"
        },
        "outputId": "fc06c4a9-266a-4ad1-eeb1-60dd2745c819"
      },
      "source": [
        "model.evaluate(X_test,y_test)"
      ],
      "execution_count": 49,
      "outputs": [
        {
          "output_type": "stream",
          "text": [
            "WARNING:tensorflow:Model was constructed with shape (None, 99751, 4) for input Tensor(\"Layer_1_input_4:0\", shape=(None, 99751, 4), dtype=float32), but it was called on an input with incompatible shape (None, 4).\n",
            "780/780 [==============================] - 1s 882us/step - loss: 0.4044 - accuracy: 0.8325\n"
          ],
          "name": "stdout"
        },
        {
          "output_type": "execute_result",
          "data": {
            "text/plain": [
              "[0.4043850302696228, 0.8324645161628723]"
            ]
          },
          "metadata": {
            "tags": []
          },
          "execution_count": 49
        }
      ]
    },
    {
      "cell_type": "code",
      "metadata": {
        "id": "8gnxCqCLOS2b",
        "colab": {
          "base_uri": "https://localhost:8080/",
          "height": 78
        },
        "outputId": "c4e2c10a-4284-4084-aad7-80db2785c70a"
      },
      "source": [
        "X_test[0:1]"
      ],
      "execution_count": 50,
      "outputs": [
        {
          "output_type": "execute_result",
          "data": {
            "text/html": [
              "<div>\n",
              "<style scoped>\n",
              "    .dataframe tbody tr th:only-of-type {\n",
              "        vertical-align: middle;\n",
              "    }\n",
              "\n",
              "    .dataframe tbody tr th {\n",
              "        vertical-align: top;\n",
              "    }\n",
              "\n",
              "    .dataframe thead th {\n",
              "        text-align: right;\n",
              "    }\n",
              "</style>\n",
              "<table border=\"1\" class=\"dataframe\">\n",
              "  <thead>\n",
              "    <tr style=\"text-align: right;\">\n",
              "      <th></th>\n",
              "      <th>Rainfall</th>\n",
              "      <th>Humidity3pm</th>\n",
              "      <th>RainToday</th>\n",
              "      <th>Pressure9am</th>\n",
              "    </tr>\n",
              "  </thead>\n",
              "  <tbody>\n",
              "    <tr>\n",
              "      <th>44245</th>\n",
              "      <td>49.0</td>\n",
              "      <td>92.0</td>\n",
              "      <td>1.0</td>\n",
              "      <td>1017.7</td>\n",
              "    </tr>\n",
              "  </tbody>\n",
              "</table>\n",
              "</div>"
            ],
            "text/plain": [
              "       Rainfall  Humidity3pm  RainToday  Pressure9am\n",
              "44245      49.0         92.0        1.0       1017.7"
            ]
          },
          "metadata": {
            "tags": []
          },
          "execution_count": 50
        }
      ]
    },
    {
      "cell_type": "code",
      "metadata": {
        "id": "WkaaoCKcN6AN"
      },
      "source": [
        "# hmap = sns.heatmap(df_cm, annot=True, fmt=\"d\")\n",
        "# hmap.yaxis.set_ticklabels(hmap.yaxis.get_ticklabels(), rotation=0, ha='right')\n",
        "# hmap.xaxis.set_ticklabels(hmap.xaxis.get_ticklabels(), rotation=30, ha='right')\n",
        "# plt.ylabel('True label')\n",
        "# plt.xlabel('Predicted label');"
      ],
      "execution_count": 51,
      "outputs": []
    },
    {
      "cell_type": "code",
      "metadata": {
        "id": "pNfYskC7IWwi",
        "colab": {
          "base_uri": "https://localhost:8080/",
          "height": 327
        },
        "outputId": "fa70c59c-b120-463f-c500-dc1ecea2ec73"
      },
      "source": [
        "predicted = np.round(model.predict(X_test))\n",
        "matrix = confusion_matrix(predicted,y_test)\n",
        "sns.heatmap(matrix,annot=True,fmt='d')\n",
        "hmap.yaxis.set_ticklabels(hmap.yaxis.get_ticklabels(), rotation=0, ha='right')\n",
        "hmap.xaxis.set_ticklabels(hmap.xaxis.get_ticklabels(), rotation=30, ha='right')\n",
        "plt.ylabel('True label')\n",
        "plt.xlabel('Predicted label');"
      ],
      "execution_count": 52,
      "outputs": [
        {
          "output_type": "stream",
          "text": [
            "WARNING:tensorflow:Model was constructed with shape (None, 99751, 4) for input Tensor(\"Layer_1_input_4:0\", shape=(None, 99751, 4), dtype=float32), but it was called on an input with incompatible shape (None, 4).\n"
          ],
          "name": "stdout"
        },
        {
          "output_type": "display_data",
          "data": {
            "image/png": "[encoded data removed]",
            "text/plain": [
              "<Figure size 432x288 with 2 Axes>"
            ]
          },
          "metadata": {
            "tags": [],
            "image/png": {
              "width": 401,
              "height": 272
            }
          }
        }
      ]
    },
    {
      "cell_type": "code",
      "metadata": {
        "id": "LKFkEUeeIgiR",
        "colab": {
          "base_uri": "https://localhost:8080/"
        },
        "outputId": "da9cf047-2c7e-41a0-9dde-c3f3617ce649"
      },
      "source": [
        "model.predict(X_test)"
      ],
      "execution_count": 53,
      "outputs": [
        {
          "output_type": "execute_result",
          "data": {
            "text/plain": [
              "array([[0.8954895 ],\n",
              "       [0.19386223],\n",
              "       [0.13721517],\n",
              "       ...,\n",
              "       [0.7130633 ],\n",
              "       [0.09112731],\n",
              "       [0.07426062]], dtype=float32)"
            ]
          },
          "metadata": {
            "tags": []
          },
          "execution_count": 53
        }
      ]
    },
    {
      "cell_type": "code",
      "metadata": {
        "id": "wKv2KyQOIfB2",
        "colab": {
          "base_uri": "https://localhost:8080/",
          "height": 411
        },
        "outputId": "39a795af-125f-4733-e81f-50849583a565"
      },
      "source": [
        "y_test"
      ],
      "execution_count": 54,
      "outputs": [
        {
          "output_type": "execute_result",
          "data": {
            "text/html": [
              "<div>\n",
              "<style scoped>\n",
              "    .dataframe tbody tr th:only-of-type {\n",
              "        vertical-align: middle;\n",
              "    }\n",
              "\n",
              "    .dataframe tbody tr th {\n",
              "        vertical-align: top;\n",
              "    }\n",
              "\n",
              "    .dataframe thead th {\n",
              "        text-align: right;\n",
              "    }\n",
              "</style>\n",
              "<table border=\"1\" class=\"dataframe\">\n",
              "  <thead>\n",
              "    <tr style=\"text-align: right;\">\n",
              "      <th></th>\n",
              "      <th>RainTomorrow</th>\n",
              "    </tr>\n",
              "  </thead>\n",
              "  <tbody>\n",
              "    <tr>\n",
              "      <th>44245</th>\n",
              "      <td>1</td>\n",
              "    </tr>\n",
              "    <tr>\n",
              "      <th>84629</th>\n",
              "      <td>0</td>\n",
              "    </tr>\n",
              "    <tr>\n",
              "      <th>120185</th>\n",
              "      <td>0</td>\n",
              "    </tr>\n",
              "    <tr>\n",
              "      <th>116314</th>\n",
              "      <td>0</td>\n",
              "    </tr>\n",
              "    <tr>\n",
              "      <th>69177</th>\n",
              "      <td>0</td>\n",
              "    </tr>\n",
              "    <tr>\n",
              "      <th>...</th>\n",
              "      <td>...</td>\n",
              "    </tr>\n",
              "    <tr>\n",
              "      <th>11824</th>\n",
              "      <td>0</td>\n",
              "    </tr>\n",
              "    <tr>\n",
              "      <th>31826</th>\n",
              "      <td>0</td>\n",
              "    </tr>\n",
              "    <tr>\n",
              "      <th>17837</th>\n",
              "      <td>1</td>\n",
              "    </tr>\n",
              "    <tr>\n",
              "      <th>49915</th>\n",
              "      <td>0</td>\n",
              "    </tr>\n",
              "    <tr>\n",
              "      <th>1754</th>\n",
              "      <td>0</td>\n",
              "    </tr>\n",
              "  </tbody>\n",
              "</table>\n",
              "<p>24938 rows × 1 columns</p>\n",
              "</div>"
            ],
            "text/plain": [
              "        RainTomorrow\n",
              "44245              1\n",
              "84629              0\n",
              "120185             0\n",
              "116314             0\n",
              "69177              0\n",
              "...              ...\n",
              "11824              0\n",
              "31826              0\n",
              "17837              1\n",
              "49915              0\n",
              "1754               0\n",
              "\n",
              "[24938 rows x 1 columns]"
            ]
          },
          "metadata": {
            "tags": []
          },
          "execution_count": 54
        }
      ]
    },
    {
      "cell_type": "markdown",
      "metadata": {
        "id": "5YsWmKBYHrSo"
      },
      "source": [
        "# Conclusion:\n",
        "\n",
        "If you have a simple task at hand, you can just use the Keras high level API. But if you are researching and want to have better efficiency, accuracy, and more control over every part of the code try PyTorch.\n",
        "Requires great amount to coding and debuging and writing as tensorflow and Keras has better documentation, better usabilty and more ready to be used frameworks.\n",
        "\n",
        "\n",
        "1.   No need to transform into torch tensors (automatic)\n",
        "2.   No need to call class, and do extra, such process can be done by tensorflow function rather than the sequential model.\n",
        "3. Its good for begineers \n",
        "\n"
      ]
    },
    {
      "cell_type": "markdown",
      "metadata": {
        "id": "z3-BrWpqlKXS"
      },
      "source": [
        "## Reference\n",
        "\n",
        "\n",
        "1.   https://pytorch.org/tutorials/beginner/blitz/autograd_tutorial.html\n",
        "2.   Get S done by pytorch\n",
        "3. [Data imbalace](https://curiousily.com/posts/practical-guide-to-handling-imbalanced-datasets/)\n"
      ]
    }
  ]
}