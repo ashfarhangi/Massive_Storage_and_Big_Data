{
  "nbformat": 4,
  "nbformat_minor": 0,
  "metadata": {
    "colab": {
      "name": "Deep_Reinforcement_Learning.ipynb",
      "provenance": [],
      "collapsed_sections": [],
      "authorship_tag": "ABX9TyOuXYYyv4z1cTy3aTinBDrV",
      "include_colab_link": true
    },
    "kernelspec": {
      "name": "python3",
      "display_name": "Python 3"
    },
    "accelerator": "GPU"
  },
  "cells": [
    {
      "cell_type": "markdown",
      "metadata": {
        "id": "view-in-github",
        "colab_type": "text"
      },
      "source": [
        "<a href=\"https://colab.research.google.com/github/ashfarhangi/Massive_Storage_and_Big_Data/blob/master/code/Deep_Reinforcement_Learning.ipynb\" target=\"_parent\"><img src=\"https://colab.research.google.com/assets/colab-badge.svg\" alt=\"Open In Colab\"/></a>"
      ]
    },
    {
      "cell_type": "code",
      "metadata": {
        "colab": {
          "base_uri": "https://localhost:8080/",
          "height": 35
        },
        "id": "_eCAjMYT7JOp",
        "outputId": "def22f28-6ceb-48a9-ea15-6e906a378495"
      },
      "source": [
        "'''\n",
        "\n",
        "'''"
      ],
      "execution_count": null,
      "outputs": [
        {
          "output_type": "execute_result",
          "data": {
            "application/vnd.google.colaboratory.intrinsic+json": {
              "type": "string"
            },
            "text/plain": [
              "'\\nTargets: \\nAchieve a simple game of life with parameters \\n\\n'"
            ]
          },
          "metadata": {
            "tags": []
          },
          "execution_count": 3
        }
      ]
    },
    {
      "cell_type": "markdown",
      "metadata": {
        "id": "oblUquae7by0"
      },
      "source": [
        "# DQN (2018) Google"
      ]
    },
    {
      "cell_type": "code",
      "metadata": {
        "id": "KEHR2Ui-lo8O",
        "colab": {
          "base_uri": "https://localhost:8080/"
        },
        "outputId": "36b939ca-d31e-405e-bedd-0c92d899d945"
      },
      "source": [
        "!sudo apt-get install -y xvfb ffmpeg\n",
        "!pip install gym\n",
        "!pip install 'imageio==2.4.0'\n",
        "!pip install PILLOW\n",
        "!pip install pyglet\n",
        "!pip install pyvirtualdisplay\n",
        "!pip install tf-agents"
      ],
      "execution_count": null,
      "outputs": [
        {
          "output_type": "stream",
          "text": [
            "Reading package lists... Done\n",
            "Building dependency tree       \n",
            "Reading state information... Done\n",
            "ffmpeg is already the newest version (7:3.4.8-0ubuntu0.2).\n",
            "The following NEW packages will be installed:\n",
            "  xvfb\n",
            "0 upgraded, 1 newly installed, 0 to remove and 14 not upgraded.\n",
            "Need to get 783 kB of archives.\n",
            "After this operation, 2,266 kB of additional disk space will be used.\n",
            "Get:1 http://archive.ubuntu.com/ubuntu bionic-updates/universe amd64 xvfb amd64 2:1.19.6-1ubuntu4.7 [783 kB]\n",
            "Fetched 783 kB in 0s (8,298 kB/s)\n",
            "debconf: unable to initialize frontend: Dialog\n",
            "debconf: (No usable dialog-like program is installed, so the dialog based frontend cannot be used. at /usr/share/perl5/Debconf/FrontEnd/Dialog.pm line 76, <> line 1.)\n",
            "debconf: falling back to frontend: Readline\n",
            "debconf: unable to initialize frontend: Readline\n",
            "debconf: (This frontend requires a controlling tty.)\n",
            "debconf: falling back to frontend: Teletype\n",
            "dpkg-preconfigure: unable to re-open stdin: \n",
            "Selecting previously unselected package xvfb.\n",
            "(Reading database ... 144793 files and directories currently installed.)\n",
            "Preparing to unpack .../xvfb_2%3a1.19.6-1ubuntu4.7_amd64.deb ...\n",
            "Unpacking xvfb (2:1.19.6-1ubuntu4.7) ...\n",
            "Setting up xvfb (2:1.19.6-1ubuntu4.7) ...\n",
            "Processing triggers for man-db (2.8.3-2ubuntu0.1) ...\n",
            "Requirement already satisfied: gym in /usr/local/lib/python3.6/dist-packages (0.17.3)\n",
            "Requirement already satisfied: numpy>=1.10.4 in /usr/local/lib/python3.6/dist-packages (from gym) (1.18.5)\n",
            "Requirement already satisfied: scipy in /usr/local/lib/python3.6/dist-packages (from gym) (1.4.1)\n",
            "Requirement already satisfied: pyglet<=1.5.0,>=1.4.0 in /usr/local/lib/python3.6/dist-packages (from gym) (1.5.0)\n",
            "Requirement already satisfied: cloudpickle<1.7.0,>=1.2.0 in /usr/local/lib/python3.6/dist-packages (from gym) (1.3.0)\n",
            "Requirement already satisfied: future in /usr/local/lib/python3.6/dist-packages (from pyglet<=1.5.0,>=1.4.0->gym) (0.16.0)\n",
            "Collecting imageio==2.4.0\n",
            "\u001b[?25l  Downloading https://files.pythonhosted.org/packages/ac/64/8e2bb6aac43d6ed7c2d9514320b43d5e80c00f150ee2b9408aee24359e6d/imageio-2.4.0.tar.gz (3.3MB)\n",
            "\u001b[K     |████████████████████████████████| 3.3MB 15.4MB/s \n",
            "\u001b[?25hRequirement already satisfied: numpy in /usr/local/lib/python3.6/dist-packages (from imageio==2.4.0) (1.18.5)\n",
            "Requirement already satisfied: pillow in /usr/local/lib/python3.6/dist-packages (from imageio==2.4.0) (7.0.0)\n",
            "Building wheels for collected packages: imageio\n",
            "  Building wheel for imageio (setup.py) ... \u001b[?25l\u001b[?25hdone\n",
            "  Created wheel for imageio: filename=imageio-2.4.0-cp36-none-any.whl size=3303880 sha256=6e79f3f027d303e78d7cd230f63ba1863afd8b9eed137dd07f2940b7bec2360f\n",
            "  Stored in directory: /root/.cache/pip/wheels/31/83/88/a1cba54ac06395d9e4ddcd9cf06911cd0b26cd78af9a61071b\n",
            "Successfully built imageio\n",
            "\u001b[31mERROR: albumentations 0.1.12 has requirement imgaug<0.2.7,>=0.2.5, but you'll have imgaug 0.2.9 which is incompatible.\u001b[0m\n",
            "Installing collected packages: imageio\n",
            "  Found existing installation: imageio 2.4.1\n",
            "    Uninstalling imageio-2.4.1:\n",
            "      Successfully uninstalled imageio-2.4.1\n",
            "Successfully installed imageio-2.4.0\n",
            "Requirement already satisfied: PILLOW in /usr/local/lib/python3.6/dist-packages (7.0.0)\n",
            "Requirement already satisfied: pyglet in /usr/local/lib/python3.6/dist-packages (1.5.0)\n",
            "Requirement already satisfied: future in /usr/local/lib/python3.6/dist-packages (from pyglet) (0.16.0)\n",
            "Collecting pyvirtualdisplay\n",
            "  Downloading https://files.pythonhosted.org/packages/d0/8a/643043cc70791367bee2d19eb20e00ed1a246ac48e5dbe57bbbcc8be40a9/PyVirtualDisplay-1.3.2-py2.py3-none-any.whl\n",
            "Collecting EasyProcess\n",
            "  Downloading https://files.pythonhosted.org/packages/48/3c/75573613641c90c6d094059ac28adb748560d99bd27ee6f80cce398f404e/EasyProcess-0.3-py2.py3-none-any.whl\n",
            "Installing collected packages: EasyProcess, pyvirtualdisplay\n",
            "Successfully installed EasyProcess-0.3 pyvirtualdisplay-1.3.2\n",
            "Collecting tf-agents\n",
            "\u001b[?25l  Downloading https://files.pythonhosted.org/packages/7c/77/df0c0ca6f0b1a59b812d81d7737d8ea2a95d8716f9ffc1a68822531b78fb/tf_agents-0.6.0-py3-none-any.whl (1.1MB)\n",
            "\u001b[K     |████████████████████████████████| 1.1MB 8.8MB/s \n",
            "\u001b[?25hRequirement already satisfied: tensorflow-probability>=0.11.0 in /usr/local/lib/python3.6/dist-packages (from tf-agents) (0.11.0)\n",
            "Requirement already satisfied: cloudpickle==1.3 in /usr/local/lib/python3.6/dist-packages (from tf-agents) (1.3.0)\n",
            "Requirement already satisfied: protobuf>=3.11.3 in /usr/local/lib/python3.6/dist-packages (from tf-agents) (3.12.4)\n",
            "Requirement already satisfied: gin-config>=0.3.0 in /usr/local/lib/python3.6/dist-packages (from tf-agents) (0.3.0)\n",
            "Requirement already satisfied: wrapt>=1.11.1 in /usr/local/lib/python3.6/dist-packages (from tf-agents) (1.12.1)\n",
            "Requirement already satisfied: absl-py>=0.6.1 in /usr/local/lib/python3.6/dist-packages (from tf-agents) (0.10.0)\n",
            "Requirement already satisfied: numpy>=1.13.3 in /usr/local/lib/python3.6/dist-packages (from tf-agents) (1.18.5)\n",
            "Requirement already satisfied: six>=1.10.0 in /usr/local/lib/python3.6/dist-packages (from tf-agents) (1.15.0)\n",
            "Requirement already satisfied: decorator in /usr/local/lib/python3.6/dist-packages (from tensorflow-probability>=0.11.0->tf-agents) (4.4.2)\n",
            "Requirement already satisfied: gast>=0.3.2 in /usr/local/lib/python3.6/dist-packages (from tensorflow-probability>=0.11.0->tf-agents) (0.3.3)\n",
            "Requirement already satisfied: dm-tree in /usr/local/lib/python3.6/dist-packages (from tensorflow-probability>=0.11.0->tf-agents) (0.1.5)\n",
            "Requirement already satisfied: setuptools in /usr/local/lib/python3.6/dist-packages (from protobuf>=3.11.3->tf-agents) (50.3.2)\n",
            "Installing collected packages: tf-agents\n",
            "Successfully installed tf-agents-0.6.0\n"
          ],
          "name": "stdout"
        }
      ]
    },
    {
      "cell_type": "code",
      "metadata": {
        "id": "sMitx5qSgJk1"
      },
      "source": [
        "from __future__ import absolute_import, division, print_function\n",
        "\n",
        "import base64\n",
        "import imageio\n",
        "import IPython\n",
        "import matplotlib\n",
        "import matplotlib.pyplot as plt\n",
        "import numpy as np\n",
        "import PIL.Image\n",
        "import pyvirtualdisplay\n",
        "\n",
        "import tensorflow as tf\n",
        "\n",
        "from tf_agents.agents.dqn import dqn_agent\n",
        "from tf_agents.drivers import dynamic_step_driver\n",
        "from tf_agents.environments import suite_gym\n",
        "from tf_agents.environments import tf_py_environment\n",
        "from tf_agents.eval import metric_utils\n",
        "from tf_agents.metrics import tf_metrics\n",
        "from tf_agents.networks import q_network\n",
        "from tf_agents.policies import random_tf_policy\n",
        "from tf_agents.replay_buffers import tf_uniform_replay_buffer\n",
        "from tf_agents.trajectories import trajectory\n",
        "from tf_agents.utils import common"
      ],
      "execution_count": null,
      "outputs": []
    },
    {
      "cell_type": "code",
      "metadata": {
        "id": "J6HsdS5GbSjd"
      },
      "source": [
        "tf.compat.v1.enable_v2_behavior()\n",
        "\n",
        "# Set up a virtual display for rendering OpenAI gym environments.\n",
        "display = pyvirtualdisplay.Display(visible=0, size=(1400, 900)).start()"
      ],
      "execution_count": null,
      "outputs": []
    },
    {
      "cell_type": "code",
      "metadata": {
        "id": "NspmzG4nP3b9",
        "colab": {
          "base_uri": "https://localhost:8080/",
          "height": 35
        },
        "outputId": "37a60107-b074-4d85-eea2-087f752a2fc1"
      },
      "source": [
        "tf.version.VERSION"
      ],
      "execution_count": null,
      "outputs": [
        {
          "output_type": "execute_result",
          "data": {
            "application/vnd.google.colaboratory.intrinsic+json": {
              "type": "string"
            },
            "text/plain": [
              "'2.3.0'"
            ]
          },
          "metadata": {
            "tags": []
          },
          "execution_count": 7
        }
      ]
    },
    {
      "cell_type": "markdown",
      "metadata": {
        "id": "LmC0NDhdLIKY"
      },
      "source": [
        "## Hyperparameters"
      ]
    },
    {
      "cell_type": "code",
      "metadata": {
        "id": "HC1kNrOsLSIZ"
      },
      "source": [
        "num_iterations = 200 # @param {type:\"integer\"}\n",
        "\n",
        "initial_collect_steps = 100  # @param {type:\"integer\"} \n",
        "collect_steps_per_iteration = 1  # @param {type:\"integer\"}\n",
        "replay_buffer_max_length = 100000  # @param {type:\"integer\"}\n",
        "\n",
        "batch_size = 64  # @param {type:\"integer\"}\n",
        "learning_rate = 1e-3  # @param {type:\"number\"}\n",
        "log_interval = 200  # @param {type:\"integer\"}\n",
        "\n",
        "num_eval_episodes = 10  # @param {type:\"integer\"}\n",
        "eval_interval = 1000  # @param {type:\"integer\"}"
      ],
      "execution_count": null,
      "outputs": []
    },
    {
      "cell_type": "markdown",
      "metadata": {
        "id": "VMsJC3DEgI0x"
      },
      "source": [
        "## Environment\n",
        "\n",
        "In Reinforcement Learning (RL), an environment represents the task or problem to be solved. Standard environments can be created in TF-Agents using `tf_agents.environments` suites. TF-Agents has suites for loading environments from sources such as the OpenAI Gym, Atari, and DM Control.\n",
        "\n",
        "Load the CartPole environment from the OpenAI Gym suite. "
      ]
    },
    {
      "cell_type": "code",
      "metadata": {
        "id": "pYEz-S9gEv2-"
      },
      "source": [
        "env_name = 'CartPole-v0'\n",
        "env = suite_gym.load(env_name)"
      ],
      "execution_count": null,
      "outputs": []
    },
    {
      "cell_type": "markdown",
      "metadata": {
        "id": "IIHYVBkuvPNw"
      },
      "source": [
        "You can render this environment to see how it looks. A free-swinging pole is attached to a cart.  The goal is to move the cart right or left in order to keep the pole pointing up."
      ]
    },
    {
      "cell_type": "code",
      "metadata": {
        "id": "RlO7WIQHu_7D",
        "colab": {
          "base_uri": "https://localhost:8080/",
          "height": 417
        },
        "outputId": "120c8cd9-7763-4464-fcb9-cb985061fff6"
      },
      "source": [
        "#@test {\"skip\": true}\n",
        "env.reset()\n",
        "PIL.Image.fromarray(env.render())"
      ],
      "execution_count": null,
      "outputs": [
        {
          "output_type": "execute_result",
          "data": {
            "image/png": "[encoded data removed]",
            "text/plain": [
              "<PIL.Image.Image image mode=RGB size=600x400 at 0x7FCB6FFA6B00>"
            ]
          },
          "metadata": {
            "tags": []
          },
          "execution_count": 10
        }
      ]
    },
    {
      "cell_type": "markdown",
      "metadata": {
        "id": "B9_lskPOey18"
      },
      "source": [
        "The `environment.step` method takes an `action` in the environment and returns a `TimeStep` tuple containing the next observation of the environment and the reward for the action.\n",
        "\n",
        "The `time_step_spec()` method returns the specification for the `TimeStep` tuple. Its `observation` attribute shows the shape of observations, the data types, and the ranges of allowed values. The `reward` attribute shows the same details for the reward.\n"
      ]
    },
    {
      "cell_type": "code",
      "metadata": {
        "id": "exDv57iHfwQV",
        "colab": {
          "base_uri": "https://localhost:8080/"
        },
        "outputId": "a9094116-34bd-4a0c-abab-e29f303cead8"
      },
      "source": [
        "print('Observation Spec:')\n",
        "print(env.time_step_spec().observation)"
      ],
      "execution_count": null,
      "outputs": [
        {
          "output_type": "stream",
          "text": [
            "Observation Spec:\n",
            "BoundedArraySpec(shape=(4,), dtype=dtype('float32'), name='observation', minimum=[-4.8000002e+00 -3.4028235e+38 -4.1887903e-01 -3.4028235e+38], maximum=[4.8000002e+00 3.4028235e+38 4.1887903e-01 3.4028235e+38])\n"
          ],
          "name": "stdout"
        }
      ]
    },
    {
      "cell_type": "code",
      "metadata": {
        "id": "UxiSyCbBUQPi",
        "colab": {
          "base_uri": "https://localhost:8080/"
        },
        "outputId": "aebe6ca5-d6d6-4fe6-c76f-4f7449fde9f4"
      },
      "source": [
        "print('Reward Spec:')\n",
        "print(env.time_step_spec().reward)"
      ],
      "execution_count": null,
      "outputs": [
        {
          "output_type": "stream",
          "text": [
            "Reward Spec:\n",
            "ArraySpec(shape=(), dtype=dtype('float32'), name='reward')\n"
          ],
          "name": "stdout"
        }
      ]
    },
    {
      "cell_type": "markdown",
      "metadata": {
        "id": "b_lHcIcqUaqB"
      },
      "source": [
        "The `action_spec()` method returns the shape, data types, and allowed values of valid actions."
      ]
    },
    {
      "cell_type": "code",
      "metadata": {
        "id": "bttJ4uxZUQBr",
        "colab": {
          "base_uri": "https://localhost:8080/"
        },
        "outputId": "5d3a8337-c3e2-430f-b5f2-df4f45e149e7"
      },
      "source": [
        "print('Action Spec:')\n",
        "print(env.action_spec())"
      ],
      "execution_count": null,
      "outputs": [
        {
          "output_type": "stream",
          "text": [
            "Action Spec:\n",
            "BoundedArraySpec(shape=(), dtype=dtype('int64'), name='action', minimum=0, maximum=1)\n"
          ],
          "name": "stdout"
        }
      ]
    },
    {
      "cell_type": "markdown",
      "metadata": {
        "id": "eJCgJnx3g0yY"
      },
      "source": [
        "In the Cartpole environment:\n",
        "\n",
        "-   `observation` is an array of 4 floats: \n",
        "    -   the position and velocity of the cart\n",
        "    -   the angular position and velocity of the pole \n",
        "-   `reward` is a scalar float value\n",
        "-   `action` is a scalar integer with only two possible values:\n",
        "    -   `0` — \"move left\"\n",
        "    -   `1` — \"move right\"\n"
      ]
    },
    {
      "cell_type": "code",
      "metadata": {
        "id": "V2UGR5t_iZX-",
        "colab": {
          "base_uri": "https://localhost:8080/"
        },
        "outputId": "12b96843-6892-4cac-9373-099ae3d63419"
      },
      "source": [
        "time_step = env.reset()\n",
        "print('Time step:')\n",
        "print(time_step)\n",
        "\n",
        "action = np.array(1, dtype=np.int32)\n",
        "\n",
        "next_time_step = env.step(action)\n",
        "print('Next time step:')\n",
        "print(next_time_step)"
      ],
      "execution_count": null,
      "outputs": [
        {
          "output_type": "stream",
          "text": [
            "Time step:\n",
            "TimeStep(step_type=array(0, dtype=int32), reward=array(0., dtype=float32), discount=array(1., dtype=float32), observation=array([-0.02692439,  0.03694783, -0.00955371, -0.01417547], dtype=float32))\n",
            "Next time step:\n",
            "TimeStep(step_type=array(1, dtype=int32), reward=array(1., dtype=float32), discount=array(1., dtype=float32), observation=array([-0.02618544,  0.23220548, -0.00983722, -0.30985734], dtype=float32))\n"
          ],
          "name": "stdout"
        }
      ]
    },
    {
      "cell_type": "markdown",
      "metadata": {
        "id": "4JSc9GviWUBK"
      },
      "source": [
        "Usually two environments are instantiated: one for training and one for evaluation. "
      ]
    },
    {
      "cell_type": "code",
      "metadata": {
        "id": "N7brXNIGWXjC"
      },
      "source": [
        "train_py_env = suite_gym.load(env_name)\n",
        "eval_py_env = suite_gym.load(env_name)"
      ],
      "execution_count": null,
      "outputs": []
    },
    {
      "cell_type": "markdown",
      "metadata": {
        "id": "zuUqXAVmecTU"
      },
      "source": [
        "The Cartpole environment, like most environments, is written in pure Python. This is converted to TensorFlow using the `TFPyEnvironment` wrapper.\n",
        "\n",
        "The original environment's API uses Numpy arrays. The `TFPyEnvironment` converts these to `Tensors` to make it compatible with Tensorflow agents and policies.\n"
      ]
    },
    {
      "cell_type": "code",
      "metadata": {
        "id": "Xp-Y4mD6eDhF"
      },
      "source": [
        "train_env = tf_py_environment.TFPyEnvironment(train_py_env)\n",
        "eval_env = tf_py_environment.TFPyEnvironment(eval_py_env)"
      ],
      "execution_count": null,
      "outputs": []
    },
    {
      "cell_type": "markdown",
      "metadata": {
        "id": "E9lW_OZYFR8A"
      },
      "source": [
        "## Agent\n",
        "\n",
        "The algorithm used to solve an RL problem is represented by an `Agent`. TF-Agents provides standard implementations of a variety of `Agents`, including:\n",
        "\n",
        "-   [DQN](https://storage.googleapis.com/deepmind-media/dqn/DQNNaturePaper.pdf) (used in this tutorial)\n",
        "-   [REINFORCE](http://www-anw.cs.umass.edu/~barto/courses/cs687/williams92simple.pdf)\n",
        "-   [DDPG](https://arxiv.org/pdf/1509.02971.pdf)\n",
        "-   [TD3](https://arxiv.org/pdf/1802.09477.pdf)\n",
        "-   [PPO](https://arxiv.org/abs/1707.06347)\n",
        "-   [SAC](https://arxiv.org/abs/1801.01290).\n",
        "\n",
        "The DQN agent can be used in any environment which has a discrete action space.\n",
        "\n",
        "At the heart of a DQN Agent is a `QNetwork`, a neural network model that can learn to predict `QValues` (expected returns) for all actions, given an observation from the environment.\n",
        "\n",
        "Use `tf_agents.networks.q_network` to create a `QNetwork`, passing in the `observation_spec`, `action_spec`, and a tuple describing the number and size of the model's hidden layers.\n"
      ]
    },
    {
      "cell_type": "code",
      "metadata": {
        "id": "TgkdEPg_muzV"
      },
      "source": [
        "fc_layer_params = (100,)\n",
        "\n",
        "q_net = q_network.QNetwork(\n",
        "    train_env.observation_spec(),\n",
        "    train_env.action_spec(),\n",
        "    fc_layer_params=fc_layer_params)"
      ],
      "execution_count": null,
      "outputs": []
    },
    {
      "cell_type": "markdown",
      "metadata": {
        "id": "z62u55hSmviJ"
      },
      "source": [
        "Now use `tf_agents.agents.dqn.dqn_agent` to instantiate a `DqnAgent`. In addition to the `time_step_spec`, `action_spec` and the QNetwork, the agent constructor also requires an optimizer (in this case, `AdamOptimizer`), a loss function, and an integer step counter."
      ]
    },
    {
      "cell_type": "code",
      "metadata": {
        "id": "jbY4yrjTEyc9"
      },
      "source": [
        "optimizer = tf.compat.v1.train.AdamOptimizer(learning_rate=learning_rate)\n",
        "\n",
        "train_step_counter = tf.Variable(0)\n",
        "\n",
        "agent = dqn_agent.DqnAgent(\n",
        "    train_env.time_step_spec(),\n",
        "    train_env.action_spec(),\n",
        "    q_network=q_net,\n",
        "    optimizer=optimizer,\n",
        "    td_errors_loss_fn=common.element_wise_squared_loss,\n",
        "    train_step_counter=train_step_counter)\n",
        "\n",
        "agent.initialize()"
      ],
      "execution_count": null,
      "outputs": []
    },
    {
      "cell_type": "markdown",
      "metadata": {
        "id": "I0KLrEPwkn5x"
      },
      "source": [
        "## Policies\n",
        "\n",
        "A policy defines the way an agent acts in an environment. Typically, the goal of reinforcement learning is to train the underlying model until the policy produces the desired outcome.\n",
        "\n",
        "In this tutorial:\n",
        "\n",
        "-   The desired outcome is keeping the pole balanced upright over the cart.\n",
        "-   The policy returns an action (left or right) for each `time_step` observation.\n",
        "\n",
        "Agents contain two policies: \n",
        "\n",
        "-   `agent.policy` — The main policy that is used for evaluation and deployment.\n",
        "-   `agent.collect_policy` — A second policy that is used for data collection.\n"
      ]
    },
    {
      "cell_type": "code",
      "metadata": {
        "id": "BwY7StuMkuV4"
      },
      "source": [
        "eval_policy = agent.policy\n",
        "collect_policy = agent.collect_policy"
      ],
      "execution_count": null,
      "outputs": []
    },
    {
      "cell_type": "markdown",
      "metadata": {
        "id": "2Qs1Fl3dV0ae"
      },
      "source": [
        "Policies can be created independently of agents. For example, use `tf_agents.policies.random_tf_policy` to create a policy which will randomly select an action for each `time_step`."
      ]
    },
    {
      "cell_type": "code",
      "metadata": {
        "id": "HE37-UCIrE69"
      },
      "source": [
        "random_policy = random_tf_policy.RandomTFPolicy(train_env.time_step_spec(),\n",
        "                                                train_env.action_spec())"
      ],
      "execution_count": null,
      "outputs": []
    },
    {
      "cell_type": "markdown",
      "metadata": {
        "id": "dOlnlRRsUbxP"
      },
      "source": [
        "To get an action from a policy, call the `policy.action(time_step)` method. The `time_step` contains the observation from the environment. This method returns a `PolicyStep`, which is a named tuple with three components:\n",
        "\n",
        "-   `action` — the action to be taken (in this case, `0` or `1`)\n",
        "-   `state` — used for stateful (that is, RNN-based) policies\n",
        "-   `info` — auxiliary data, such as log probabilities of actions"
      ]
    },
    {
      "cell_type": "code",
      "metadata": {
        "id": "5gCcpXswVAxk"
      },
      "source": [
        "example_environment = tf_py_environment.TFPyEnvironment(\n",
        "    suite_gym.load('CartPole-v0'))"
      ],
      "execution_count": null,
      "outputs": []
    },
    {
      "cell_type": "code",
      "metadata": {
        "id": "D4DHZtq3Ndis"
      },
      "source": [
        "time_step = example_environment.reset()"
      ],
      "execution_count": null,
      "outputs": []
    },
    {
      "cell_type": "code",
      "metadata": {
        "id": "PRFqAUzpNaAW",
        "colab": {
          "base_uri": "https://localhost:8080/"
        },
        "outputId": "4037148a-b704-421b-fab5-79659cbb6ad8"
      },
      "source": [
        "random_policy.action(time_step)"
      ],
      "execution_count": null,
      "outputs": [
        {
          "output_type": "execute_result",
          "data": {
            "text/plain": [
              "PolicyStep(action=<tf.Tensor: shape=(1,), dtype=int64, numpy=array([0])>, state=(), info=())"
            ]
          },
          "metadata": {
            "tags": []
          },
          "execution_count": 23
        }
      ]
    },
    {
      "cell_type": "markdown",
      "metadata": {
        "id": "94rCXQtbUbXv"
      },
      "source": [
        "## Metrics and Evaluation\n",
        "\n",
        "The most common metric used to evaluate a policy is the average return. The return is the sum of rewards obtained while running a policy in an environment for an episode. Several episodes are run, creating an average return.\n",
        "\n",
        "The following function computes the average return of a policy, given the policy, environment, and a number of episodes.\n"
      ]
    },
    {
      "cell_type": "code",
      "metadata": {
        "id": "bitzHo5_UbXy"
      },
      "source": [
        "#@test {\"skip\": true}\n",
        "def compute_avg_return(environment, policy, num_episodes=10):\n",
        "\n",
        "  total_return = 0.0\n",
        "  for _ in range(num_episodes):\n",
        "\n",
        "    time_step = environment.reset()\n",
        "    episode_return = 0.0\n",
        "\n",
        "    while not time_step.is_last():\n",
        "      action_step = policy.action(time_step)\n",
        "      time_step = environment.step(action_step.action)\n",
        "      episode_return += time_step.reward\n",
        "    total_return += episode_return\n",
        "\n",
        "  avg_return = total_return / num_episodes\n",
        "  return avg_return.numpy()[0]\n",
        "\n",
        "\n",
        "# See also the metrics module for standard implementations of different metrics.\n",
        "# https://github.com/tensorflow/agents/tree/master/tf_agents/metrics"
      ],
      "execution_count": null,
      "outputs": []
    },
    {
      "cell_type": "markdown",
      "metadata": {
        "id": "_snCVvq5Z8lJ"
      },
      "source": [
        "Running this computation on the `random_policy` shows a baseline performance in the environment."
      ]
    },
    {
      "cell_type": "code",
      "metadata": {
        "id": "9bgU6Q6BZ8Bp",
        "colab": {
          "base_uri": "https://localhost:8080/"
        },
        "outputId": "6e61716d-b28d-45cf-b99d-9be4cb1488b7"
      },
      "source": [
        "compute_avg_return(eval_env, random_policy, num_eval_episodes)"
      ],
      "execution_count": null,
      "outputs": [
        {
          "output_type": "execute_result",
          "data": {
            "text/plain": [
              "20.6"
            ]
          },
          "metadata": {
            "tags": []
          },
          "execution_count": 25
        }
      ]
    },
    {
      "cell_type": "markdown",
      "metadata": {
        "id": "NLva6g2jdWgr"
      },
      "source": [
        "## Replay Buffer\n",
        "\n",
        "The replay buffer keeps track of data collected from the environment. This tutorial uses `tf_agents.replay_buffers.tf_uniform_replay_buffer.TFUniformReplayBuffer`, as it is the most common. \n",
        "\n",
        "The constructor requires the specs for the data it will be collecting. This is available from the agent using the `collect_data_spec` method. The batch size and maximum buffer length are also required.\n"
      ]
    },
    {
      "cell_type": "code",
      "metadata": {
        "id": "vX2zGUWJGWAl"
      },
      "source": [
        "replay_buffer = tf_uniform_replay_buffer.TFUniformReplayBuffer(\n",
        "    data_spec=agent.collect_data_spec,\n",
        "    batch_size=train_env.batch_size,\n",
        "    max_length=replay_buffer_max_length)"
      ],
      "execution_count": null,
      "outputs": []
    },
    {
      "cell_type": "markdown",
      "metadata": {
        "id": "ZGNTDJpZs4NN"
      },
      "source": [
        "For most agents, `collect_data_spec` is a named tuple called `Trajectory`, containing the specs for observations, actions, rewards, and other items."
      ]
    },
    {
      "cell_type": "code",
      "metadata": {
        "id": "_IZ-3HcqgE1z",
        "colab": {
          "base_uri": "https://localhost:8080/"
        },
        "outputId": "97b77f79-a6a8-44d7-b4c9-479b373e5a6a"
      },
      "source": [
        "agent.collect_data_spec"
      ],
      "execution_count": null,
      "outputs": [
        {
          "output_type": "execute_result",
          "data": {
            "text/plain": [
              "Trajectory(step_type=TensorSpec(shape=(), dtype=tf.int32, name='step_type'), observation=BoundedTensorSpec(shape=(4,), dtype=tf.float32, name='observation', minimum=array([-4.8000002e+00, -3.4028235e+38, -4.1887903e-01, -3.4028235e+38],\n",
              "      dtype=float32), maximum=array([4.8000002e+00, 3.4028235e+38, 4.1887903e-01, 3.4028235e+38],\n",
              "      dtype=float32)), action=BoundedTensorSpec(shape=(), dtype=tf.int64, name='action', minimum=array(0), maximum=array(1)), policy_info=(), next_step_type=TensorSpec(shape=(), dtype=tf.int32, name='step_type'), reward=TensorSpec(shape=(), dtype=tf.float32, name='reward'), discount=BoundedTensorSpec(shape=(), dtype=tf.float32, name='discount', minimum=array(0., dtype=float32), maximum=array(1., dtype=float32)))"
            ]
          },
          "metadata": {
            "tags": []
          },
          "execution_count": 27
        }
      ]
    },
    {
      "cell_type": "code",
      "metadata": {
        "id": "sy6g1tGcfRlw",
        "colab": {
          "base_uri": "https://localhost:8080/"
        },
        "outputId": "f82865e2-a751-41d8-c112-edfac123f248"
      },
      "source": [
        "agent.collect_data_spec._fields"
      ],
      "execution_count": null,
      "outputs": [
        {
          "output_type": "execute_result",
          "data": {
            "text/plain": [
              "('step_type',\n",
              " 'observation',\n",
              " 'action',\n",
              " 'policy_info',\n",
              " 'next_step_type',\n",
              " 'reward',\n",
              " 'discount')"
            ]
          },
          "metadata": {
            "tags": []
          },
          "execution_count": 28
        }
      ]
    },
    {
      "cell_type": "markdown",
      "metadata": {
        "id": "rVD5nQ9ZGo8_"
      },
      "source": [
        "## Data Collection\n",
        "\n",
        "Now execute the random policy in the environment for a few steps, recording the data in the replay buffer."
      ]
    },
    {
      "cell_type": "code",
      "metadata": {
        "id": "wr1KSAEGG4h9"
      },
      "source": [
        "\n",
        "\n",
        "#@test {\"skip\": true}\n",
        "def collect_step(environment, policy, buffer):\n",
        "  time_step = environment.current_time_step()\n",
        "  action_step = policy.action(time_step)\n",
        "  next_time_step = environment.step(action_step.action)\n",
        "  traj = trajectory.from_transition(time_step, action_step, next_time_step)\n",
        "\n",
        "  # Add trajectory to the replay buffer\n",
        "  buffer.add_batch(traj)\n",
        "\n",
        "def collect_data(env, policy, buffer, steps):\n",
        "  for _ in range(steps):\n",
        "    collect_step(env, policy, buffer)\n",
        "\n",
        "collect_data(train_env, random_policy, replay_buffer, initial_collect_steps)\n",
        "\n",
        "# This loop is so common in RL, that we provide standard implementations. \n",
        "# For more details see the drivers module.\n",
        "# https://www.tensorflow.org/agents/api_docs/python/tf_agents/drivers"
      ],
      "execution_count": null,
      "outputs": []
    },
    {
      "cell_type": "code",
      "metadata": {
        "id": "ba7bilizt_qW"
      },
      "source": [
        "'''Each row of the replay buffer only stores a single observation step.\n",
        " But since the DQN Agent needs both the current and next observation to compute the loss,\n",
        "  the dataset pipeline will sample two adjacent rows for each item in the batch (`num_steps=2`).\n",
        "'''\n",
        "# Dataset generates trajectories with shape [Bx2x...]\n",
        "dataset = replay_buffer.as_dataset(\n",
        "    num_parallel_calls=3, \n",
        "    sample_batch_size=batch_size, \n",
        "    num_steps=2).prefetch(3)\n",
        "\n",
        "# dataset"
      ],
      "execution_count": null,
      "outputs": []
    },
    {
      "cell_type": "code",
      "metadata": {
        "id": "K13AST-2ppOq"
      },
      "source": [
        "iterator = iter(dataset)\n",
        "# print(iterator)\n",
        "# iterator.next()"
      ],
      "execution_count": null,
      "outputs": []
    },
    {
      "cell_type": "markdown",
      "metadata": {
        "id": "hBc9lj9VWWtZ"
      },
      "source": [
        "## Training the agent\n",
        "\n",
        "Two things must happen during the training loop:\n",
        "\n",
        "-   collect data from the environment\n",
        "-   use that data to train the agent's neural network(s)\n",
        "\n",
        "This example also periodicially evaluates the policy and prints the current score.\n",
        "\n",
        "The following will take ~5 minutes to run."
      ]
    },
    {
      "cell_type": "code",
      "metadata": {
        "id": "0pTbJ3PeyF-u",
        "colab": {
          "base_uri": "https://localhost:8080/"
        },
        "outputId": "20eaeeb9-58c6-4117-fbcd-afcec4cfc62d"
      },
      "source": [
        "#@test {\"skip\": true}\n",
        "try:\n",
        "  %%time\n",
        "except:\n",
        "  pass\n",
        "\n",
        "# (Optional) Optimize by wrapping some of the code in a graph using TF function.\n",
        "agent.train = common.function(agent.train)\n",
        "\n",
        "# Reset the train step\n",
        "agent.train_step_counter.assign(0)\n",
        "\n",
        "# Evaluate the agent's policy once before training.\n",
        "avg_return = compute_avg_return(eval_env, agent.policy, num_eval_episodes)\n",
        "returns = [avg_return]\n",
        "\n",
        "for _ in range(num_iterations):\n",
        "\n",
        "  # Collect a few steps using collect_policy and save to the replay buffer.\n",
        "  collect_data(train_env, agent.collect_policy, replay_buffer, collect_steps_per_iteration)\n",
        "\n",
        "  # Sample a batch of data from the buffer and update the agent's network.\n",
        "  experience, unused_info = next(iterator)\n",
        "  train_loss = agent.train(experience).loss\n",
        "\n",
        "  step = agent.train_step_counter.numpy()\n",
        "\n",
        "  if step % log_interval == 0:\n",
        "    print('step = {0}: loss = {1}'.format(step, train_loss))\n",
        "\n",
        "  if step % eval_interval == 0:\n",
        "    avg_return = compute_avg_return(eval_env, agent.policy, num_eval_episodes)\n",
        "    print('step = {0}: Average Return = {1}'.format(step, avg_return))\n",
        "    returns.append(avg_return)"
      ],
      "execution_count": null,
      "outputs": [
        {
          "output_type": "stream",
          "text": [
            "CPU times: user 2 µs, sys: 0 ns, total: 2 µs\n",
            "Wall time: 5.96 µs\n",
            "WARNING:tensorflow:From /usr/local/lib/python3.6/dist-packages/tensorflow/python/util/dispatch.py:201: calling foldr_v2 (from tensorflow.python.ops.functional_ops) with back_prop=False is deprecated and will be removed in a future version.\n",
            "Instructions for updating:\n",
            "back_prop=False is deprecated. Consider using tf.stop_gradient instead.\n",
            "Instead of:\n",
            "results = tf.foldr(fn, elems, back_prop=False)\n",
            "Use:\n",
            "results = tf.nest.map_structure(tf.stop_gradient, tf.foldr(fn, elems))\n",
            "step = 200: loss = 15.717670440673828\n",
            "step = 400: loss = 7.99846887588501\n",
            "step = 600: loss = 1.8435659408569336\n",
            "step = 800: loss = 2.9965100288391113\n",
            "step = 1000: loss = 7.401088237762451\n",
            "step = 1000: Average Return = 196.60000610351562\n",
            "step = 1200: loss = 5.817633628845215\n",
            "step = 1400: loss = 17.356868743896484\n",
            "step = 1600: loss = 36.43368148803711\n",
            "step = 1800: loss = 7.644969463348389\n",
            "step = 2000: loss = 19.75666046142578\n",
            "step = 2000: Average Return = 28.399999618530273\n",
            "step = 2200: loss = 6.4012651443481445\n",
            "step = 2400: loss = 7.48797082901001\n",
            "step = 2600: loss = 16.4782772064209\n",
            "step = 2800: loss = 19.909584045410156\n",
            "step = 3000: loss = 4.930246353149414\n",
            "step = 3000: Average Return = 52.29999923706055\n",
            "step = 3200: loss = 3.368218421936035\n",
            "step = 3400: loss = 5.746806621551514\n",
            "step = 3600: loss = 4.537468910217285\n",
            "step = 3800: loss = 13.021169662475586\n",
            "step = 4000: loss = 10.577078819274902\n",
            "step = 4000: Average Return = 51.29999923706055\n",
            "step = 4200: loss = 2.6793174743652344\n",
            "step = 4400: loss = 7.489712715148926\n",
            "step = 4600: loss = 12.60348129272461\n",
            "step = 4800: loss = 8.399371147155762\n",
            "step = 5000: loss = 11.99040699005127\n",
            "step = 5000: Average Return = 59.400001525878906\n",
            "step = 5200: loss = 49.95100402832031\n",
            "step = 5400: loss = 8.205873489379883\n",
            "step = 5600: loss = 9.705309867858887\n",
            "step = 5800: loss = 51.50138473510742\n",
            "step = 6000: loss = 13.86577320098877\n",
            "step = 6000: Average Return = 156.5\n",
            "step = 6200: loss = 13.005132675170898\n",
            "step = 6400: loss = 27.376026153564453\n",
            "step = 6600: loss = 14.904623985290527\n",
            "step = 6800: loss = 16.613094329833984\n",
            "step = 7000: loss = 22.206480026245117\n",
            "step = 7000: Average Return = 175.3000030517578\n",
            "step = 7200: loss = 4.350131988525391\n",
            "step = 7400: loss = 8.058395385742188\n",
            "step = 7600: loss = 18.21263885498047\n",
            "step = 7800: loss = 7.658088684082031\n",
            "step = 8000: loss = 88.6774673461914\n",
            "step = 8000: Average Return = 172.3000030517578\n",
            "step = 8200: loss = 45.818817138671875\n",
            "step = 8400: loss = 49.10163879394531\n",
            "step = 8600: loss = 72.25933074951172\n",
            "step = 8800: loss = 24.46782112121582\n",
            "step = 9000: loss = 77.96826171875\n",
            "step = 9000: Average Return = 196.0\n",
            "step = 9200: loss = 418.132568359375\n",
            "step = 9400: loss = 45.195003509521484\n",
            "step = 9600: loss = 26.459667205810547\n",
            "step = 9800: loss = 57.69391632080078\n",
            "step = 10000: loss = 21.26910400390625\n",
            "step = 10000: Average Return = 198.5\n",
            "step = 10200: loss = 48.69012451171875\n",
            "step = 10400: loss = 29.053916931152344\n",
            "step = 10600: loss = 28.552993774414062\n",
            "step = 10800: loss = 12.163146018981934\n",
            "step = 11000: loss = 21.822063446044922\n",
            "step = 11000: Average Return = 200.0\n",
            "step = 11200: loss = 251.5485382080078\n",
            "step = 11400: loss = 41.108001708984375\n",
            "step = 11600: loss = 88.33238220214844\n",
            "step = 11800: loss = 257.25457763671875\n",
            "step = 12000: loss = 74.19769287109375\n",
            "step = 12000: Average Return = 200.0\n",
            "step = 12200: loss = 113.6709213256836\n",
            "step = 12400: loss = 148.532470703125\n",
            "step = 12600: loss = 218.5892333984375\n",
            "step = 12800: loss = 302.1637878417969\n",
            "step = 13000: loss = 150.68124389648438\n",
            "step = 13000: Average Return = 200.0\n",
            "step = 13200: loss = 154.5066375732422\n",
            "step = 13400: loss = 39.12127685546875\n",
            "step = 13600: loss = 2378.022705078125\n",
            "step = 13800: loss = 2357.5654296875\n",
            "step = 14000: loss = 240.5665283203125\n",
            "step = 14000: Average Return = 200.0\n",
            "step = 14200: loss = 155.40243530273438\n",
            "step = 14400: loss = 36.725364685058594\n",
            "step = 14600: loss = 55.39347457885742\n",
            "step = 14800: loss = 69.85536193847656\n",
            "step = 15000: loss = 277.6000061035156\n",
            "step = 15000: Average Return = 200.0\n",
            "step = 15200: loss = 32.413841247558594\n",
            "step = 15400: loss = 87.21089172363281\n",
            "step = 15600: loss = 866.7874145507812\n",
            "step = 15800: loss = 1188.923095703125\n",
            "step = 16000: loss = 47.869110107421875\n",
            "step = 16000: Average Return = 200.0\n",
            "step = 16200: loss = 123.62139129638672\n",
            "step = 16400: loss = 283.4949951171875\n",
            "step = 16600: loss = 293.6168212890625\n",
            "step = 16800: loss = 50.46708679199219\n",
            "step = 17000: loss = 1809.15478515625\n",
            "step = 17000: Average Return = 200.0\n",
            "step = 17200: loss = 3904.54833984375\n",
            "step = 17400: loss = 197.76199340820312\n",
            "step = 17600: loss = 86.17501068115234\n",
            "step = 17800: loss = 284.58465576171875\n",
            "step = 18000: loss = 80.18351745605469\n",
            "step = 18000: Average Return = 200.0\n",
            "step = 18200: loss = 115.01344299316406\n",
            "step = 18400: loss = 83.04174041748047\n",
            "step = 18600: loss = 32.04948043823242\n",
            "step = 18800: loss = 824.5545654296875\n",
            "step = 19000: loss = 141.2211151123047\n",
            "step = 19000: Average Return = 200.0\n",
            "step = 19200: loss = 609.724853515625\n",
            "step = 19400: loss = 693.7570190429688\n",
            "step = 19600: loss = 118.49839782714844\n",
            "step = 19800: loss = 186.10006713867188\n",
            "step = 20000: loss = 130.08737182617188\n",
            "step = 20000: Average Return = 200.0\n"
          ],
          "name": "stdout"
        }
      ]
    },
    {
      "cell_type": "code",
      "metadata": {
        "id": "NxtL1mbOYCVO",
        "colab": {
          "base_uri": "https://localhost:8080/",
          "height": 301
        },
        "outputId": "6bb1c3a4-2924-4f50-fde8-dc6451802c5a"
      },
      "source": [
        "#@test {\"skip\": true}\n",
        "\n",
        "iterations = range(0, num_iterations + 1, eval_interval)\n",
        "plt.plot(iterations, returns)\n",
        "plt.ylabel('Average Return')\n",
        "plt.xlabel('Iterations')\n",
        "plt.ylim(top=250)"
      ],
      "execution_count": null,
      "outputs": [
        {
          "output_type": "execute_result",
          "data": {
            "text/plain": [
              "(1.4449995994567875, 250.0)"
            ]
          },
          "metadata": {
            "tags": []
          },
          "execution_count": 35
        },
        {
          "output_type": "display_data",
          "data": {
            "image/png": "[encoded data removed]",
            "text/plain": [
              "<Figure size 432x288 with 1 Axes>"
            ]
          },
          "metadata": {
            "tags": [],
            "needs_background": "light"
          }
        }
      ]
    },
    {
      "cell_type": "code",
      "metadata": {
        "id": "ULaGr8pvOKbl"
      },
      "source": [
        "# Function that will embed video in notebook\n",
        "def embed_mp4(filename):\n",
        "  \"\"\"Embeds an mp4 file in the notebook.\"\"\"\n",
        "  video = open(filename,'rb').read()\n",
        "  b64 = base64.b64encode(video)\n",
        "  tag = '''\n",
        "  <video width=\"640\" height=\"480\" controls>\n",
        "    <source src=\"data:video/mp4;base64,{0}\" type=\"video/mp4\">\n",
        "  Your browser does not support the video tag.\n",
        "  </video>'''.format(b64.decode())\n",
        "\n",
        "  return IPython.display.HTML(tag)\n",
        "\n",
        "# Turn images of the enviroment into video\n",
        "def create_policy_eval_video(policy, filename, num_episodes=5, fps=30):\n",
        "  filename = filename + \".mp4\"\n",
        "  with imageio.get_writer(filename, fps=fps) as video:\n",
        "    for _ in range(num_episodes):\n",
        "      time_step = eval_env.reset()\n",
        "      video.append_data(eval_py_env.render())\n",
        "      while not time_step.is_last():\n",
        "        action_step = policy.action(time_step)\n",
        "        time_step = eval_env.step(action_step.action)\n",
        "        video.append_data(eval_py_env.render())\n",
        "  return embed_mp4(filename)\n",
        "\n",
        "create_policy_eval_video(agent.policy, \"trained-agent\")  "
      ],
      "execution_count": null,
      "outputs": []
    },
    {
      "cell_type": "code",
      "metadata": {
        "id": "owOVWB158NlF",
        "colab": {
          "base_uri": "https://localhost:8080/",
          "height": 539
        },
        "outputId": "41601964-f32b-4f0d-ed30-14bf1929a24f"
      },
      "source": [
        "# Random policy might work sometimes :)\n",
        "create_policy_eval_video(random_policy, \"random-agent\")"
      ],
      "execution_count": null,
      "outputs": [
        {
          "output_type": "stream",
          "text": [
            "WARNING:root:IMAGEIO FFMPEG_WRITER WARNING: input image is not divisible by macro_block_size=16, resizing from (400, 600) to (400, 608) to ensure video compatibility with most codecs and players. To prevent resizing, make your input image divisible by the macro_block_size or set the macro_block_size to None (risking incompatibility). You may also see a FFMPEG warning concerning speedloss due to data not being aligned.\n"
          ],
          "name": "stderr"
        },
        {
          "output_type": "execute_result",
          "data": {
            "text/html": [
              "\n",
              "  <video width=\"640\" height=\"480\" controls>\n",
              "    <source src=\"data:video/mp4;base64,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\" type=\"video/mp4\">\n",
              "  Your browser does not support the video tag.\n",
              "  </video>"
            ],
            "text/plain": [
              "<IPython.core.display.HTML object>"
            ]
          },
          "metadata": {
            "tags": []
          },
          "execution_count": 37
        }
      ]
    },
    {
      "cell_type": "markdown",
      "metadata": {
        "id": "AC5DgeRc7OAq"
      },
      "source": [
        "# Sources:"
      ]
    },
    {
      "cell_type": "code",
      "metadata": {
        "colab": {
          "base_uri": "https://localhost:8080/",
          "height": 35
        },
        "id": "f4y2quY37O1m",
        "outputId": "83c17ef1-5abf-4198-a17d-408e38363413"
      },
      "source": [
        "'''\n",
        "https://github.com/tensorflow/agents/blob/master/docs/tutorials/1_dqn_tutorial.ipynb\n",
        "\n",
        "\n",
        "'''"
      ],
      "execution_count": null,
      "outputs": [
        {
          "output_type": "execute_result",
          "data": {
            "application/vnd.google.colaboratory.intrinsic+json": {
              "type": "string"
            },
            "text/plain": [
              "'\\nhttps://github.com/tensorflow/agents/blob/master/docs/tutorials/1_dqn_tutorial.ipynb\\n\\n\\n'"
            ]
          },
          "metadata": {
            "tags": []
          },
          "execution_count": 39
        }
      ]
    }
  ]
}