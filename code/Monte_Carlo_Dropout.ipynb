{
  "nbformat": 4,
  "nbformat_minor": 0,
  "metadata": {
    "colab": {
      "name": "Monte_Carlo_Dropout.ipynb",
      "provenance": [],
      "collapsed_sections": [],
      "authorship_tag": "ABX9TyMDOsVDm9VDCK7gG4E8W5Sy",
      "include_colab_link": true
    },
    "kernelspec": {
      "name": "python3",
      "display_name": "Python 3"
    }
  },
  "cells": [
    {
      "cell_type": "markdown",
      "metadata": {
        "id": "view-in-github",
        "colab_type": "text"
      },
      "source": [
        "<a href=\"https://colab.research.google.com/github/ashfarhangi/Massive_Storage_and_Big_Data/blob/master/code/Monte_Carlo_Dropout.ipynb\" target=\"_parent\"><img src=\"https://colab.research.google.com/assets/colab-badge.svg\" alt=\"Open In Colab\"/></a>"
      ]
    },
    {
      "cell_type": "code",
      "metadata": {
        "id": "A3Em0mE6yC6K"
      },
      "source": [
        "# Fancy library for visualization if progress bar\n",
        "from tqdm import tqdm\n"
      ],
      "execution_count": 1,
      "outputs": []
    },
    {
      "cell_type": "code",
      "metadata": {
        "id": "NDobYxg-x6dA"
      },
      "source": [
        "# rename mc_model to your model name ()\n",
        "mc_predictions = []\n",
        "for i in tqdm(range(100)):\n",
        "    y_p = mc_model.predict(x_test)\n",
        "    mc_predictions.append(y_p)"
      ],
      "execution_count": null,
      "outputs": []
    },
    {
      "cell_type": "code",
      "metadata": {
        "id": "Qu6lV1JeywTc"
      },
      "source": [
        "# Try to define your own accuracy\n",
        "accs = []\n",
        "for y_p in mc_predictions:\n",
        "    acc = accuracy_score(y_test, y_p)\n",
        "    accs.append(acc)\n",
        "print(\"MC accuracy: {:.1%}\".format(sum(accs)/len(accs)))"
      ],
      "execution_count": null,
      "outputs": []
    },
    {
      "cell_type": "markdown",
      "metadata": {
        "id": "4jNpmMB1y2xF"
      },
      "source": [
        "Reference:\n",
        "\n",
        "\n",
        "1.   https://www.depends-on-the-definition.com/model-uncertainty-in-deep-learning-with-monte-carlo-dropout/\n",
        "2.  https://machinelearningmastery.com/lstm-model-architecture-for-rare-event-time-series-forecasting/\n",
        "\n"
      ]
    }
  ]
}