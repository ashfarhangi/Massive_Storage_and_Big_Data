{
  "nbformat": 4,
  "nbformat_minor": 0,
  "metadata": {
    "colab": {
      "name": "Backpropagation-Hands-on-Math.ipynb",
      "provenance": [],
      "collapsed_sections": [],
      "authorship_tag": "ABX9TyMqEYlt/09CuH36Gx2T8ni6",
      "include_colab_link": true
    },
    "kernelspec": {
      "name": "python3",
      "display_name": "Python 3"
    }
  },
  "cells": [
    {
      "cell_type": "markdown",
      "metadata": {
        "id": "view-in-github",
        "colab_type": "text"
      },
      "source": [
        "<a href=\"https://colab.research.google.com/github/ashfarhangi/Massive_Storage_and_Big_Data/blob/master/code/Backpropagation_Hands_on_Math.ipynb\" target=\"_parent\"><img src=\"https://colab.research.google.com/assets/colab-badge.svg\" alt=\"Open In Colab\"/></a>"
      ]
    },
    {
      "cell_type": "markdown",
      "metadata": {
        "id": "8UVqad5Y42SE"
      },
      "source": [
        "# Question:\n",
        "Download this document for further explanation:"
      ]
    },
    {
      "cell_type": "markdown",
      "metadata": {
        "id": "ux84ZYCx45z9"
      },
      "source": [
        "https://github.com/ashfarhangi/Massive_Storage_and_Big_Data/raw/master/Deep_Learning_Hands_Math.pdf"
      ]
    },
    {
      "cell_type": "code",
      "metadata": {
        "id": "ldby-O2OXQWf"
      },
      "source": [
        "import numpy as np\n",
        "import math"
      ],
      "execution_count": 174,
      "outputs": []
    },
    {
      "cell_type": "code",
      "metadata": {
        "id": "uc6M7zFFaAW1",
        "outputId": "a0e9a021-853d-49ce-f989-1c97293a1834",
        "colab": {
          "base_uri": "https://localhost:8080/"
        }
      },
      "source": [
        "def sigmoid(x):\n",
        "  return (1/(1+np.e**-x))\n",
        "\n",
        "def d_e_y(y,y_hat):\n",
        "  return (2*(y-y_hat))\n",
        "\n",
        "def d_y_z(z):\n",
        "  return (sigmoid(z)*(1-sigmoid(z)))\n",
        "\n",
        "def d_z_w(x):\n",
        "  return (x)\n",
        "\n",
        "def d_e_w(y,y_hat,z,x):\n",
        "  return (d_e_y(y,y_hat) * d_y_z(z) * d_z_w(x))\n",
        "def w_update(w,d_e_w,l_r):\n",
        "  return (w-(l_r*d_e_w))\n",
        "def w_update_auto(w,y,y_hat,z,x,l_r):\n",
        "  return (w-(l_r*(d_e_y(y,y_hat) * d_y_z(z) * d_z_w(x))))\n",
        "def error(y1,y1_hat,y2,y2_hat):\n",
        "  sum_error= ((y1-y1_hat)**2)+((y2-y2_hat)**2)\n",
        "  return ((.5)*sum_error)\n",
        "  \n",
        "print('Sigmoid 0: ',str(sigmoid(0)))\n",
        "print('d_e_y 0.5, 0: ',str(d_e_y(.5,0)))\n",
        "print('d_y_z 0.5, 0: ',str(d_y_z(0)))\n",
        "print('error 0.5, 0: ',str(error(0.5,1,0.5,0)))\n",
        "print('d_e_w 0.5,0,0,0.5: ',str(d_e_w(0.5,1,0,0.5)))\n",
        "print('w_update 0: ',str(w_update(0,-0.125,1)))\n",
        "print('w_update_auto 0: ',str(w_update_auto(0,0.5,1,0,0.5,1)))\n"
      ],
      "execution_count": 175,
      "outputs": [
        {
          "output_type": "stream",
          "text": [
            "Sigmoid 0:  0.5\n",
            "d_e_y 0.5, 0:  1.0\n",
            "d_y_z 0.5, 0:  0.25\n",
            "error 0.5, 0:  0.25\n",
            "d_e_w 0.5,0,0,0.5:  -0.125\n",
            "w_update 0:  0.125\n",
            "w_update_auto 0:  0.125\n"
          ],
          "name": "stdout"
        }
      ]
    },
    {
      "cell_type": "code",
      "metadata": {
        "id": "_rK7-gRhgZN4",
        "outputId": "bfd72708-f810-4b33-dd6e-40707e03c328",
        "colab": {
          "base_uri": "https://localhost:8080/"
        }
      },
      "source": [
        "def z_output(w,x):\n",
        "  return w * x\n",
        "def d_z_y(w):\n",
        "  return(w)\n",
        "def w_update_hidden(w,y1,y1_hat,y2,y2_hat,z,x,w_1_updated,w_2_updated,l_r):\n",
        "  d_e_y_1 = d_e_y(y1,y1_hat)\n",
        "  d_e_y_2 = d_e_y(y2,y2_hat)\n",
        "  print(d_e_y_1,d_e_y_2)\n",
        "  z_output_1 = z_output(w_1_updated,y1)\n",
        "  z_output_2 = z_output(w_2_updated,y2)\n",
        "  print('z_output1_2:',str(z_output_1),str(z_output_2))\n",
        "  d_y_z_1 = d_y_z(z_output_1)\n",
        "  d_y_z_2 = d_y_z(z_output_2)\n",
        "  print('d_y_z_output1_2',str(d_y_z_1),str(d_y_z_2))\n",
        "  d_z_y_1 = d_z_y(w_1_updated)\n",
        "  \n",
        "  d_z_y_2 = d_z_y(w_2_updated)\n",
        "  print(d_z_y_1,d_z_y_2)\n",
        "  d_e_y_sum = ((d_e_y_1*d_y_z_1*d_z_y_1)+ (d_e_y_2*d_y_z_2*d_z_y_2))\n",
        "  print((d_e_y_1*d_y_z_1*d_z_y_1),(d_e_y_2*d_y_z_2*d_z_y_2))\n",
        "  print(d_e_y_sum)\n",
        "  d_e_w_hidden = ( d_e_y_sum* d_y_z(z) * d_z_w(x))\n",
        "  print(d_e_w_hidden)\n",
        "  return (w-(l_r*(d_e_w_hidden)))\n",
        "\n",
        "print('hidden layer update w1: ',str(w_update_hidden(0,0.5,1,0.5,0,0,5,0.125,-0.125,1)))"
      ],
      "execution_count": 177,
      "outputs": [
        {
          "output_type": "stream",
          "text": [
            "-1.0 1.0\n",
            "z_output1_2: 0.0625 -0.0625\n",
            "d_y_z_output1_2 0.24975601823280588 0.24975601823280588\n",
            "0.125 -0.125\n",
            "-0.031219502279100735 -0.031219502279100735\n",
            "-0.06243900455820147\n",
            "-0.07804875569775184\n",
            "hidden layer update w1:  0.07804875569775184\n"
          ],
          "name": "stdout"
        }
      ]
    },
    {
      "cell_type": "code",
      "metadata": {
        "id": "Gfb7fZURrpxp",
        "outputId": "e8bd19d0-5215-4cbe-e4c1-07da5d831bc2",
        "colab": {
          "base_uri": "https://localhost:8080/"
        }
      },
      "source": [
        "print('hidden layer update w2: ',str(w_update_hidden(0,0.5,1,0.5,0,0,5,0.125,-0.125,1)))"
      ],
      "execution_count": 178,
      "outputs": [
        {
          "output_type": "stream",
          "text": [
            "-1.0 1.0\n",
            "z_output1_2: 0.0625 -0.0625\n",
            "d_y_z_output1_2 0.24975601823280588 0.24975601823280588\n",
            "0.125 -0.125\n",
            "-0.031219502279100735 -0.031219502279100735\n",
            "-0.06243900455820147\n",
            "-0.07804875569775184\n",
            "hidden layer update w2:  0.07804875569775184\n"
          ],
          "name": "stdout"
        }
      ]
    },
    {
      "cell_type": "code",
      "metadata": {
        "id": "Amweb5Byq3bO",
        "outputId": "d752137f-4a64-496d-af53-bd5ad6a8fdf9",
        "colab": {
          "base_uri": "https://localhost:8080/"
        }
      },
      "source": [
        "print('hidden layer update w3: ',str(w_update_hidden(0,0.5,1,0.5,0,0,2,0.125,-0.125,1)))"
      ],
      "execution_count": 179,
      "outputs": [
        {
          "output_type": "stream",
          "text": [
            "-1.0 1.0\n",
            "z_output1_2: 0.0625 -0.0625\n",
            "d_y_z_output1_2 0.24975601823280588 0.24975601823280588\n",
            "0.125 -0.125\n",
            "-0.031219502279100735 -0.031219502279100735\n",
            "-0.06243900455820147\n",
            "-0.031219502279100735\n",
            "hidden layer update w3:  0.031219502279100735\n"
          ],
          "name": "stdout"
        }
      ]
    },
    {
      "cell_type": "code",
      "metadata": {
        "id": "KJcDhk78qEMJ",
        "outputId": "bf927328-628a-4e3f-b872-fc4c0bfb39ff",
        "colab": {
          "base_uri": "https://localhost:8080/"
        }
      },
      "source": [
        "print('hidden layer update w4: ',str(w_update_hidden(0,0.5,1,0.5,0,0,2,0.125,-0.125,1)))"
      ],
      "execution_count": 180,
      "outputs": [
        {
          "output_type": "stream",
          "text": [
            "-1.0 1.0\n",
            "z_output1_2: 0.0625 -0.0625\n",
            "d_y_z_output1_2 0.24975601823280588 0.24975601823280588\n",
            "0.125 -0.125\n",
            "-0.031219502279100735 -0.031219502279100735\n",
            "-0.06243900455820147\n",
            "-0.031219502279100735\n",
            "hidden layer update w4:  0.031219502279100735\n"
          ],
          "name": "stdout"
        }
      ]
    },
    {
      "cell_type": "code",
      "metadata": {
        "id": "H7qJyx4hzJ-V"
      },
      "source": [
        "W_1 = 0.078\n",
        "W_2 = 0.078\n",
        "W_3 = 0.031\n",
        "W_4 = 0.031\n",
        "W_5 = 0.125\n",
        "W_6 = -0.125\n",
        "W_7 = 0.125\n",
        "W_8 = -0.125"
      ],
      "execution_count": 181,
      "outputs": []
    },
    {
      "cell_type": "markdown",
      "metadata": {
        "id": "gzFUiJapz5tA"
      },
      "source": [
        "\n"
      ]
    },
    {
      "cell_type": "code",
      "metadata": {
        "id": "Jce6XhHN1uQQ"
      },
      "source": [
        "def error_simple(x1,x2,y1,y1_hat,y2,y2_hat):\n",
        "  sum_error= ((y1-y1_hat)**2)+((y2-y2_hat)**2)\n",
        "  return ((.5)*sum_error)\n",
        "def error_advanced(x1,x2,w1,w2,w3,w4,w5,w6,w7,w8,y1_hat,y2_hat):\n",
        "  y1 = sigmoid(x1*w1+x2*w3)\n",
        "  y2 = sigmoid(x1*w2+x2*w4)\n",
        "  y3 = sigmoid(y1*w5+y2*w7)\n",
        "  y4 = sigmoid(y1*w6+y2*w8)\n",
        "  error_sum = ( (y3-y1_hat)**2 + (y4-y2_hat)**2 )\n",
        "  return (0.5 * error_sum)\n",
        "  "
      ],
      "execution_count": 184,
      "outputs": []
    },
    {
      "cell_type": "code",
      "metadata": {
        "id": "hRLxlRhj0miv",
        "outputId": "96df6604-c702-4e07-e08a-a11fff24f05b",
        "colab": {
          "base_uri": "https://localhost:8080/"
        }
      },
      "source": [
        "init_error = error_simple(5,2,0.5,1,0.5,0)\n",
        "print('Initial error: ',str(INIT_ERROR))\n",
        "updated_w_5_w8_layer_error = error_simple(5,2,0.53,1,0.46,0)\n",
        "print('One layer backpropagation error: ',str(updated_w_5_w8_layer_error),'Error reduces by: ',str(1-(updated_w_5_w8_layer_error/init_error)),'%')\n",
        "updated_w_1_w8_layer_error = error_advanced(5,2,W_1,W_2,W_3,W_4,W_5,W_6,W_7,W_8,1,0)\n",
        "print('Second layer backpropagation error: ',str(updated_w_1_w8_layer_error),'Error reduces by: ',str(1-(updated_w_1_w8_layer_error/init_error)),'%')\n",
        "\n"
      ],
      "execution_count": 185,
      "outputs": [
        {
          "output_type": "stream",
          "text": [
            "Initial error:  0.25\n",
            "One layer backpropagation error:  0.21625 Error reduces by:  0.135 %\n",
            "Second layer backpropagation error:  0.2133326304118379 Error reduces by:  0.14666947835264843 %\n"
          ],
          "name": "stdout"
        }
      ]
    },
    {
      "cell_type": "markdown",
      "metadata": {
        "id": "EajBT2Ry36CJ"
      },
      "source": [
        "# Take home:\n",
        "\n",
        "  1. Guess the best value of w1,...,w8 so that the error gets closer to zero \n",
        "  2. (Advanced) update the code for multiple iterations\n",
        "\n",
        "\n"
      ]
    }
  ]
}