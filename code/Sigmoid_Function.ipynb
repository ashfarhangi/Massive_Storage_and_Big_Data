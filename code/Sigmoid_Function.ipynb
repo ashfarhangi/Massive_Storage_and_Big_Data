{
  "nbformat": 4,
  "nbformat_minor": 0,
  "metadata": {
    "colab": {
      "name": "Sigmoid_Function.ipynb",
      "provenance": [],
      "authorship_tag": "ABX9TyOUWNMDz9k/wvcNGCBDgb5P"
    },
    "kernelspec": {
      "name": "python3",
      "display_name": "Python 3"
    }
  },
  "cells": [
    {
      "cell_type": "markdown",
      "metadata": {
        "id": "zR2Z5wccVFrz"
      },
      "source": [
        "# Sigmoid Function"
      ]
    },
    {
      "cell_type": "code",
      "metadata": {
        "id": "5IdvAhpnUPCh"
      },
      "source": [
        "import numpy as np\n",
        "def sigmoid(x):\n",
        "  return (1/(1+np.e**(-x)))\n"
      ],
      "execution_count": 15,
      "outputs": []
    },
    {
      "cell_type": "markdown",
      "metadata": {
        "id": "friMlizyU4NM"
      },
      "source": [
        "You can use the sigmoid formula above by changing its value as shown below:"
      ]
    },
    {
      "cell_type": "code",
      "metadata": {
        "id": "vQGZugwRUZpj",
        "outputId": "15346414-d033-4b6d-ebf1-9ce6c0abdb9f",
        "colab": {
          "base_uri": "https://localhost:8080/",
          "height": 33
        }
      },
      "source": [
        "sigmoid(0)"
      ],
      "execution_count": 16,
      "outputs": [
        {
          "output_type": "execute_result",
          "data": {
            "text/plain": [
              "0.5"
            ]
          },
          "metadata": {
            "tags": []
          },
          "execution_count": 16
        }
      ]
    },
    {
      "cell_type": "markdown",
      "metadata": {
        "id": "3CFnvaNOVBgT"
      },
      "source": [
        "## Visualization "
      ]
    },
    {
      "cell_type": "code",
      "metadata": {
        "id": "4JTF0WNjUYYm"
      },
      "source": [
        "x = np.arange(-10., 10., 0.5)\n",
        "sig = sigmoid(x)\n"
      ],
      "execution_count": 13,
      "outputs": []
    },
    {
      "cell_type": "code",
      "metadata": {
        "id": "1hz5M9Y7UWiR",
        "outputId": "7d111eae-d5b9-4aaa-ab8b-0af45cca2e47",
        "colab": {
          "base_uri": "https://localhost:8080/",
          "height": 281
        }
      },
      "source": [
        "import matplotlib.pyplot as plt\n",
        "plt.scatter(x,sig)\n",
        "plt.title('Sigmoid Activation Function')\n",
        "plt.show()"
      ],
      "execution_count": 14,
      "outputs": [
        {
          "output_type": "display_data",
          "data": {
            "image/png": "[encoded data removed]",
            "text/plain": [
              "<Figure size 432x288 with 1 Axes>"
            ]
          },
          "metadata": {
            "tags": [],
            "needs_background": "light"
          }
        }
      ]
    }
  ]
}