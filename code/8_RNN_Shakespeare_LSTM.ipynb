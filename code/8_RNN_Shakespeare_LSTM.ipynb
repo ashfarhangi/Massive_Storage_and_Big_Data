{
  "nbformat": 4,
  "nbformat_minor": 0,
  "metadata": {
    "colab": {
      "name": "8_RNN_Shakespeare_LSTM.ipynb",
      "provenance": [],
      "collapsed_sections": [],
      "authorship_tag": "ABX9TyOn6L+cAUT/N0Aansy2ly0F"
    },
    "kernelspec": {
      "name": "python3",
      "display_name": "Python 3"
    },
    "accelerator": "GPU"
  },
  "cells": [
    {
      "cell_type": "code",
      "metadata": {
        "id": "oCAqxGQtUfTD"
      },
      "source": [
        "# keras module for building LSTM \n",
        "from keras.preprocessing.sequence import pad_sequences\n",
        "from keras.layers import Embedding, LSTM, Dense, Dropout\n",
        "from keras.preprocessing.text import Tokenizer\n",
        "from keras.callbacks import ModelCheckpoint\n",
        "from keras.models import Sequential\n",
        "import keras.utils as ku \n",
        "\n",
        "# set seeds for reproducability\n",
        "from numpy.random import seed\n",
        "seed(1)\n",
        "\n",
        "import pandas as pd\n",
        "import numpy as np\n",
        "import string, os \n",
        "\n",
        "import warnings\n",
        "warnings.filterwarnings(\"ignore\")\n",
        "warnings.simplefilter(action='ignore', category=FutureWarning)"
      ],
      "execution_count": 2,
      "outputs": []
    },
    {
      "cell_type": "code",
      "metadata": {
        "id": "wCs5wBdKUXaq",
        "outputId": "dae5c2da-76b2-484b-f425-d105ee9826e1",
        "colab": {
          "base_uri": "https://localhost:8080/"
        }
      },
      "source": [
        "play_df = pd.read_csv('https://raw.githubusercontent.com/ashfarhangi/Massive_Storage_and_Big_Data/master/data/Shakespeare_data.csv')\n",
        "play_df\n",
        "all_lines = [h for h in play_df.PlayerLine]\n",
        "\n",
        "print(len(all_lines))"
      ],
      "execution_count": 3,
      "outputs": [
        {
          "output_type": "stream",
          "text": [
            "111396\n"
          ],
          "name": "stdout"
        }
      ]
    },
    {
      "cell_type": "code",
      "metadata": {
        "id": "pdQxqnQrVegI",
        "outputId": "b1b5626f-b066-43ca-b268-7a6cc4731e5d",
        "colab": {
          "base_uri": "https://localhost:8080/"
        }
      },
      "source": [
        "def clean_text(txt):\n",
        "    txt = \"\".join(v for v in txt if v not in string.punctuation).lower()\n",
        "    txt = txt.encode(\"utf8\").decode(\"ascii\",'ignore')\n",
        "    return txt \n",
        "\n",
        "corpus = [clean_text(x) for x in all_lines]\n",
        "corpus[:10]"
      ],
      "execution_count": 4,
      "outputs": [
        {
          "output_type": "execute_result",
          "data": {
            "text/plain": [
              "['act i',\n",
              " 'scene i london the palace',\n",
              " 'enter king henry lord john of lancaster the earl of westmoreland sir walter blunt and others',\n",
              " 'so shaken as we are so wan with care',\n",
              " 'find we a time for frighted peace to pant',\n",
              " 'and breathe shortwinded accents of new broils',\n",
              " 'to be commenced in strands afar remote',\n",
              " 'no more the thirsty entrance of this soil',\n",
              " 'shall daub her lips with her own childrens blood',\n",
              " 'nor more shall trenching war channel her fields']"
            ]
          },
          "metadata": {
            "tags": []
          },
          "execution_count": 4
        }
      ]
    },
    {
      "cell_type": "code",
      "metadata": {
        "id": "3vHJXbZ0EL8b",
        "outputId": "f4bfb0cd-a24f-4d9e-bc2d-464e6288e13f",
        "colab": {
          "base_uri": "https://localhost:8080/"
        }
      },
      "source": [
        "tokenizer = Tokenizer()\n",
        "\n",
        "def get_sequence_of_tokens(corpus):\n",
        "    ## tokenization\n",
        "    corpus = corpus[:7000]\n",
        "    tokenizer.fit_on_texts(corpus)\n",
        "    total_words = len(tokenizer.word_index) + 1\n",
        "    \n",
        "    ## convert data to sequence of tokens \n",
        "    input_sequences = []\n",
        "    for line in corpus:\n",
        "        token_list = tokenizer.texts_to_sequences([line])[0]\n",
        "        for i in range(1, len(token_list)):\n",
        "            n_gram_sequence = token_list[:i+1]\n",
        "            input_sequences.append(n_gram_sequence)\n",
        "    return input_sequences, total_words\n",
        "\n",
        "inp_sequences, total_words = get_sequence_of_tokens(corpus)\n",
        "inp_sequences[:10]"
      ],
      "execution_count": 5,
      "outputs": [
        {
          "output_type": "execute_result",
          "data": {
            "text/plain": [
              "[[523, 4],\n",
              " [142, 4],\n",
              " [142, 4, 339],\n",
              " [142, 4, 339, 1],\n",
              " [142, 4, 339, 1, 670],\n",
              " [53, 41],\n",
              " [53, 41, 84],\n",
              " [53, 41, 84, 29],\n",
              " [53, 41, 84, 29, 124],\n",
              " [53, 41, 84, 29, 124, 3]]"
            ]
          },
          "metadata": {
            "tags": []
          },
          "execution_count": 5
        }
      ]
    },
    {
      "cell_type": "code",
      "metadata": {
        "id": "v0tJ3PkfENuR",
        "outputId": "56d57db0-c0b8-432e-8fc6-def1c0aa315a",
        "colab": {
          "base_uri": "https://localhost:8080/"
        }
      },
      "source": [
        "def generate_padded_sequences(input_sequences):\n",
        "    max_sequence_len = max([len(x) for x in input_sequences])\n",
        "    input_sequences = np.array(pad_sequences(input_sequences, maxlen=max_sequence_len, padding='pre'))\n",
        "    \n",
        "    predictors, label = input_sequences[:,:-1],input_sequences[:,-1]\n",
        "    label = ku.to_categorical(label, num_classes=total_words)\n",
        "    return predictors, label, max_sequence_len\n",
        "\n",
        "predictors, label, max_sequence_len = generate_padded_sequences(inp_sequences)\n",
        "predictors.shape, label.shape"
      ],
      "execution_count": 6,
      "outputs": [
        {
          "output_type": "execute_result",
          "data": {
            "text/plain": [
              "((45584, 33), (45584, 6543))"
            ]
          },
          "metadata": {
            "tags": []
          },
          "execution_count": 6
        }
      ]
    },
    {
      "cell_type": "code",
      "metadata": {
        "id": "iYTcLpgWEPZS",
        "outputId": "12ed293b-6f4e-4d1d-cc1e-6d9e95f32a60",
        "colab": {
          "base_uri": "https://localhost:8080/"
        }
      },
      "source": [
        "def create_model(max_sequence_len, total_words):\n",
        "    input_len = max_sequence_len - 1\n",
        "    model = Sequential()\n",
        "    \n",
        "    # Add Input Embedding Layer\n",
        "    model.add(Embedding(total_words, 10, input_length=input_len))\n",
        "    \n",
        "    # Add Hidden Layer 1 - LSTM Layer\n",
        "    model.add(LSTM(512))\n",
        "    \n",
        "    # Add Output Layer\n",
        "    model.add(Dense(total_words, activation='sigmoid'))\n",
        "\n",
        "    model.compile(loss='categorical_crossentropy', optimizer='sgd')\n",
        "    \n",
        "    return model\n",
        "\n",
        "model = create_model(max_sequence_len, total_words)\n",
        "model.summary()"
      ],
      "execution_count": 7,
      "outputs": [
        {
          "output_type": "stream",
          "text": [
            "Model: \"sequential\"\n",
            "_________________________________________________________________\n",
            "Layer (type)                 Output Shape              Param #   \n",
            "=================================================================\n",
            "embedding (Embedding)        (None, 33, 10)            65430     \n",
            "_________________________________________________________________\n",
            "lstm (LSTM)                  (None, 512)               1071104   \n",
            "_________________________________________________________________\n",
            "dense (Dense)                (None, 6543)              3356559   \n",
            "=================================================================\n",
            "Total params: 4,493,093\n",
            "Trainable params: 4,493,093\n",
            "Non-trainable params: 0\n",
            "_________________________________________________________________\n"
          ],
          "name": "stdout"
        }
      ]
    },
    {
      "cell_type": "code",
      "metadata": {
        "id": "Jc7xvvNbESWp",
        "outputId": "1997cea0-af5e-4581-bf61-f2da80f6e32e",
        "colab": {
          "base_uri": "https://localhost:8080/"
        }
      },
      "source": [
        "model.fit(predictors, label, epochs=2, verbose=1)"
      ],
      "execution_count": 8,
      "outputs": [
        {
          "output_type": "stream",
          "text": [
            "Epoch 1/2\n",
            "1425/1425 [==============================] - 9s 6ms/step - loss: 8.7736\n",
            "Epoch 2/2\n",
            "1425/1425 [==============================] - 9s 6ms/step - loss: 8.7394\n"
          ],
          "name": "stdout"
        },
        {
          "output_type": "execute_result",
          "data": {
            "text/plain": [
              "<tensorflow.python.keras.callbacks.History at 0x7f24f6696ef0>"
            ]
          },
          "metadata": {
            "tags": []
          },
          "execution_count": 8
        }
      ]
    },
    {
      "cell_type": "code",
      "metadata": {
        "id": "s8lhi-VyEUpS",
        "outputId": "8774c60a-ac94-442c-fbc0-b9b172277281",
        "colab": {
          "base_uri": "https://localhost:8080/"
        }
      },
      "source": [
        "model.fit(predictors, label, epochs=20, verbose=2)"
      ],
      "execution_count": null,
      "outputs": [
        {
          "output_type": "stream",
          "text": [
            "Epoch 1/20\n",
            "1425/1425 - 8s - loss: 8.5448\n",
            "Epoch 2/20\n",
            "1425/1425 - 8s - loss: 8.3918\n",
            "Epoch 3/20\n",
            "1425/1425 - 8s - loss: 8.2754\n",
            "Epoch 4/20\n",
            "1425/1425 - 8s - loss: 8.1367\n",
            "Epoch 5/20\n",
            "1425/1425 - 8s - loss: 7.9726\n",
            "Epoch 6/20\n",
            "1425/1425 - 8s - loss: 7.8031\n",
            "Epoch 7/20\n",
            "1425/1425 - 8s - loss: 7.6475\n",
            "Epoch 8/20\n",
            "1425/1425 - 8s - loss: 7.5126\n",
            "Epoch 9/20\n",
            "1425/1425 - 8s - loss: 7.3980\n",
            "Epoch 10/20\n",
            "1425/1425 - 8s - loss: 7.3014\n",
            "Epoch 11/20\n",
            "1425/1425 - 8s - loss: 7.2203\n",
            "Epoch 12/20\n",
            "1425/1425 - 8s - loss: 7.1537\n",
            "Epoch 13/20\n"
          ],
          "name": "stdout"
        }
      ]
    },
    {
      "cell_type": "code",
      "metadata": {
        "id": "C4fpu-QnEXwc"
      },
      "source": [
        "model.fit(predictors, label, epochs=20, verbose=0)"
      ],
      "execution_count": null,
      "outputs": []
    },
    {
      "cell_type": "markdown",
      "metadata": {
        "id": "qzh5HIgzEawT"
      },
      "source": [
        "# Generation"
      ]
    },
    {
      "cell_type": "code",
      "metadata": {
        "id": "AZGe2i4FEb9x"
      },
      "source": [
        "def generate_text(seed_text, next_words, model, max_sequence_len):\n",
        "    for _ in range(next_words):\n",
        "        token_list = tokenizer.texts_to_sequences([seed_text])[0]\n",
        "        token_list = pad_sequences([token_list], maxlen=max_sequence_len-1, padding='pre')\n",
        "        predicted = model.predict_classes(token_list, verbose=0)\n",
        "        \n",
        "        output_word = \"\"\n",
        "        for word,index in tokenizer.word_index.items():\n",
        "            if index == predicted:\n",
        "                output_word = word\n",
        "                break\n",
        "        seed_text += \" \"+output_word\n",
        "    return seed_text.title()"
      ],
      "execution_count": null,
      "outputs": []
    },
    {
      "cell_type": "code",
      "metadata": {
        "id": "DclAf4hTEdmZ"
      },
      "source": [
        "print (\"1. \",generate_text(\"Julius\", 20, model, max_sequence_len))\n",
        "print (\"2. \",generate_text(\"Thou\", 20, model, max_sequence_len))\n",
        "print (\"3. \",generate_text(\"King is\", 20, model, max_sequence_len))\n",
        "print (\"4. \",generate_text(\"Death of\", 20, model, max_sequence_len))\n",
        "print (\"5. \",generate_text(\"The Princess\", 20, model, max_sequence_len))\n",
        "print (\"6. \",generate_text(\"Thanos\", 20, model, max_sequence_len))"
      ],
      "execution_count": null,
      "outputs": []
    }
  ]
}